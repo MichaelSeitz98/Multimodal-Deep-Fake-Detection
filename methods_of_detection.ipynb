{
 "cells": [
  {
   "attachments": {},
   "cell_type": "markdown",
   "metadata": {},
   "source": [
    "In diesem Notebook wird der Datensatz base_fake_real.csv verwendet und untersucht wie man Fake-Reviews von Echten Reviews unterscheiden kann."
   ]
  },
  {
   "cell_type": "code",
   "execution_count": null,
   "metadata": {},
   "outputs": [],
   "source": [
    "import pandas as pd\n",
    "import numpy as np\n",
    "import matplotlib.pyplot as plt\n",
    "import os\n",
    "import urllib\n",
    "from fastai.vision.all import *\n",
    "from fastdownload import download_url"
   ]
  },
  {
   "attachments": {},
   "cell_type": "markdown",
   "metadata": {},
   "source": [
    "## Text:\n",
    "\n",
    "Über Sprach-Features aus PNLP"
   ]
  },
  {
   "attachments": {},
   "cell_type": "markdown",
   "metadata": {},
   "source": [
    "## Bild:\n",
    "Erkennung, ob das Bild ein Fake ist oder nicht über eine Bildklassifizierung."
   ]
  },
  {
   "cell_type": "code",
   "execution_count": null,
   "metadata": {},
   "outputs": [],
   "source": [
    "df = pd.read_csv('base_keywords_sentiment_reduced.csv')\n",
    "print(df.shape)\n",
    "\n",
    "df_all = pd.read_csv('01_Data/raw_data/dataset_weitere_forschung.csv')\n",
    "print(df_all.shape)\n",
    "\n",
    "df_all = df_all[['text', 'reviewId', 'url', 'placeId', 'categoryName', 'stars', 'title','reviewImageUrls/0','reviewImageUrls/1','reviewImageUrls/2','reviewImageUrls/3','reviewImageUrls/4','reviewImageUrls/5','genre']]\n",
    "df_all = df_all[df_all['reviewImageUrls/0'].notna()]\n",
    "print(df_all.shape)\n",
    "df_all = df_all[~df_all['reviewId'].isin(df['reviewId'])]\n",
    "print(df_all.shape)\n",
    "print(df_all.columns)\n",
    "\n",
    "image_urls_cols = [\n",
    "    \"reviewImageUrls/0\",\n",
    "    \"reviewImageUrls/1\",\n",
    "    \"reviewImageUrls/2\",\n",
    "    \"reviewImageUrls/3\",\n",
    "    \"reviewImageUrls/4\",\n",
    "    \"reviewImageUrls/5\",\n",
    "]\n",
    "for col in image_urls_cols:\n",
    "    print(f\"Processing col {col}\")\n",
    "    df_all[col] = df_all[col].str.replace(\"=w150-h150-k-no-p\", \"=w256-h256-p-k-no\")\n",
    "\n",
    "print(df_all.shape)\n",
    "\n",
    "# df_all.to_csv('train_weitere_forschung_ohne_base.csv', index=False)\n",
    "# df_all.to_excel('train_weitere_forschung_ohne_base.xlsx', index=False)"
   ]
  },
  {
   "cell_type": "code",
   "execution_count": null,
   "metadata": {},
   "outputs": [],
   "source": [
    "df = pd.read_csv('train_weitere_forschung_ohne_base.csv')\n",
    "\n",
    "df = df.sample(n=500, random_state=9)\n",
    "# df = df.sample(n=1000, random_state=42)\n",
    "df = df.sort_index()\n",
    "\n",
    "for index, row in df.iterrows():\n",
    "    if index < 0:\n",
    "        print(f\"Index {index} schon heruntergeladen, skipped ..\")\n",
    "        continue\n",
    "    for i in range(2):\n",
    "        if not pd.isna(row[f'reviewImageUrls/{i}']):\n",
    "            print(f\"Downloading image for {index}...\")\n",
    "            url = row[f'reviewImageUrls/{i}']\n",
    "            filename = f\"{url.split('/')[-1]}.png\"\n",
    "            path = os.path.join('02_Images', 'train', 'real', filename)\n",
    "            if not os.path.exists(path):\n",
    "                try:\n",
    "                    urllib.request.urlretrieve(url, path)\n",
    "                except:\n",
    "                    print(f'Error with {url}')\n",
    "\n",
    "print(\"Done with downloading real images for training set.\")"
   ]
  },
  {
   "cell_type": "code",
   "execution_count": null,
   "metadata": {},
   "outputs": [],
   "source": [
    "# dwonlad for every row the file of column \n",
    "\n",
    "# f"
   ]
  },
  {
   "attachments": {},
   "cell_type": "markdown",
   "metadata": {},
   "source": [
    "### Start Umsetzung mit FASTAI visual Learning als Classifizierung Problem (AUF COLAB!)"
   ]
  },
  {
   "cell_type": "code",
   "execution_count": null,
   "metadata": {},
   "outputs": [],
   "source": [
    "path = Path('02_Images/train')\n",
    "fns = get_image_files(path)\n",
    "fns"
   ]
  },
  {
   "cell_type": "code",
   "execution_count": null,
   "metadata": {},
   "outputs": [],
   "source": [
    "failed = verify_images(fns)\n",
    "print(failed)\n",
    "if len(failed) > 0:\n",
    "    failed.map(Path.unlink);\n",
    "else:\n",
    "    print(\"All images verified successfully.\")"
   ]
  },
  {
   "cell_type": "code",
   "execution_count": null,
   "metadata": {},
   "outputs": [],
   "source": [
    "classes = DataBlock(\n",
    "    blocks=(ImageBlock, CategoryBlock), \n",
    "    get_items=get_image_files, \n",
    "    splitter=RandomSplitter(valid_pct=0.2, seed=42),\n",
    "    get_y=parent_label,\n",
    "    item_tfms=Resize(256))\n",
    "\n",
    "print(\"Done with creating DataBlock.\")"
   ]
  },
  {
   "cell_type": "code",
   "execution_count": null,
   "metadata": {},
   "outputs": [],
   "source": [
    "dls = classes.dataloaders(path)"
   ]
  },
  {
   "cell_type": "code",
   "execution_count": null,
   "metadata": {},
   "outputs": [],
   "source": [
    "dls.valid.show_batch(max_n=4, nrows=1)\n",
    "print(len(dls.valid.items))"
   ]
  },
  {
   "cell_type": "code",
   "execution_count": null,
   "metadata": {},
   "outputs": [],
   "source": [
    "classes = classes.new(item_tfms=Resize(256, ResizeMethod.Squish))\n",
    "dls = classes.dataloaders(path)\n",
    "\n",
    "classes = classes.new(\n",
    "    item_tfms=RandomResizedCrop(224, min_scale=0.5),\n",
    "    batch_tfms=aug_transforms())\n",
    "dls = classes.dataloaders(path)"
   ]
  },
  {
   "cell_type": "code",
   "execution_count": null,
   "metadata": {},
   "outputs": [],
   "source": [
    "learn = vision_learner(dls, resnet18, metrics=error_rate)\n",
    "learn.fine_tune(epochs = 4, freeze_epochs=1)"
   ]
  },
  {
   "attachments": {},
   "cell_type": "markdown",
   "metadata": {},
   "source": [
    "Auswertung des Image-Klassifikators"
   ]
  },
  {
   "cell_type": "code",
   "execution_count": null,
   "metadata": {},
   "outputs": [],
   "source": [
    "interp = ClassificationInterpretation.from_learner(learn)\n",
    "interp.plot_confusion_matrix()\n",
    "\n",
    "interp.plot_confusion_matrix(figsize=(12,12), dpi=60)\n",
    "plt.savefig('image_classificator_confusion_matrix.svg', format='svg', dpi=1200)"
   ]
  },
  {
   "cell_type": "code",
   "execution_count": null,
   "metadata": {},
   "outputs": [],
   "source": [
    "print(\"Die Bilder mit den schlechtesten loss Werte.\")\n",
    "interp.plot_top_losses(25, nrows=10)"
   ]
  },
  {
   "attachments": {},
   "cell_type": "markdown",
   "metadata": {},
   "source": [
    "## Anwendung des Image Classificators auf die url0 (Auf COLAB)\n",
    "(Hier nur die Auswertung)"
   ]
  },
  {
   "cell_type": "code",
   "execution_count": 10,
   "metadata": {},
   "outputs": [
    {
     "name": "stdout",
     "output_type": "stream",
     "text": [
      "Accuracy: 0.95\n"
     ]
    },
    {
     "data": {
      "image/png": "[encoded data removed]",
      "text/plain": [
       "<Figure size 640x480 with 3 Axes>"
      ]
     },
     "metadata": {},
     "output_type": "display_data"
    }
   ],
   "source": [
    "import pandas as pd\n",
    "import matplotlib.pyplot as plt\n",
    "import seaborn as sns\n",
    "from sklearn.metrics import confusion_matrix, classification_report, accuracy_score\n",
    "\n",
    "# Load data\n",
    "df = pd.read_csv('base_fake_real_imgcls_pred.csv')\n",
    "\n",
    "y_true = df['label']\n",
    "y_pred = df['prediction_0']\n",
    "\n",
    "# Calculate accuracy\n",
    "accuracy = accuracy_score(y_true, y_pred)\n",
    "print(f'Accuracy: {accuracy:.2f}')\n",
    "\n",
    "# Plot confusion matrix\n",
    "labels = y_true.unique()\n",
    "cm = confusion_matrix(y_true, y_pred, labels=labels)\n",
    "sns.heatmap(cm, annot=True, cmap='Blues', fmt='g', xticklabels=labels, yticklabels=labels)\n",
    "plt.xlabel('Vorhersage des  labels')\n",
    "plt.ylabel('True labels')\n",
    "plt.title('Confusion Matrix')\n",
    "plt.savefig('confusion_matrix.svg')\n",
    "\n",
    "# Plot classification report\n",
    "report = classification_report(y_true, y_pred, output_dict=True)\n",
    "df_report = pd.DataFrame(report).transpose()\n",
    "df_report.drop('support', axis=1, inplace=True)\n",
    "sns.heatmap(df_report[['precision', 'recall', 'f1-score']], annot=True, cmap='Blues')\n",
    "plt.title('Classification Report')\n",
    "plt.savefig('classification_report.svg')\n"
   ]
  },
  {
   "cell_type": "code",
   "execution_count": 9,
   "metadata": {},
   "outputs": [
    {
     "name": "stdout",
     "output_type": "stream",
     "text": [
      "Index(['index_fake', 'org_text', 'title', 'org_reviewId', 'categoryName',\n",
      "       'reviewUrl', 'reviewerPhotoUrl', 'reviewerUrl', 'url', 'genre', 'label',\n",
      "       'placeId', 'prompt_v2', 'gpt3_v2', 'prompt_v3', 'gpt3_v3', 'gpt3_v3.1',\n",
      "       'prompt_v4', 'text', 'sent_v2', 'sent_v3', 'sent_v3.1', 'sent_v4',\n",
      "       'reviewId', 'dalle_prompt', 'reviewImageUrls/0', 'publishedAtDate',\n",
      "       'name', 'likesCount', 'reviewerNumberOfReviews', 'isLocalGuide',\n",
      "       'org_stars', 'stars', 'reviewImageUrls/1', 'reviewImageUrls/2',\n",
      "       'subTitle', 'description', 'price', 'totalScore', 'reviewImageUrls/3',\n",
      "       'reviewerId', 'reviewsCount', 'state', 'street', 'temporarilyClosed',\n",
      "       'website', 'keywords', 'keywords_only', 'sentiment', 'sent_score_0',\n",
      "       'text_length', 'prediction_0', 'prediction_0_prob'],\n",
      "      dtype='object')\n",
      "   index_fake  \\\n",
      "0         0.0   \n",
      "1         1.0   \n",
      "2         2.0   \n",
      "3         3.0   \n",
      "4         4.0   \n",
      "\n",
      "                                                                                                                                                                                                                                                                                                                                                                                                                                                                                                                                                                                        org_text  \\\n",
      "0                                                                                                                                                                                                                                                                                                                                                                                                                                     This was so funny, lots of games! I won an adorable stuffed animal! Its lots a fun to cuddle with. Fun experience! I need to bring the whole fam next time   \n",
      "1                                                                                                                                                                                                                                                                                                                                                                                                                Fun party experience with a wide range of games. Cheap drinks, bowling, pool, and overall childish entertainment. I would certainly return again for another night of nonsense.   \n",
      "2                                                                                                                                                                                                                                                                                                                                                                                                                                                         This was such a fun place for the whole family & the food was so delicious & well plated. We are excited for our next experience here.   \n",
      "3  This place was pretty chill. Reminded me of that place called Main Event--without the laser tag. Didn't have any bike racks so we had to get creative locking our bikes together around the big pillar outside(see picture). Prices aren't too bad, wish they had specials for certain nights. Love that they serve pitchers! They had Santa Fe's 7K on tap too. Paul and Dinh(sp?) were really cool too.\\r\\n\\r\\nThe downside to the place is that it kinda felt like we were being chaperoned at a field trip or something. Lots of people just watching us... Kinda creepy and unnecessary.   \n",
      "4                                                                                                                                       Wonderful arcade!! We love visiting here. HUGE arcade with some of the best games available! Everything from pinball to bowling. They offer some of the best fun we have had in NM. Very affordable for the amount of options . The prize room has some great options and we have always left with a smile on our faces. It is also very convenient to just about every store and restaurant you could think of. This is a must try if your in the area!   \n",
      "\n",
      "                title                          org_reviewId      categoryName  \\\n",
      "0             Round 1   ChZDSUhNMG9nS0VJQ0FnSURJanBQb1pBEAE  Amusement center   \n",
      "1             Round 1  ChdDSUhNMG9nS0VJQ0FnSUNZLWRHY3VRRRAB  Amusement center   \n",
      "2  Electric Playhouse  ChdDSUhNMG9nS0VJQ0FnSUNtc04zQXNRRRAB  Amusement center   \n",
      "3             Round 1   ChZDSUhNMG9nS0VJQ0FnSUNvb05hU1pREAE  Amusement center   \n",
      "4             Round 1   ChZDSUhNMG9nS0VJQ0FnSUQyazc3ZE53EAE  Amusement center   \n",
      "\n",
      "                                                                                                                                                                                            reviewUrl  \\\n",
      "0     https://www.google.com/maps/reviews/data=!4m8!14m7!1m6!2m5!1sChZDSUhNMG9nS0VJQ0FnSURJanBQb1pBEAE!2m1!1s0x0:0x44e1e2393471a197!3m1!1s2@1:CIHM0ogKEICAgIDIjpPoZA%7CCgsIrLa_4QUQpJ3PSQ%7C?hl=en-US   \n",
      "1  https://www.google.com/maps/reviews/data=!4m8!14m7!1m6!2m5!1sChdDSUhNMG9nS0VJQ0FnSUNZLWRHY3VRRRAB!2m1!1s0x0:0x44e1e2393471a197!3m1!1s2@1:CIHM0ogKEICAgICY-dGcuQE%7CCgwI7fDX5QUQ6KKOmQM%7C?hl=en-US   \n",
      "2  https://www.google.com/maps/reviews/data=!4m8!14m7!1m6!2m5!1sChdDSUhNMG9nS0VJQ0FnSUNtc04zQXNRRRAB!2m1!1s0x0:0xc27b576777ca51da!3m1!1s2@1:CIHM0ogKEICAgICmsN3AsQE%7CCgwI-pzrjQYQ0N2OvQM%7C?hl=en-US   \n",
      "3    https://www.google.com/maps/reviews/data=!4m8!14m7!1m6!2m5!1sChZDSUhNMG9nS0VJQ0FnSUNvb05hU1pREAE!2m1!1s0x0:0x44e1e2393471a197!3m1!1s2@1:CIHM0ogKEICAgICooNaSZQ%7CCgwI5vj64wUQkK7XowM%7C?hl=en-US   \n",
      "4    https://www.google.com/maps/reviews/data=!4m8!14m7!1m6!2m5!1sChZDSUhNMG9nS0VJQ0FnSUQyazc3ZE53EAE!2m1!1s0x0:0x44e1e2393471a197!3m1!1s2@1:CIHM0ogKEICAgID2k77dNw%7CCgwI-uaxlAYQ0OrpvAI%7C?hl=en-US   \n",
      "\n",
      "  reviewerPhotoUrl reviewerUrl  \\\n",
      "0              NaN         NaN   \n",
      "1              NaN         NaN   \n",
      "2              NaN         NaN   \n",
      "3              NaN         NaN   \n",
      "4              NaN         NaN   \n",
      "\n",
      "                                                                                                                                                                                                url  \\\n",
      "0            https://www.google.de/maps/place/Round+1/@35.0821683,-106.8165631,11z/data=!4m6!3m5!1s0x87220ad20823dbfb:0x44e1e2393471a197!8m2!3d35.1065227!4d-106.5756004!16s%2Fg%2F11gjp333j1?hl=en   \n",
      "1            https://www.google.de/maps/place/Round+1/@35.0821683,-106.8165631,11z/data=!4m6!3m5!1s0x87220ad20823dbfb:0x44e1e2393471a197!8m2!3d35.1065227!4d-106.5756004!16s%2Fg%2F11gjp333j1?hl=en   \n",
      "2  https://www.google.de/maps/place/Electric+Playhouse/@35.125851,-106.8130894,10z/data=!4m6!3m5!1s0x87220cc73bd00001:0xc27b576777ca51da!8m2!3d35.1126857!4d-106.6995229!16s%2Fg%2F11f2wmfnvv?hl=en   \n",
      "3            https://www.google.de/maps/place/Round+1/@35.0821683,-106.8165631,11z/data=!4m6!3m5!1s0x87220ad20823dbfb:0x44e1e2393471a197!8m2!3d35.1065227!4d-106.5756004!16s%2Fg%2F11gjp333j1?hl=en   \n",
      "4            https://www.google.de/maps/place/Round+1/@35.0821683,-106.8165631,11z/data=!4m6!3m5!1s0x87220ad20823dbfb:0x44e1e2393471a197!8m2!3d35.1065227!4d-106.5756004!16s%2Fg%2F11gjp333j1?hl=en   \n",
      "\n",
      "      genre  ... street temporarilyClosed website keywords keywords_only  \\\n",
      "0  activity  ...    NaN               NaN     NaN      NaN           NaN   \n",
      "1  activity  ...    NaN               NaN     NaN      NaN           NaN   \n",
      "2  activity  ...    NaN               NaN     NaN      NaN           NaN   \n",
      "3  activity  ...    NaN               NaN     NaN      NaN           NaN   \n",
      "4  activity  ...    NaN               NaN     NaN      NaN           NaN   \n",
      "\n",
      "  sentiment sent_score_0 text_length prediction_0 prediction_0_prob  \n",
      "0       NaN          NaN         NaN         real               NaN  \n",
      "1       NaN          NaN         NaN         real               NaN  \n",
      "2       NaN          NaN         NaN         real               NaN  \n",
      "3       NaN          NaN         NaN         real               NaN  \n",
      "4       NaN          NaN         NaN         fake               NaN  \n",
      "\n",
      "[5 rows x 53 columns]\n"
     ]
    }
   ],
   "source": [
    "df = pd.read_csv('base_fake_real_imgcls_pred.csv')\n",
    "print(df.columns)\n",
    "print(df.head())"
   ]
  },
  {
   "attachments": {},
   "cell_type": "markdown",
   "metadata": {},
   "source": [
    "## Tabulare Daten:\n",
    "\n"
   ]
  },
  {
   "attachments": {},
   "cell_type": "markdown",
   "metadata": {},
   "source": [
    "## Erst Text, dann Bildverifizierung"
   ]
  }
 ],
 "metadata": {
  "kernelspec": {
   "display_name": "Python 3",
   "language": "python",
   "name": "python3"
  },
  "language_info": {
   "codemirror_mode": {
    "name": "ipython",
    "version": 3
   },
   "file_extension": ".py",
   "mimetype": "text/x-python",
   "name": "python",
   "nbconvert_exporter": "python",
   "pygments_lexer": "ipython3",
   "version": "3.9.13"
  },
  "orig_nbformat": 4
 },
 "nbformat": 4,
 "nbformat_minor": 2
}
