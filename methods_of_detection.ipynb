{
 "cells": [
  {
   "attachments": {},
   "cell_type": "markdown",
   "metadata": {},
   "source": [
    "In diesem Notebook wird der Datensatz base_fake_real.csv verwendet und untersucht wie man Fake-Reviews von Echten Reviews unterscheiden kann."
   ]
  },
  {
   "cell_type": "code",
   "execution_count": null,
   "metadata": {},
   "outputs": [],
   "source": [
    "import pandas as pd\n",
    "import numpy as np\n",
    "import matplotlib.pyplot as plt\n",
    "import os\n",
    "import urllib\n",
    "from fastai.vision.all import *\n",
    "from fastdownload import download_url"
   ]
  },
  {
   "attachments": {},
   "cell_type": "markdown",
   "metadata": {},
   "source": [
    "## Text:\n",
    "\n",
    "Über Sprach-Features aus PNLP"
   ]
  },
  {
   "attachments": {},
   "cell_type": "markdown",
   "metadata": {},
   "source": [
    "## Bild:\n",
    "Erkennung, ob das Bild ein Fake ist oder nicht über eine Bildklassifizierung."
   ]
  },
  {
   "cell_type": "code",
   "execution_count": null,
   "metadata": {},
   "outputs": [],
   "source": [
    "df = pd.read_csv('base_keywords_sentiment_reduced.csv')\n",
    "print(df.shape)\n",
    "\n",
    "df_all = pd.read_csv('01_Data/raw_data/dataset_weitere_forschung.csv')\n",
    "print(df_all.shape)\n",
    "\n",
    "df_all = df_all[['text', 'reviewId', 'url', 'placeId', 'categoryName', 'stars', 'title','reviewImageUrls/0','reviewImageUrls/1','reviewImageUrls/2','reviewImageUrls/3','reviewImageUrls/4','reviewImageUrls/5','genre']]\n",
    "df_all = df_all[df_all['reviewImageUrls/0'].notna()]\n",
    "print(df_all.shape)\n",
    "df_all = df_all[~df_all['reviewId'].isin(df['reviewId'])]\n",
    "print(df_all.shape)\n",
    "print(df_all.columns)\n",
    "\n",
    "image_urls_cols = [\n",
    "    \"reviewImageUrls/0\",\n",
    "    \"reviewImageUrls/1\",\n",
    "    \"reviewImageUrls/2\",\n",
    "    \"reviewImageUrls/3\",\n",
    "    \"reviewImageUrls/4\",\n",
    "    \"reviewImageUrls/5\",\n",
    "]\n",
    "for col in image_urls_cols:\n",
    "    print(f\"Processing col {col}\")\n",
    "    df_all[col] = df_all[col].str.replace(\"=w150-h150-k-no-p\", \"=w256-h256-p-k-no\")\n",
    "\n",
    "print(df_all.shape)\n",
    "\n",
    "# df_all.to_csv('train_weitere_forschung_ohne_base.csv', index=False)\n",
    "# df_all.to_excel('train_weitere_forschung_ohne_base.xlsx', index=False)"
   ]
  },
  {
   "cell_type": "code",
   "execution_count": null,
   "metadata": {},
   "outputs": [],
   "source": [
    "df = pd.read_csv('train_weitere_forschung_ohne_base.csv')\n",
    "\n",
    "df = df.sample(n=500, random_state=9)\n",
    "# df = df.sample(n=1000, random_state=42)\n",
    "df = df.sort_index()\n",
    "\n",
    "for index, row in df.iterrows():\n",
    "    if index < 0:\n",
    "        print(f\"Index {index} schon heruntergeladen, skipped ..\")\n",
    "        continue\n",
    "    for i in range(2):\n",
    "        if not pd.isna(row[f'reviewImageUrls/{i}']):\n",
    "            print(f\"Downloading image for {index}...\")\n",
    "            url = row[f'reviewImageUrls/{i}']\n",
    "            filename = f\"{url.split('/')[-1]}.png\"\n",
    "            path = os.path.join('02_Images', 'train', 'real', filename)\n",
    "            if not os.path.exists(path):\n",
    "                try:\n",
    "                    urllib.request.urlretrieve(url, path)\n",
    "                except:\n",
    "                    print(f'Error with {url}')\n",
    "\n",
    "print(\"Done with downloading real images for training set.\")"
   ]
  },
  {
   "cell_type": "code",
   "execution_count": null,
   "metadata": {},
   "outputs": [],
   "source": [
    "# dwonlad for every row the file of column \n",
    "\n",
    "# f"
   ]
  },
  {
   "attachments": {},
   "cell_type": "markdown",
   "metadata": {},
   "source": [
    "### Start Umsetzung mit FASTAI visual Learning als Classifizierung Problem (AUF COLAB!)"
   ]
  },
  {
   "cell_type": "code",
   "execution_count": null,
   "metadata": {},
   "outputs": [],
   "source": [
    "path = Path('02_Images/train')\n",
    "fns = get_image_files(path)\n",
    "fns"
   ]
  },
  {
   "cell_type": "code",
   "execution_count": null,
   "metadata": {},
   "outputs": [],
   "source": [
    "failed = verify_images(fns)\n",
    "print(failed)\n",
    "if len(failed) > 0:\n",
    "    failed.map(Path.unlink);\n",
    "else:\n",
    "    print(\"All images verified successfully.\")"
   ]
  },
  {
   "cell_type": "code",
   "execution_count": null,
   "metadata": {},
   "outputs": [],
   "source": [
    "classes = DataBlock(\n",
    "    blocks=(ImageBlock, CategoryBlock), \n",
    "    get_items=get_image_files, \n",
    "    splitter=RandomSplitter(valid_pct=0.2, seed=42),\n",
    "    get_y=parent_label,\n",
    "    item_tfms=Resize(256))\n",
    "\n",
    "print(\"Done with creating DataBlock.\")"
   ]
  },
  {
   "cell_type": "code",
   "execution_count": null,
   "metadata": {},
   "outputs": [],
   "source": [
    "dls = classes.dataloaders(path)"
   ]
  },
  {
   "cell_type": "code",
   "execution_count": null,
   "metadata": {},
   "outputs": [],
   "source": [
    "dls.valid.show_batch(max_n=4, nrows=1)\n",
    "print(len(dls.valid.items))"
   ]
  },
  {
   "cell_type": "code",
   "execution_count": null,
   "metadata": {},
   "outputs": [],
   "source": [
    "classes = classes.new(item_tfms=Resize(256, ResizeMethod.Squish))\n",
    "dls = classes.dataloaders(path)\n",
    "\n",
    "classes = classes.new(\n",
    "    item_tfms=RandomResizedCrop(224, min_scale=0.5),\n",
    "    batch_tfms=aug_transforms())\n",
    "dls = classes.dataloaders(path)"
   ]
  },
  {
   "cell_type": "code",
   "execution_count": null,
   "metadata": {},
   "outputs": [],
   "source": [
    "learn = vision_learner(dls, resnet18, metrics=error_rate)\n",
    "learn.fine_tune(epochs = 4, freeze_epochs=1)"
   ]
  },
  {
   "attachments": {},
   "cell_type": "markdown",
   "metadata": {},
   "source": [
    "Auswertung des Image-Klassifikators"
   ]
  },
  {
   "cell_type": "code",
   "execution_count": null,
   "metadata": {},
   "outputs": [],
   "source": [
    "interp = ClassificationInterpretation.from_learner(learn)\n",
    "interp.plot_confusion_matrix()\n",
    "\n",
    "interp.plot_confusion_matrix(figsize=(12,12), dpi=60)\n",
    "plt.savefig('image_classificator_confusion_matrix.svg', format='svg', dpi=1200)"
   ]
  },
  {
   "cell_type": "code",
   "execution_count": null,
   "metadata": {},
   "outputs": [],
   "source": [
    "print(\"Die Bilder mit den schlechtesten loss Werte.\")\n",
    "interp.plot_top_losses(25, nrows=10)"
   ]
  },
  {
   "attachments": {},
   "cell_type": "markdown",
   "metadata": {},
   "source": [
    "## Anwendung des Image Classificators auf die url0 (Auf COLAB)\n",
    "\n",
    "Nur die Auswertung. Durchführung in colab.ipynb Notebook."
   ]
  },
  {
   "cell_type": "code",
   "execution_count": 91,
   "metadata": {},
   "outputs": [
    {
     "name": "stdout",
     "output_type": "stream",
     "text": [
      "Accuracy: 0.9518\n",
      "Recall: 0.9518\n",
      "Precision: 0.9544\n",
      "F1-Score: 0.9517\n"
     ]
    },
    {
     "data": {
      "image/png": "[encoded data removed]",
      "text/plain": [
       "<Figure size 640x480 with 1 Axes>"
      ]
     },
     "metadata": {},
     "output_type": "display_data"
    }
   ],
   "source": [
    "import pandas as pd\n",
    "import matplotlib.pyplot as plt\n",
    "import seaborn as sns\n",
    "from sklearn.metrics import confusion_matrix, classification_report, accuracy_score\n",
    "from matplotlib import colors\n",
    "\n",
    "\n",
    "df = pd.read_csv('base_fake_real_imgcls_pred.csv')\n",
    "\n",
    "y_true = df['label']\n",
    "y_pred = df['prediction_0']\n",
    "\n",
    "accuracy = accuracy_score(y_true, y_pred)\n",
    "recall = classification_report(y_true, y_pred, output_dict=True)['weighted avg']['recall']\n",
    "precision = classification_report(y_true, y_pred, output_dict=True)['weighted avg']['precision']\n",
    "f1_score = classification_report(y_true, y_pred, output_dict=True)['weighted avg']['f1-score']\n",
    "print(f'Accuracy: {accuracy:.4f}')\n",
    "print(f'Recall: {recall:.4f}')\n",
    "print(f'Precision: {precision:.4f}')\n",
    "print(f'F1-Score: {f1_score:.4f}')\n",
    "\n",
    "cmap = colors.ListedColormap(['#FFE5E4', '#D7F3D9'])\n",
    "\n",
    "labels = y_true.unique()\n",
    "cm = confusion_matrix(y_true, y_pred, labels=labels)\n",
    "\n",
    "sns.heatmap(cm, annot=True, cmap=cmap, fmt='g', xticklabels=labels, yticklabels=labels, cbar= False)\n",
    "plt.xlabel('Vorhersage')\n",
    "plt.yticks(rotation=0)\n",
    "plt.ylabel('Tatasächlich')\n",
    "\n",
    "plt.savefig('confusion_matrix_green_red.svg', format='svg', bbox_inches='tight')\n"
   ]
  },
  {
   "cell_type": "code",
   "execution_count": 98,
   "metadata": {},
   "outputs": [
    {
     "name": "stdout",
     "output_type": "stream",
     "text": [
      "Accuracy: 0.9518\n",
      "Recall: 0.9518\n",
      "Precision: 0.9544\n",
      "F1-Score: 0.9517\n"
     ]
    },
    {
     "data": {
      "image/png": "[encoded data removed]",
      "text/plain": [
       "<Figure size 640x480 with 1 Axes>"
      ]
     },
     "metadata": {},
     "output_type": "display_data"
    }
   ],
   "source": [
    "import pandas as pd\n",
    "import matplotlib.pyplot as plt\n",
    "import seaborn as sns\n",
    "from sklearn.metrics import confusion_matrix, classification_report, accuracy_score\n",
    "from matplotlib import colors\n",
    "\n",
    "# Load data\n",
    "df = pd.read_csv('base_fake_real_imgcls_pred.csv')\n",
    "\n",
    "y_true = df['label']\n",
    "y_pred = df['prediction_0']\n",
    "\n",
    "accuracy = accuracy_score(y_true, y_pred)\n",
    "recall = classification_report(y_true, y_pred, output_dict=True)['weighted avg']['recall']\n",
    "precision = classification_report(y_true, y_pred, output_dict=True)['weighted avg']['precision']\n",
    "f1_score = classification_report(y_true, y_pred, output_dict=True)['weighted avg']['f1-score']\n",
    "\n",
    "print(f'Accuracy: {accuracy:.4f}')\n",
    "print(f'Recall: {recall:.4f}')\n",
    "print(f'Precision: {precision:.4f}')\n",
    "print(f'F1-Score: {f1_score:.4f}')\n",
    "\n",
    "cmap = colors.ListedColormap(['#FFE5E4', '#D7F3D9'])\n",
    "\n",
    "labels = y_true.unique()\n",
    "cm = confusion_matrix(y_true, y_pred, labels=labels)\n",
    "\n",
    "# Plot confusion matrix with custom colors\n",
    "sns.heatmap(cm, annot=True, cmap=cmap, fmt='g', xticklabels=labels, yticklabels=labels, cbar=False)\n",
    "plt.xlabel('Vorhersage')\n",
    "plt.yticks(rotation=0)\n",
    "plt.ylabel('Tatsächlich')\n",
    "\n",
    "plt.savefig('confusion_matrix_green_red.svg', format='svg', bbox_inches='tight')"
   ]
  },
  {
   "attachments": {},
   "cell_type": "markdown",
   "metadata": {},
   "source": [
    "## Tabulare Daten:\n",
    "\n"
   ]
  },
  {
   "attachments": {},
   "cell_type": "markdown",
   "metadata": {},
   "source": [
    "## Erst Text, dann Bildverifizierung"
   ]
  }
 ],
 "metadata": {
  "kernelspec": {
   "display_name": "Python 3",
   "language": "python",
   "name": "python3"
  },
  "language_info": {
   "codemirror_mode": {
    "name": "ipython",
    "version": 3
   },
   "file_extension": ".py",
   "mimetype": "text/x-python",
   "name": "python",
   "nbconvert_exporter": "python",
   "pygments_lexer": "ipython3",
   "version": "3.9.13"
  },
  "orig_nbformat": 4
 },
 "nbformat": 4,
 "nbformat_minor": 2
}
