{
 "cells": [
  {
   "attachments": {},
   "cell_type": "markdown",
   "metadata": {},
   "source": [
    "In diesem Notebook wird der Datensatz base_fake_real.csv verwendet und untersucht wie man Fake-Reviews von Echten Reviews unterscheiden kann. Zuerst wird der Datensatz so vorbeietet um Features zu generien. "
   ]
  },
  {
   "cell_type": "code",
   "execution_count": null,
   "metadata": {},
   "outputs": [],
   "source": [
    "import pandas as pd\n",
    "import numpy as np\n",
    "import matplotlib.pyplot as plt\n",
    "import os\n",
    "import urllib\n",
    "from fastai.vision.all import *\n",
    "from fastdownload import download_url"
   ]
  },
  {
   "attachments": {},
   "cell_type": "markdown",
   "metadata": {},
   "source": [
    "Datensatz für Feature Extraction bzw. Feature Engineering vorbereitet\n"
   ]
  },
  {
   "cell_type": "code",
   "execution_count": 150,
   "metadata": {},
   "outputs": [
    {
     "name": "stdout",
     "output_type": "stream",
     "text": [
      "Base Datensatz: (1410, 51)\n",
      "Reduzierter Datensatz als neue Basis für FE: (1410, 18)\n",
      "Index(['label', 'reviewId', 'placeId', 'reviewUrl', 'url', 'title',\n",
      "       'categoryName', 'genre', 'text', 'stars', 'publishedAtDate',\n",
      "       'likesCount', 'name', 'isLocalGuide', 'reviewerNumberOfReviews',\n",
      "       'reviewImageUrls/0', 'reviewImageUrls/1', 'reviewImageUrls/2'],\n",
      "      dtype='object')\n"
     ]
    }
   ],
   "source": [
    "df = pd.read_csv(\"base_fake_real.csv\")\n",
    "print(f\"Base Datensatz: {df.shape}\")\n",
    "# print(df.columns)\n",
    "\n",
    "df.drop(\n",
    "    [\n",
    "        \"index_fake\",\n",
    "        \"org_text\",\n",
    "        \"org_stars\",\n",
    "        \"sent_score_0\",\n",
    "        \"sent_v2\",\n",
    "        \"sent_v3\",\n",
    "        \"sent_v3.1\",\n",
    "        \"prompt_v3\",\n",
    "        \"website\",\n",
    "        \"dalle_prompt\",\n",
    "        \"website\",\n",
    "        \"prompt_v2\",\n",
    "        \"gpt3_v2\",\n",
    "        \"gpt3_v3\",\n",
    "        \"gpt3_v3.1\",\n",
    "        \"prompt_v4\",\n",
    "        \"org_reviewId\",\n",
    "        \"sent_v4\",\n",
    "        \"keywords\",\n",
    "        \"keywords_only\",\n",
    "        \"text_length\",\n",
    "        \"reviewImageUrls/3\",\n",
    "        \"reviewerPhotoUrl\",\n",
    "        \"reviewerUrl\",\n",
    "        \"reviewerId\",\n",
    "        \"temporarilyClosed\",\n",
    "        \"reviewsCount\",\n",
    "        \"street\",\n",
    "        \"state\",\n",
    "        \"totalScore\",\n",
    "        \"subTitle\",\n",
    "        \"description\",\n",
    "        \"price\",\n",
    "        \"sentiment\",\n",
    "    ],\n",
    "    axis=1,\n",
    "    inplace=True,\n",
    ")\n",
    "\n",
    "df = df.reindex(\n",
    "    columns=[\n",
    "        \"label\",\n",
    "        \"reviewId\",\n",
    "        \"placeId\",\n",
    "        \"reviewUrl\",\n",
    "        \"url\",\n",
    "        \"title\",\n",
    "        \"categoryName\",\n",
    "        \"genre\",\n",
    "        \"text\",\n",
    "        \"stars\",\n",
    "        \"publishedAtDate\",\n",
    "        \"likesCount\",\n",
    "        \"name\",\n",
    "        \"isLocalGuide\",\n",
    "        \"reviewerNumberOfReviews\",\n",
    "        \"reviewImageUrls/0\",\n",
    "        \"reviewImageUrls/1\",\n",
    "        \"reviewImageUrls/2\",\n",
    "    ]\n",
    ")\n",
    "\n",
    "print(f\"Reduzierter Datensatz als neue Basis für FE: {df.shape}\")\n",
    "print(df.columns)\n",
    "\n",
    "df.to_csv(\"base_features.csv\", index=False)\n",
    "df.to_excel(\"base_features.xlsx\", index=False)\n"
   ]
  },
  {
   "attachments": {},
   "cell_type": "markdown",
   "metadata": {},
   "source": [
    "## Bild:\n",
    "1. Feature Extrahieren über Pretrained ResNet-18 Architektur und in Dataframe abspeichern. "
   ]
  },
  {
   "attachments": {},
   "cell_type": "markdown",
   "metadata": {},
   "source": [
    "## Text:\n",
    "\n",
    "1. Feature extrahieren über PNLP Paket, wie z.B: lenth, adverb, Großklein, Rechtschriebung, Smiley-Nutzung usw... wie bei Peter"
   ]
  },
  {
   "attachments": {},
   "cell_type": "markdown",
   "metadata": {},
   "source": [
    "## Tabulare Daten \n",
    "\n",
    "1. Zeitfeature umrechnen in kategorische Variablen"
   ]
  },
  {
   "attachments": {},
   "cell_type": "markdown",
   "metadata": {},
   "source": [
    "## Exkurs: Eigenen Img-Klassifikator trainiert und ausgwertet"
   ]
  },
  {
   "attachments": {},
   "cell_type": "markdown",
   "metadata": {},
   "source": [
    "Bilder für Training vorberieten und"
   ]
  },
  {
   "cell_type": "code",
   "execution_count": null,
   "metadata": {},
   "outputs": [],
   "source": [
    "df = pd.read_csv('train_weitere_forschung_ohne_base.csv')\n",
    "\n",
    "df = df.sample(n=500, random_state=9)\n",
    "# df = df.sample(n=1000, random_state=42)\n",
    "df = df.sort_index()\n",
    "\n",
    "for index, row in df.iterrows():\n",
    "    if index < 0:\n",
    "        print(f\"Index {index} schon heruntergeladen, skipped ..\")\n",
    "        continue\n",
    "    for i in range(2):\n",
    "        if not pd.isna(row[f'reviewImageUrls/{i}']):\n",
    "            print(f\"Downloading image for {index}...\")\n",
    "            url = row[f'reviewImageUrls/{i}']\n",
    "            filename = f\"{url.split('/')[-1]}.png\"\n",
    "            path = os.path.join('02_Images', 'train', 'real', filename)\n",
    "            if not os.path.exists(path):\n",
    "                try:\n",
    "                    urllib.request.urlretrieve(url, path)\n",
    "                except:\n",
    "                    print(f'Error with {url}')\n",
    "\n",
    "print(\"Done with downloading real images for training set.\")"
   ]
  },
  {
   "attachments": {},
   "cell_type": "markdown",
   "metadata": {},
   "source": [
    "Start Umsetzung mit FASTAI visual Learning als Classifizierung Problem (AUF COLAB!)"
   ]
  },
  {
   "cell_type": "code",
   "execution_count": null,
   "metadata": {},
   "outputs": [],
   "source": [
    "df = pd.read_csv('base_keywords_sentiment_reduced.csv')\n",
    "print(df.shape)\n",
    "\n",
    "df_all = pd.read_csv('01_Data/raw_data/dataset_weitere_forschung.csv')\n",
    "print(df_all.shape)\n",
    "\n",
    "df_all = df_all[['text', 'reviewId', 'url', 'placeId', 'categoryName', 'stars', 'title','reviewImageUrls/0','reviewImageUrls/1','reviewImageUrls/2','reviewImageUrls/3','reviewImageUrls/4','reviewImageUrls/5','genre']]\n",
    "df_all = df_all[df_all['reviewImageUrls/0'].notna()]\n",
    "print(df_all.shape)\n",
    "df_all = df_all[~df_all['reviewId'].isin(df['reviewId'])]\n",
    "print(df_all.shape)\n",
    "print(df_all.columns)\n",
    "\n",
    "image_urls_cols = [\n",
    "    \"reviewImageUrls/0\",\n",
    "    \"reviewImageUrls/1\",\n",
    "    \"reviewImageUrls/2\",\n",
    "    \"reviewImageUrls/3\",\n",
    "    \"reviewImageUrls/4\",\n",
    "    \"reviewImageUrls/5\",\n",
    "]\n",
    "for col in image_urls_cols:\n",
    "    print(f\"Processing col {col}\")\n",
    "    df_all[col] = df_all[col].str.replace(\"=w150-h150-k-no-p\", \"=w256-h256-p-k-no\")\n",
    "\n",
    "print(df_all.shape)\n",
    "\n",
    "# df_all.to_csv('train_weitere_forschung_ohne_base.csv', index=False)\n",
    "# df_all.to_excel('train_weitere_forschung_ohne_base.xlsx', index=False)"
   ]
  },
  {
   "attachments": {},
   "cell_type": "markdown",
   "metadata": {},
   "source": [
    "Hier nur die Auswertung. Training in colab.ipynb Notebook."
   ]
  },
  {
   "cell_type": "code",
   "execution_count": null,
   "metadata": {},
   "outputs": [],
   "source": [
    "import pandas as pd\n",
    "import matplotlib.pyplot as plt\n",
    "import seaborn as sns\n",
    "from sklearn.metrics import confusion_matrix, classification_report, accuracy_score\n",
    "from matplotlib import colors\n",
    "\n",
    "import matplotlib.pyplot as plt\n",
    "import matplotlib as mpl\n",
    "\n",
    "mpl.rcParams['font.family'] = 'Book Antiqua'\n",
    "\n",
    "df = pd.read_csv('base_fake_real_imgcls_pred.csv')\n",
    "\n",
    "y_true = df['label']\n",
    "y_pred = df['prediction_0']\n",
    "\n",
    "accuracy = accuracy_score(y_true, y_pred)\n",
    "recall = classification_report(y_true, y_pred, output_dict=True)['weighted avg']['recall']\n",
    "precision = classification_report(y_true, y_pred, output_dict=True)['weighted avg']['precision']\n",
    "f1_score = classification_report(y_true, y_pred, output_dict=True)['weighted avg']['f1-score']\n",
    "\n",
    "print(f'Accuracy: {accuracy:.4f}')\n",
    "print(f'Recall: {recall:.4f}')\n",
    "print(f'Precision: {precision:.4f}')\n",
    "print(f'F1-Score: {f1_score:.4f}')\n",
    "\n",
    "cmap = colors.ListedColormap(['#FFE5E4', '#D7F3D9'])\n",
    "\n",
    "labels = y_true.unique()\n",
    "fig, ax = plt.subplots(figsize=(5, 2.5))\n",
    "\n",
    "cm = confusion_matrix(y_true, y_pred, labels=labels)\n",
    "\n",
    "\n",
    "# Plot confusion matrix with custom colors\n",
    "sns.heatmap(cm, annot=True, cmap=cmap, fmt='g', xticklabels=labels, yticklabels=labels, cbar=False)\n",
    "plt.xlabel('Vorhersage')\n",
    "plt.ylabel('Tatsächlich')\n",
    "\n",
    "plt.savefig('confusion_matrix_green_red.svg', format='svg', bbox_inches='tight')"
   ]
  }
 ],
 "metadata": {
  "kernelspec": {
   "display_name": "Python 3",
   "language": "python",
   "name": "python3"
  },
  "language_info": {
   "codemirror_mode": {
    "name": "ipython",
    "version": 3
   },
   "file_extension": ".py",
   "mimetype": "text/x-python",
   "name": "python",
   "nbconvert_exporter": "python",
   "pygments_lexer": "ipython3",
   "version": "3.9.13"
  },
  "orig_nbformat": 4
 },
 "nbformat": 4,
 "nbformat_minor": 2
}
