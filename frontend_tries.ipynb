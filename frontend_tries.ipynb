{
 "cells": [
  {
   "attachments": {},
   "cell_type": "markdown",
   "metadata": {},
   "source": [
    "### Diese Notebook zeiht das Artefact als prototypische Front-End-Anwendung\n"
   ]
  },
  {
   "cell_type": "code",
   "execution_count": null,
   "metadata": {},
   "outputs": [],
   "source": [
    "import pandas as pd\n",
    "import numpy as np\n",
    "import matplotlib.pyplot as plt\n",
    "import gradio as gr\n",
    "from PIL import Image, ImageTk\n",
    "from faker import Faker\n",
    "from transformers import pipeline\n",
    "from keybert import KeyBERT"
   ]
  },
  {
   "attachments": {},
   "cell_type": "markdown",
   "metadata": {},
   "source": [
    "Generierung & Verifizierung als Gradio-Application"
   ]
  },
  {
   "cell_type": "code",
   "execution_count": null,
   "metadata": {},
   "outputs": [],
   "source": [
    "def generate_review_html(stars, date, user, is_local_guide, text, user_image, review_images):\n",
    "    full_stars = int(stars)\n",
    "    half_star = (stars % 1) > 0\n",
    "    empty_stars = 5 - full_stars - half_star\n",
    "    full_star_html = '<span class=\"star full\">&#9733;</span>'\n",
    "    half_star_html = '<span class=\"star half\">&#9733;</span>'\n",
    "    empty_star_html = '<span class=\"star empty\">&#9733;</span>'\n",
    "    stars_html = (full_star_html * full_stars) + (half_star_html * half_star) + (empty_star_html * empty_stars)\n",
    "    user_name = user if not is_local_guide else f\"{user} (local guide)\"\n",
    "    \n",
    "    html = f\"\"\"\n",
    "    <style>\n",
    "      .star.full {{\n",
    "        color: #f1c40f;\n",
    "      }}\n",
    "      .star.half {{\n",
    "        color: #f1c40f;\n",
    "        position: relative;\n",
    "      }}\n",
    "      .star.half::before {{\n",
    "        content: '\\\\2605';\n",
    "        position: absolute;\n",
    "        left: 0;\n",
    "        color: #ddd;\n",
    "      }}\n",
    "      .star.empty {{\n",
    "        color: #ddd;\n",
    "      }}\n",
    "    </style>\n",
    "    <div class=\"review\">\n",
    "      <div class=\"user\">\n",
    "        <img src={user_image} alt=\"User profile picture\">\n",
    "        <div class=\"user-info\">\n",
    "          <h4>{user_name}</h4>\n",
    "          <p>Submitted on {date}</p>\n",
    "        </div>\n",
    "      </div>\n",
    "      <div class=\"rating\">\n",
    "        {stars_html}\n",
    "      </div>\n",
    "      <div class=\"review-text\">\n",
    "        <p>{text}</p>\n",
    "      </div>\n",
    "      <div class=\"review-image\">\n",
    "        <img src={review_images} alt=\"Restaurant image\">\n",
    "      </div>\n",
    "    </div>\n",
    "    \"\"\"\n",
    "    return html\n",
    "def generate_deepfake(review_about, stars):\n",
    "    text = fake.text()\n",
    "    stars = fake.random_int(min=1, max=5, step=1)\n",
    "    date = fake.date_between(start_date='-1y', end_date='today')\n",
    "    user = fake.name()\n",
    "    local_guide = fake.boolean(chance_of_getting_true=7)\n",
    "    html_review = generate_review_html(stars, date, user, local_guide, text, user_image=\"https://via.placeholder.com/50/%22%20alt=/%22Restaurant%20image/\", review_images = \"https://lh5.googleusercontent.com/p/AF1QipPsYMpfUpwmH5ltkPNIeDbgPivvBstyJCea32vJ=w150-h150-k-no-p\")\n",
    "    return html_review\n",
    "\n",
    "def verify_review(stars, date, user, local_guide, text, image):\n",
    "    return \"FAKE\", \"0.9\"\n"
   ]
  },
  {
   "attachments": {},
   "cell_type": "markdown",
   "metadata": {},
   "source": [
    "Gradio Layout definieren und starten"
   ]
  },
  {
   "cell_type": "code",
   "execution_count": null,
   "metadata": {},
   "outputs": [],
   "source": [
    "with gr.Blocks() as demo:\n",
    "    with gr.Tab (\"Create Fake Review\"):\n",
    "        review_about = gr.Textbox(label=\"Review about\")\n",
    "        review_stars = gr.Slider(label=\"Stars\", minimum=1, maximum=5, step=1)\n",
    "        generate_btn = gr.Button(\"Generate Multi-Modal Review\")\n",
    "        html_output = gr.HTML(label=\"Review\") \n",
    "        generate_btn.click(fn=generate_deepfake, inputs=[review_about, review_stars], outputs=[html_output])\n",
    "    \n",
    "    with gr.Tab (\"Verify Review\"):\n",
    "        with gr.Row(): \n",
    "            input_stars = gr.Slider(label=\"Stars\", minimum=1, maximum=5, step=1)\n",
    "            input_date = gr.Textbox(label=\"Date\", default=\"2023-01-01\")\n",
    "            input_user = gr.Textbox(label=\"User\")\n",
    "            input_local_guide = gr.Checkbox(label=\"Local Guide\")\n",
    "       \n",
    "        input_text = gr.Textbox(label=\"Review Text\")\n",
    "        input_image = gr.Image(label=\"Review Image\")\n",
    "        verify_btn = gr.Button(\"Verify Review\")\n",
    "        output_text = gr.Textbox(label=\"Generated Text\")\n",
    "        output_score = gr.Textbox(label=\"Score\")\n",
    "        verify_btn.click(fn=verify_review, inputs=[input_stars, input_date, input_user, input_local_guide, input_text, input_image], outputs=[output_text, output_score])\n",
    "\n",
    "demo.launch(debug=True)"
   ]
  }
 ],
 "metadata": {
  "language_info": {
   "name": "python"
  },
  "orig_nbformat": 4
 },
 "nbformat": 4,
 "nbformat_minor": 2
}
