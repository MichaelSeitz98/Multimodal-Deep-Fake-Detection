{
 "cells": [
  {
   "cell_type": "code",
   "execution_count": 1,
   "metadata": {},
   "outputs": [],
   "source": [
    "import pandas as pd\n",
    "import numpy as np\n",
    "import matplotlib.pyplot as plt\n",
    "import gradio as gr\n",
    "\n",
    "import tkinter as tk\n",
    "import customtkinter as ctk\n",
    "from PIL import Image, ImageTk\n",
    "\n",
    "\n",
    "import torch\n",
    "from torch import autocast\n",
    "from diffusers import StableDiffusionPipeline\n",
    "\n",
    "import customtkinter as ctk\n",
    "import urllib.request\n",
    "import json"
   ]
  },
  {
   "cell_type": "code",
   "execution_count": 5,
   "metadata": {},
   "outputs": [
    {
     "ename": "TypeError",
     "evalue": "__init__() missing 1 required positional argument: 'master'",
     "output_type": "error",
     "traceback": [
      "\u001b[1;31m---------------------------------------------------------------------------\u001b[0m",
      "\u001b[1;31mTypeError\u001b[0m                                 Traceback (most recent call last)",
      "Cell \u001b[1;32mIn[5], line 17\u001b[0m\n\u001b[0;32m     14\u001b[0m app\u001b[39m.\u001b[39mtitle(\u001b[39m\"\u001b[39m\u001b[39mStable Bud\u001b[39m\u001b[39m\"\u001b[39m) \n\u001b[0;32m     15\u001b[0m ctk\u001b[39m.\u001b[39mset_appearance_mode(\u001b[39m\"\u001b[39m\u001b[39mdark\u001b[39m\u001b[39m\"\u001b[39m) \n\u001b[1;32m---> 17\u001b[0m prompt \u001b[39m=\u001b[39m ctk\u001b[39m.\u001b[39;49mCTkEntry(height\u001b[39m=\u001b[39;49m\u001b[39m40\u001b[39;49m, width\u001b[39m=\u001b[39;49m\u001b[39m512\u001b[39;49m, text_font\u001b[39m=\u001b[39;49m(\u001b[39m\"\u001b[39;49m\u001b[39mArial\u001b[39;49m\u001b[39m\"\u001b[39;49m, \u001b[39m20\u001b[39;49m), text_color\u001b[39m=\u001b[39;49m\u001b[39m\"\u001b[39;49m\u001b[39mblack\u001b[39;49m\u001b[39m\"\u001b[39;49m, fg_color\u001b[39m=\u001b[39;49m\u001b[39m\"\u001b[39;49m\u001b[39mwhite\u001b[39;49m\u001b[39m\"\u001b[39;49m) \n\u001b[0;32m     18\u001b[0m prompt\u001b[39m.\u001b[39mplace(x\u001b[39m=\u001b[39m\u001b[39m10\u001b[39m, y\u001b[39m=\u001b[39m\u001b[39m10\u001b[39m)\n\u001b[0;32m     20\u001b[0m lmain \u001b[39m=\u001b[39m ctk\u001b[39m.\u001b[39mCTkLabel(height\u001b[39m=\u001b[39m\u001b[39m512\u001b[39m, width\u001b[39m=\u001b[39m\u001b[39m512\u001b[39m)\n",
      "\u001b[1;31mTypeError\u001b[0m: __init__() missing 1 required positional argument: 'master'"
     ]
    }
   ],
   "source": [
    "import tkinter as tk\n",
    "import customtkinter as ctk \n",
    "\n",
    "from PIL import ImageTk\n",
    "import torch\n",
    "from torch import autocast\n",
    "from diffusers import StableDiffusionPipeline \n",
    "\n",
    "# Create the app\n",
    "app = tk.Tk()\n",
    "app.geometry(\"532x632\")\n",
    "app.title(\"Stable Bud\") \n",
    "ctk.set_appearance_mode(\"dark\") \n",
    "\n",
    "prompt = ctk.CTkEntry(height=40, width=512, text_font=(\"Arial\", 20), text_color=\"black\", fg_color=\"white\") \n",
    "prompt.place(x=10, y=10)\n",
    "\n",
    "lmain = ctk.CTkLabel(height=512, width=512)\n",
    "lmain.place(x=10, y=110)\n",
    "\n",
    "modelid = \"CompVis/stable-diffusion-v1-4\"\n",
    "device = \"cuda\"\n",
    "pipe = StableDiffusionPipeline.from_pretrained(modelid, revision=\"fp16\", torch_dtype=torch.float16, use_auth_token=auth_token) \n",
    "pipe.to(device) \n",
    "\n",
    "def generate(): \n",
    "    with autocast(device): \n",
    "        image = pipe(prompt.get(), guidance_scale=8.5)[\"sample\"][0]\n",
    "    \n",
    "    image.save('generatedimage.png')\n",
    "    img = ImageTk.PhotoImage(image)\n",
    "    lmain.configure(image=img) \n",
    "\n",
    "trigger = ctk.CTkButton(height=40, width=120, text_font=(\"Arial\", 20), text_color=\"white\", fg_color=\"blue\", command=generate) \n",
    "trigger.configure(text=\"Generate\") \n",
    "trigger.place(x=206, y=60) \n",
    "\n",
    "app.mainloop()"
   ]
  }
 ],
 "metadata": {
  "kernelspec": {
   "display_name": "Python 3",
   "language": "python",
   "name": "python3"
  },
  "language_info": {
   "codemirror_mode": {
    "name": "ipython",
    "version": 3
   },
   "file_extension": ".py",
   "mimetype": "text/x-python",
   "name": "python",
   "nbconvert_exporter": "python",
   "pygments_lexer": "ipython3",
   "version": "3.9.13"
  },
  "orig_nbformat": 4
 },
 "nbformat": 4,
 "nbformat_minor": 2
}
