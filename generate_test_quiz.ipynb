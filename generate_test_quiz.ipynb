{
 "cells": [
  {
   "cell_type": "code",
   "execution_count": 15,
   "metadata": {},
   "outputs": [
    {
     "name": "stdout",
     "output_type": "stream",
     "text": [
      "Index(['gpt3_v2', 'gpt3_v3', 'gpt3_v3.1', 'gpt3_v4', 'text', 'categoryName'], dtype='object')\n",
      "(50, 6)\n"
     ]
    }
   ],
   "source": [
    "import pandas as pd\n",
    "\n",
    "df = pd.read_csv('fake_base_gpt3_v23314_sent_dalle_colReduced.csv')\n",
    "df = df.sample(n=50, random_state=1)\n",
    "df = df[['gpt3_v2', 'gpt3_v3', 'gpt3_v3.1', 'gpt3_v4', 'text', 'categoryName']]\n",
    "print(df.columns)\n",
    "print(df.shape)\n",
    "\n",
    "df.to_excel('fake_quiz_text.xlsx', index=False)"
   ]
  }
 ],
 "metadata": {
  "kernelspec": {
   "display_name": "Python 3",
   "language": "python",
   "name": "python3"
  },
  "language_info": {
   "codemirror_mode": {
    "name": "ipython",
    "version": 3
   },
   "file_extension": ".py",
   "mimetype": "text/x-python",
   "name": "python",
   "nbconvert_exporter": "python",
   "pygments_lexer": "ipython3",
   "version": "3.9.13"
  },
  "orig_nbformat": 4
 },
 "nbformat": 4,
 "nbformat_minor": 2
}
