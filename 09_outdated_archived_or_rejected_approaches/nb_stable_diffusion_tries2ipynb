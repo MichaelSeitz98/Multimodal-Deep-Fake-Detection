{
 "cells": [
  {
   "cell_type": "code",
   "execution_count": 1,
   "metadata": {},
   "outputs": [],
   "source": [
    "import pandas as pd\n",
    "import numpy as np\n",
    "import matplotlib.pyplot as plt\n",
    "import gradio as gr\n",
    "import tkinter as tk\n",
    "import customtkinter as ctk\n",
    "from PIL import Image, ImageTk\n",
    "import torch\n",
    "from torch import autocast\n",
    "from diffusers import StableDiffusionPipeline\n",
    "import customtkinter as ctk\n",
    "import urllib.request\n",
    "import json"
   ]
  },
  {
   "cell_type": "code",
   "execution_count": null,
   "metadata": {},
   "outputs": [],
   "source": [
    "import tkinter as tk\n",
    "import customtkinter as ctk \n",
    "\n",
    "from PIL import ImageTk\n",
    "import torch\n",
    "from torch import autocast\n",
    "from diffusers import StableDiffusionPipeline \n",
    "\n",
    "# Create the app\n",
    "app = tk.Tk()\n",
    "app.geometry(\"532x632\")\n",
    "app.title(\"Stable Bud\") \n",
    "ctk.set_appearance_mode(\"dark\") \n",
    "\n",
    "prompt = ctk.CTkEntry(height=40, width=512, text_font=(\"Arial\", 20), text_color=\"black\", fg_color=\"white\") \n",
    "prompt.place(x=10, y=10)\n",
    "\n",
    "lmain = ctk.CTkLabel(height=512, width=512)\n",
    "lmain.place(x=10, y=110)\n",
    "\n",
    "modelid = \"CompVis/stable-diffusion-v1-4\"\n",
    "device = \"cuda\"\n",
    "pipe = StableDiffusionPipeline.from_pretrained(modelid, revision=\"fp16\", torch_dtype=torch.float16, use_auth_token=auth_token) \n",
    "pipe.to(device) \n",
    "\n",
    "def generate(): \n",
    "    with autocast(device): \n",
    "        image = pipe(prompt.get(), guidance_scale=8.5)[\"sample\"][0]\n",
    "    \n",
    "    image.save('generatedimage.png')\n",
    "    img = ImageTk.PhotoImage(image)\n",
    "    lmain.configure(image=img) \n",
    "\n",
    "trigger = ctk.CTkButton(height=40, width=120, text_font=(\"Arial\", 20), text_color=\"white\", fg_color=\"blue\", command=generate) \n",
    "trigger.configure(text=\"Generate\") \n",
    "trigger.place(x=206, y=60) \n",
    "\n",
    "app.mainloop()"
   ]
  }
 ],
 "metadata": {
  "kernelspec": {
   "display_name": "Python 3",
   "language": "python",
   "name": "python3"
  },
  "language_info": {
   "codemirror_mode": {
    "name": "ipython",
    "version": 3
   },
   "file_extension": ".py",
   "mimetype": "text/x-python",
   "name": "python",
   "nbconvert_exporter": "python",
   "pygments_lexer": "ipython3",
   "version": "3.9.13"
  },
  "orig_nbformat": 4
 },
 "nbformat": 4,
 "nbformat_minor": 2
}
