{
 "cells": [
  {
   "attachments": {},
   "cell_type": "markdown",
   "metadata": {},
   "source": [
    "### Diese Notebook zeigt EVENTUELL ZUKÜNFTIG das Artefakt als prototypische Front-End-Anwendung\n",
    "\n",
    "Zielt eventuell auf Präsentation ab, und deshalb noch NICHT FINAL!\n",
    "Hier nur erste Versuche mit HTML-Layout. \n",
    "\n"
   ]
  },
  {
   "cell_type": "code",
   "execution_count": null,
   "metadata": {},
   "outputs": [],
   "source": [
    "import pandas as pd\n",
    "import numpy as np\n",
    "import matplotlib.pyplot as plt\n",
    "import gradio as gr\n",
    "from PIL import Image, ImageTk\n",
    "from faker import Faker\n",
    "from transformers import pipeline"
   ]
  },
  {
   "attachments": {},
   "cell_type": "markdown",
   "metadata": {},
   "source": [
    "Generierung & Verifizierung als Gradio-Application"
   ]
  },
  {
   "cell_type": "code",
   "execution_count": null,
   "metadata": {},
   "outputs": [],
   "source": [
    "def generate_review_html(stars, date, user, is_local_guide, text, user_image, review_images, label):\n",
    "    full_stars = int(stars)\n",
    "    half_star = (stars % 1) > 0\n",
    "    empty_stars = 5 - full_stars - half_star\n",
    "    full_star_html = '<span class=\"star full\">&#9733;</span>'\n",
    "    half_star_html = '<span class=\"star half\">&#9733;</span>'\n",
    "    empty_star_html = '<span class=\"star empty\">&#9733;</span>'\n",
    "    stars_html = (full_star_html * full_stars) + (half_star_html * half_star) + (empty_star_html * empty_stars)\n",
    "    user_name = user if not is_local_guide else f\"{user} (local guide)\"\n",
    "    \n",
    "    html = f\"\"\"\n",
    "    <style>\n",
    "      .star.full {{\n",
    "        color: #f1c40f;\n",
    "      }}\n",
    "      .star.half {{\n",
    "        color: #f1c40f;\n",
    "        position: relative;\n",
    "      }}\n",
    "      .star.half::before {{\n",
    "        content: '\\\\2605';\n",
    "        position: absolute;\n",
    "        left: 0;\n",
    "        color: #ddd;\n",
    "      }}\n",
    "      .star.empty {{\n",
    "        color: #ddd;\n",
    "      }}\n",
    "    </style>\n",
    "    <div class=\"review\">\n",
    "      <div class=\"user\">\n",
    "        <div class=\"user-info\">\n",
    "          <h4>{user_name}</h4>\n",
    "          <p>Submitted on {date}</p>\n",
    "          <p class=\"hidden\">{label}</p>\n",
    "        </div>\n",
    "      </div>\n",
    "      <div class=\"rating\">\n",
    "        {stars_html}\n",
    "      </div>\n",
    "      <div class=\"review-text\">\n",
    "        <p>{text}</p>\n",
    "      </div>\n",
    "      <div class=\"review-image\">\n",
    "        <img src={review_images} alt=\"Restaurant image\">\n",
    "      </div>\n",
    "    </div>\n",
    "    \"\"\"\n",
    "    return html"
   ]
  },
  {
   "cell_type": "code",
   "execution_count": null,
   "metadata": {},
   "outputs": [],
   "source": [
    "import openai\n",
    "fake = Faker()"
   ]
  },
  {
   "cell_type": "code",
   "execution_count": 214,
   "metadata": {},
   "outputs": [],
   "source": [
    "def generate_deepfake(review_about, stars):\n",
    "    date = fake.date_between(start_date='-1y', end_date='today')\n",
    "    user = fake.name()\n",
    "    local_guide = fake.boolean(chance_of_getting_true=4)\n",
    "    new_prompt = f\"A Google Maps review about a {review_about}. ###\"\n",
    "\n",
    "    with open(\"apikey_moritz.txt\", \"r\") as f:\n",
    "        api_key = f.read()\n",
    "    print(api_key)\n",
    "    openai.api_key = api_key\n",
    "    fine_tune_list = openai.FineTune.list()\n",
    "    fine_tuned_model = fine_tune_list['data'][0].fine_tuned_model\n",
    "    \n",
    "    print(fine_tuned_model)  \n",
    "    answer = openai.Completion.create(\n",
    "    model=fine_tuned_model,\n",
    "    prompt=new_prompt,\n",
    "    max_tokens=200, # Change amount of tokens for longer completion\n",
    "    temperature=1,\n",
    "    stop = \"END\"\n",
    "    )\n",
    "    text = \"Das ist ein toller Tesbericht! Liebe es!\"\n",
    "    text = answer['choices'][0]['text']\n",
    "    print(text)\n",
    "\n",
    "    # Image\n",
    "    sentiment = pipeline('sentiment-analysis')(text)[0]['label']\n",
    "    print(f\"{sentiment} Text\"\n",
    "          )\n",
    "    if sentiment == \"POSITIVE\":\n",
    "       sentiment = \"great\"\n",
    "       stars = fake.random_int(min=4, max=5)\n",
    "    elif sentiment == \"NEUTRAL\":\n",
    "        sentiment = \"average\"\n",
    "        stars = fake.random_int(min=3, max=4)\n",
    "    elif sentiment == \"NEGATIVE\":\n",
    "        sentiment = \"okay\"\n",
    "        stars = fake.random_int(min=1, max=2)\n",
    "    img_prompt =  f\"A photo of a {sentiment} time at a {review_about},  taken by a photograph visitor. The shot is taken Shot taken by a iPhone 13 Pro, 26mm, f/2.8, ISO 100, hyper detailed, Super-Resolution, UHD, DTM, HDR, 8K --ar 4:3 --q 2, on Tripadvisor.com 2022\"\n",
    "    \n",
    "    with open(\"apikey_valerie.txt\", \"r\") as f:\n",
    "        api_key = f.read()\n",
    "    response = openai.Image.create(prompt=img_prompt, n=1, size=\"256x256\")\n",
    "    img_url = response[\"data\"][0][\"url\"]\n",
    "\n",
    "    html_review = generate_review_html(stars, date, user, local_guide, text, user_image=\"https://via.placeholder.com/50/%22%20alt=/%22Restaurant%20image/\", review_images = img_url, label = \"fake\")\n",
    "    return html_review"
   ]
  },
  {
   "attachments": {},
   "cell_type": "markdown",
   "metadata": {},
   "source": [
    "## V2 Variante: Mit Stars angeben, veraltetes Modell"
   ]
  },
  {
   "cell_type": "code",
   "execution_count": null,
   "metadata": {},
   "outputs": [],
   "source": [
    "fake = Faker()"
   ]
  },
  {
   "cell_type": "code",
   "execution_count": 215,
   "metadata": {},
   "outputs": [],
   "source": [
    "def generate_deepfake_ft0(review_about, stars, keywords):\n",
    "    date = fake.date_between(start_date=\"-1y\", end_date=\"today\")\n",
    "    user = fake.name()\n",
    "    local_guide = fake.boolean(chance_of_getting_true=4)\n",
    "\n",
    "    with open(\"apikey_openai.txt\", \"r\") as f:\n",
    "        api_key = f.read()\n",
    "\n",
    "    openai.api_key = api_key\n",
    "    fine_tune_list = openai.FineTune.list()\n",
    "    fine_tuned_model = fine_tune_list[\"data\"][0].fine_tuned_model\n",
    "    print(fine_tuned_model)\n",
    "\n",
    "    new_prompt = f\"A {stars} stars Google Maps review about a {review_about} witth follwing keywords: {keywords} ###\"\n",
    "    answer = openai.Completion.create(\n",
    "        model=fine_tuned_model,\n",
    "        prompt=new_prompt,\n",
    "        max_tokens=200,  # Change amount of tokens for longer completion\n",
    "        temperature=1,\n",
    "        stop=\"END\",\n",
    "    )\n",
    "    text = \"Das ist ein toller Tesbericht! Liebe es!\"\n",
    "    text = answer[\"choices\"][0][\"text\"]\n",
    "    print(text)\n",
    "\n",
    "    if stars == 5:\n",
    "        sentiment = \"great\"\n",
    "    elif stars == 4:\n",
    "        sentiment = \"good\"\n",
    "    elif stars == 3:\n",
    "        sentiment = \"average\"\n",
    "    elif stars == 2:\n",
    "        sentiment = \"okay\"\n",
    "    elif stars == 1:\n",
    "        sentiment = \"okay\"\n",
    "    img_prompt = f\"A photo of a {sentiment} time at a {review_about},  taken by a photograph visitor. The shot is taken Shot taken by a iPhone 13 Pro, 26mm, f/2.8, ISO 100, hyper detailed, Super-Resolution, UHD, DTM, HDR, 8K --ar 4:3 --q 2, on Tripadvisor.com 2022\"\n",
    "    with open(\"apikey_valerie.txt\", \"r\") as f:\n",
    "        api_key = f.read()\n",
    "    response = openai.Image.create(prompt=img_prompt, n=1, size=\"256x256\")\n",
    "    img_url = response[\"data\"][0][\"url\"]\n",
    "\n",
    "    html_review = generate_review_html(\n",
    "        stars,\n",
    "        date,\n",
    "        user,\n",
    "        local_guide,\n",
    "        text,\n",
    "        user_image=\"https://via.placeholder.com/50/%22%20alt=/%22Restaurant%20image/\",\n",
    "        review_images=img_url,\n",
    "        label=\"fake\"\n",
    "    )\n",
    "    return html_review"
   ]
  },
  {
   "attachments": {},
   "cell_type": "markdown",
   "metadata": {},
   "source": [
    "## Fake-Oder-Echt-Quiz"
   ]
  },
  {
   "cell_type": "code",
   "execution_count": null,
   "metadata": {},
   "outputs": [],
   "source": [
    "df = pd.read_csv(\"01_Data/data_cleaned_processed/base_for_feature_extraction.csv\")\n",
    "df.head(55)[[\"text\", \"categoryName\"]]"
   ]
  },
  {
   "cell_type": "code",
   "execution_count": 213,
   "metadata": {},
   "outputs": [
    {
     "name": "stderr",
     "output_type": "stream",
     "text": [
      "c:\\Users\\michi\\AppData\\Local\\Programs\\Python\\Python39\\lib\\site-packages\\gradio\\deprecation.py:43: UserWarning: You have unused kwarg parameters in Column, please remove them: {'Label': 'Tipp und Auswertung'}\n",
      "  warnings.warn(\n",
      "c:\\Users\\michi\\AppData\\Local\\Programs\\Python\\Python39\\lib\\site-packages\\gradio\\deprecation.py:43: UserWarning: You have unused kwarg parameters in Textbox, please remove them: {'readonly': True}\n",
      "  warnings.warn(\n",
      "c:\\Users\\michi\\AppData\\Local\\Programs\\Python\\Python39\\lib\\site-packages\\gradio\\utils.py:805: UserWarning: Expected 3 arguments for function <function generate_deepfake_ft0 at 0x0000023A9D4A83A0>, received 2.\n",
      "  warnings.warn(\n",
      "c:\\Users\\michi\\AppData\\Local\\Programs\\Python\\Python39\\lib\\site-packages\\gradio\\utils.py:809: UserWarning: Expected at least 3 arguments for function <function generate_deepfake_ft0 at 0x0000023A9D4A83A0>, received 2.\n",
      "  warnings.warn(\n"
     ]
    },
    {
     "name": "stdout",
     "output_type": "stream",
     "text": [
      "Running on local URL:  http://127.0.0.1:7900\n",
      "Running on public URL: https://ddb4020a-8bab-46e4.gradio.live\n",
      "\n",
      "This share link expires in 72 hours. For free permanent hosting and GPU upgrades (NEW!), check out Spaces: https://huggingface.co/spaces\n"
     ]
    },
    {
     "data": {
      "text/html": [
       "<div><iframe src=\"https://ddb4020a-8bab-46e4.gradio.live\" width=\"100%\" height=\"500\" allow=\"autoplay; camera; microphone; clipboard-read; clipboard-write;\" frameborder=\"0\" allowfullscreen></iframe></div>"
      ],
      "text/plain": [
       "<IPython.core.display.HTML object>"
      ]
     },
     "metadata": {},
     "output_type": "display_data"
    },
    {
     "data": {
      "text/plain": []
     },
     "execution_count": 213,
     "metadata": {},
     "output_type": "execute_result"
    },
    {
     "name": "stdout",
     "output_type": "stream",
     "text": [
      "Index: 1\n",
      "Index: 2\n",
      "Index: 3\n",
      "Index: 4\n",
      "Index: 5\n",
      "Index: 6\n",
      "Index: 7\n",
      "Index: 8\n",
      "Index: 9\n",
      "Index: 10\n",
      "Index: 11\n",
      "Index: 12\n",
      "Index: 13\n",
      "Index: 14\n",
      "Index: 15\n",
      "Index: 16\n"
     ]
    },
    {
     "name": "stderr",
     "output_type": "stream",
     "text": [
      "No model was supplied, defaulted to distilbert-base-uncased-finetuned-sst-2-english and revision af0f99b (https://huggingface.co/distilbert-base-uncased-finetuned-sst-2-english).\n",
      "Using a pipeline without specifying a model name and revision in production is not recommended.\n"
     ]
    },
    {
     "name": "stdout",
     "output_type": "stream",
     "text": [
      " Amazing food, very cozy.  Good background music.  Don't forget to try the desserts and Creme brûlée.  The sausage and mashed potatoes are from another planet. \n",
      "POSITIVE Text\n"
     ]
    },
    {
     "name": "stderr",
     "output_type": "stream",
     "text": [
      "Traceback (most recent call last):\n",
      "  File \"c:\\Users\\michi\\AppData\\Local\\Programs\\Python\\Python39\\lib\\site-packages\\gradio\\routes.py\", line 337, in run_predict\n",
      "    output = await app.get_blocks().process_api(\n",
      "  File \"c:\\Users\\michi\\AppData\\Local\\Programs\\Python\\Python39\\lib\\site-packages\\gradio\\blocks.py\", line 1015, in process_api\n",
      "    result = await self.call_function(\n",
      "  File \"c:\\Users\\michi\\AppData\\Local\\Programs\\Python\\Python39\\lib\\site-packages\\gradio\\blocks.py\", line 833, in call_function\n",
      "    prediction = await anyio.to_thread.run_sync(\n",
      "  File \"c:\\Users\\michi\\AppData\\Local\\Programs\\Python\\Python39\\lib\\site-packages\\anyio\\to_thread.py\", line 31, in run_sync\n",
      "    return await get_asynclib().run_sync_in_worker_thread(\n",
      "  File \"c:\\Users\\michi\\AppData\\Local\\Programs\\Python\\Python39\\lib\\site-packages\\anyio\\_backends\\_asyncio.py\", line 937, in run_sync_in_worker_thread\n",
      "    return await future\n",
      "  File \"c:\\Users\\michi\\AppData\\Local\\Programs\\Python\\Python39\\lib\\site-packages\\anyio\\_backends\\_asyncio.py\", line 867, in run\n",
      "    result = context.run(func, *args)\n",
      "  File \"C:\\Users\\michi\\AppData\\Local\\Temp\\ipykernel_23012\\3445400399.py\", line 38, in generate_deepfake\n",
      "    html_review = generate_review_html(stars, date, user, local_guide, text, user_image=\"https://via.placeholder.com/50/%22%20alt=/%22Restaurant%20image/\", review_images = img_url)\n",
      "TypeError: generate_review_html() missing 1 required positional argument: 'label'\n",
      "c:\\Users\\michi\\AppData\\Local\\Programs\\Python\\Python39\\lib\\site-packages\\gradio\\helpers.py:626: UserWarning: Unexpected argument. Filling with None.\n",
      "  warnings.warn(\"Unexpected argument. Filling with None.\")\n"
     ]
    },
    {
     "name": "stdout",
     "output_type": "stream",
     "text": [
      " This restaurant is located in a strip mall, fairly easy to find. The parking area is narrow and faces the building next door—but there is parking available. The interior contains several tables of various sizes (for 2 to 6 people) for dining. The layout is pretty open, and you can see almost all of the dining area.\n",
      "Estel's is open for breakfast, lunch and dinner. Their menu includes a variety of German foods (sausage, jagerschnitzel , leberwurst, breze, etc.) If you look carefully, you'll see their marque says 'family orientated' and they should receive points for that immediately! # 1: The quality of the food is consistently good. # 2: The price is reasonable. On entry into the dining area, they give you a tray with a linen-like cloth on it. The atmosphere is pleasant, filled with people of all ages. Service is good, and generally your food is brought to you\n"
     ]
    },
    {
     "name": "stderr",
     "output_type": "stream",
     "text": [
      "Traceback (most recent call last):\n",
      "  File \"c:\\Users\\michi\\AppData\\Local\\Programs\\Python\\Python39\\lib\\site-packages\\gradio\\routes.py\", line 337, in run_predict\n",
      "    output = await app.get_blocks().process_api(\n",
      "  File \"c:\\Users\\michi\\AppData\\Local\\Programs\\Python\\Python39\\lib\\site-packages\\gradio\\blocks.py\", line 1015, in process_api\n",
      "    result = await self.call_function(\n",
      "  File \"c:\\Users\\michi\\AppData\\Local\\Programs\\Python\\Python39\\lib\\site-packages\\gradio\\blocks.py\", line 833, in call_function\n",
      "    prediction = await anyio.to_thread.run_sync(\n",
      "  File \"c:\\Users\\michi\\AppData\\Local\\Programs\\Python\\Python39\\lib\\site-packages\\anyio\\to_thread.py\", line 31, in run_sync\n",
      "    return await get_asynclib().run_sync_in_worker_thread(\n",
      "  File \"c:\\Users\\michi\\AppData\\Local\\Programs\\Python\\Python39\\lib\\site-packages\\anyio\\_backends\\_asyncio.py\", line 937, in run_sync_in_worker_thread\n",
      "    return await future\n",
      "  File \"c:\\Users\\michi\\AppData\\Local\\Programs\\Python\\Python39\\lib\\site-packages\\anyio\\_backends\\_asyncio.py\", line 867, in run\n",
      "    result = context.run(func, *args)\n",
      "  File \"C:\\Users\\michi\\AppData\\Local\\Temp\\ipykernel_23012\\3811550567.py\", line 34, in generate_deepfake_ft0\n",
      "    html_review = generate_review_html(\n",
      "TypeError: generate_review_html() missing 1 required positional argument: 'label'\n"
     ]
    }
   ],
   "source": [
    "import gradio as gr\n",
    "import pandas as pd\n",
    "import re\n",
    "\n",
    "df = pd.read_csv(\"01_Data/data_cleaned_processed/base_for_feature_extraction.csv\")\n",
    "df = df.drop(df.index[16:26])\n",
    "df = df.sample(frac=1, random_state=42)\n",
    "\n",
    "## ist die Frage ob ich den Index zurücksezte und dann daran die beispiele raussuchen soll \n",
    "#df = df.reset_index(drop=True)\n",
    "\n",
    "# keep_index = [46,53]\n",
    "# df = df.iloc[keep_index]\n",
    "\n",
    "current_review_index = 0\n",
    "count_right_answers = 0\n",
    "\n",
    "reviews = []\n",
    "for index, row in df.iterrows():\n",
    "    stars = row[\"stars\"]\n",
    "    date = row[\"publishedAtDate\"]\n",
    "    user = row[\"name\"]\n",
    "    is_local_guide = row[\"isLocalGuide\"]\n",
    "    text = row[\"text\"]\n",
    "    label = row[\"label\"]\n",
    "    user_image = \"\"\n",
    "    category = row[\"categoryName\"]\n",
    "    title = row[\"title\"]\n",
    "    review_images = row[\"reviewImageUrls/0\"]\n",
    "    html_input = generate_review_html(stars, date, user, is_local_guide, text, user_image, review_images, label)\n",
    "    reviews.append(html_input)\n",
    "\n",
    "def generate_gradio_input (html_input, answer): \n",
    "    global current_review_index\n",
    "    global count_right_answers\n",
    "\n",
    "    # Auswertung der abgegebenen Antwort\n",
    "    if \"fake\" in html_input:\n",
    "        label  =\"fake\"\n",
    "    else:\n",
    "        label = \"real\"\n",
    "    is_fake = label == \"fake\"\n",
    "\n",
    "    if answer.lower() == \"fake\" and is_fake:\n",
    "        feedback = \"Korrekt! Die Review war fake.\"\n",
    "        count_right_answers += 1\n",
    "    elif answer.lower() == \"real\" and not is_fake:\n",
    "        feedback = \"Korrekt! Die Review war real.\"\n",
    "        count_right_answers += 1\n",
    "    else:\n",
    "        feedback = \"Leider nicht korrekt! Die Review war \" + (\"fake.\" if is_fake else \"real.\")\n",
    "\n",
    "    current_review_index += 1\n",
    "    infotext = feedback + f\"\\n {count_right_answers} von {current_review_index} richtig erkannt ({round(count_right_answers/current_review_index*100,2)} %).\"\n",
    "    infotext_html = gr.HTML(f\"<h3> {infotext} </h3>\")\n",
    "\n",
    "    # Ausgabe der nächsten Bewertung\n",
    "    print(f\"Index: {current_review_index}\")\n",
    "    if current_review_index >= len(reviews):\n",
    "         return None\n",
    "    review_html = reviews[current_review_index]\n",
    "    input_html = gr.HTML(review_html)\n",
    "    answer_pos = gr.Radio([\"real\", \"fake\"], label=\"Ist diese Bewertung echt oder gefälscht?\")\n",
    "    kategorietext_html = f\"<h2> Eine Google Maps Reviews aus der Kategorie: {df.iloc[current_review_index]['categoryName']} <hr></h2>\"\n",
    "    return review_html, infotext, kategorietext_html\n",
    "\n",
    "with gr.Blocks() as demo:\n",
    "    with gr.Tab (\"Quiz: Fake oder Echt?\"):\n",
    "        with gr.Row():\n",
    "            with gr.Column():\n",
    "                category = df.iloc[current_review_index][\"categoryName\"]\n",
    "                kurze_info = gr.HTML(f\"<h3> Eine Google Maps Reviews aus der Kategorie: {df.iloc[current_review_index]['categoryName']} <hr></h3>\")\n",
    "                input_html = gr.HTML(reviews[3])\n",
    "            with gr.Column(Label=\"Tipp und Auswertung\"):\n",
    "                answer_pos = gr.Radio([\"fake\", \"real\"], label=\"Ist diese Bewertung echt oder gefälscht?\")\n",
    "                submit_btn = gr.Button(\"Auswerten\")\n",
    "                infotext = gr.Textbox(label=\"Auflösung vorheriger Antwort:\", readonly=True)\n",
    "                submit_btn.click(generate_gradio_input, inputs=[input_html, answer_pos], outputs=[input_html, infotext, kurze_info])\n",
    "\n",
    "    with gr.Tab (\"Create Fake Review\"):\n",
    "        review_about = gr.Textbox(label=\"Review about\")\n",
    "        review_stars = gr.Slider(label=\"Stars\", minimum=1, maximum=5, step=1)\n",
    "        generate_btn = gr.Button(\"Multimodale Bewertung erstellen\")\n",
    "        html_output = gr.HTML(label=\"Review\") \n",
    "        generate_btn.click(fn=generate_deepfake, inputs=[review_about, review_stars], outputs=[html_output])\n",
    "\n",
    "    with gr.Tab (\"Create Fake Review FT1\"):\n",
    "        review_about = gr.Textbox(label=\"Review about\")\n",
    "        review_stars = gr.Slider(label=\"Stars\", minimum=1, maximum=5, step=1)\n",
    "        review_keywords = gr.Textbox(label=\"Keywords\")\n",
    "        generate_btn = gr.Button(\"Generate Multi-Modal Review\")\n",
    "        html_output = gr.HTML(label=\"Review\") \n",
    "        generate_btn.click(fn=generate_deepfake_ft0, inputs=[review_about, review_stars], outputs=[html_output])\n",
    "            \n",
    "demo.launch(share=True)"
   ]
  },
  {
   "attachments": {},
   "cell_type": "markdown",
   "metadata": {},
   "source": [
    "Bisher: Mit Layout rumgespielt. Noch keine **Funktionalität der Deepfake-Modelle** intergiert!"
   ]
  },
  {
   "cell_type": "code",
   "execution_count": 211,
   "metadata": {},
   "outputs": [
    {
     "data": {
      "text/html": [
       "<pre style=\"white-space:pre;overflow-x:auto;line-height:normal;font-family:Menlo,'DejaVu Sans Mono',consolas,'Courier New',monospace\"><span style=\"color: #ff0000; text-decoration-color: #ff0000\">╭──────────────────────────────────────────────────────────────────────────────────────────────────╮</span>\n",
       "<span style=\"color: #ff0000; text-decoration-color: #ff0000\">│</span>         <span style=\"color: #800080; text-decoration-color: #800080; font-weight: bold\">check_btn.click</span><span style=\"font-weight: bold\">(</span> , <span style=\"color: #808000; text-decoration-color: #808000\">inputs</span>=<span style=\"font-weight: bold\">[</span>review_about, review_stars<span style=\"font-weight: bold\">]</span>, <span style=\"color: #808000; text-decoration-color: #808000\">outputs</span>=<span style=\"font-weight: bold\">[</span>html_output<span style=\"font-weight: bold\">])</span>           <span style=\"color: #ff0000; text-decoration-color: #ff0000\">│</span>\n",
       "<span style=\"color: #ff0000; text-decoration-color: #ff0000\">│</span>                          <span style=\"color: #ff0000; text-decoration-color: #ff0000; font-weight: bold\">▲</span>                                                                       <span style=\"color: #ff0000; text-decoration-color: #ff0000\">│</span>\n",
       "<span style=\"color: #ff0000; text-decoration-color: #ff0000\">╰──────────────────────────────────────────────────────────────────────────────────────────────────╯</span>\n",
       "<span style=\"color: #ff0000; text-decoration-color: #ff0000; font-weight: bold\">SyntaxError: </span>invalid syntax\n",
       "</pre>\n"
      ],
      "text/plain": [
       "\u001b[91m╭──────────────────────────────────────────────────────────────────────────────────────────────────╮\u001b[0m\n",
       "\u001b[91m│\u001b[0m         \u001b[1;35mcheck_btn.click\u001b[0m\u001b[1m(\u001b[0m , \u001b[33minputs\u001b[0m=\u001b[1m[\u001b[0mreview_about, review_stars\u001b[1m]\u001b[0m, \u001b[33moutputs\u001b[0m=\u001b[1m[\u001b[0mhtml_output\u001b[1m]\u001b[0m\u001b[1m)\u001b[0m           \u001b[91m│\u001b[0m\n",
       "\u001b[91m│\u001b[0m                          \u001b[1;91m▲\u001b[0m                                                                       \u001b[91m│\u001b[0m\n",
       "\u001b[91m╰──────────────────────────────────────────────────────────────────────────────────────────────────╯\u001b[0m\n",
       "\u001b[1;91mSyntaxError: \u001b[0minvalid syntax\n"
      ]
     },
     "metadata": {},
     "output_type": "display_data"
    }
   ],
   "source": [
    "with gr.Blocks() as demo:\n",
    "    with gr.Tab (\"Create Fake Review\"):\n",
    "        review_about = gr.Textbox(label=\"Review about\")\n",
    "        review_stars = gr.Slider(label=\"Stars\", minimum=1, maximum=5, step=1)\n",
    "        generate_btn = gr.Button(\"Generate Multi-Modal Review\")\n",
    "        html_output = gr.HTML(label=\"Review\") \n",
    "        generate_btn.click(fn=generate_deepfake, inputs=[review_about, review_stars], outputs=[html_output])\n",
    "    \n",
    "    with gr.Tab (\"Create Fake Review FT1\"):\n",
    "        review_about = gr.Textbox(label=\"Review about\")\n",
    "        review_stars = gr.Slider(label=\"Stars\", minimum=1, maximum=5, step=1)\n",
    "        review_keywords = gr.Textbox(label=\"Keywords\")\n",
    "        generate_btn = gr.Button(\"Generate Multi-Modal Review\")\n",
    "        html_output = gr.HTML(label=\"Review\") \n",
    "        generate_btn.click(fn=generate_deepfake_ft0, inputs=[review_about, review_stars], outputs=[html_output])\n",
    "\n",
    "    with gr.Tab (\"Quiz: Fake oder Echt?\"):\n",
    "        df = pd.read_csv(\"01_Data/data_cleaned_processed/base_for_feature_extraction.csv\")\n",
    "        print(df.shape)\n",
    "        print(df.columns)\n",
    "        random_review = df.sample(1)\n",
    "        stars = random_review[\"stars\"].values[0]\n",
    "        date = random_review[\"publishedAtDate\"].values[0]\n",
    "        user = random_review[\"name\"].values[0]\n",
    "        is_local_guide = random_review[\"isLocalGuide\"].values[0]\n",
    "        text = random_review[\"text\"].values[0]\n",
    "        user_image = \"\"\n",
    "        label =  random_review[\"label\"].values[0]\n",
    "        review_images = random_review[\"reviewImageUrls/0\"].values[0]\n",
    "\n",
    "        html_input = generate_review_html(stars, date, user, is_local_guide, text, user_image, review_images)\n",
    "        print(html_input)\n",
    "        html_output = gr.HTML(html_input, label=\"Review\")        \n",
    "        check_btn = gr.Radio([\"Fake\", \"Real\"], label=\"Fake or Real?\")\n",
    "        check_btn.click( , inputs=[review_about, review_stars], outputs=[html_output])\n",
    "\n",
    "demo.launch(debug=True)"
   ]
  }
 ],
 "metadata": {
  "kernelspec": {
   "display_name": "Python 3",
   "language": "python",
   "name": "python3"
  },
  "language_info": {
   "codemirror_mode": {
    "name": "ipython",
    "version": 3
   },
   "file_extension": ".py",
   "mimetype": "text/x-python",
   "name": "python",
   "nbconvert_exporter": "python",
   "pygments_lexer": "ipython3",
   "version": "3.9.13"
  },
  "orig_nbformat": 4
 },
 "nbformat": 4,
 "nbformat_minor": 2
}
