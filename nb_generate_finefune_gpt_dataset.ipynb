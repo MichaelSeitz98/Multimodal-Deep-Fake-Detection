{
 "cells": [
  {
   "attachments": {},
   "cell_type": "markdown",
   "metadata": {},
   "source": [
    "Finetuning eines GPT-3-Modell\n",
    "\n",
    "In diesem Notebook wird dein Datensatz zusammengestellt, der ausschließlich zum Finetuning eines GPT-3-Modells dient"
   ]
  },
  {
   "cell_type": "code",
   "execution_count": 2,
   "metadata": {},
   "outputs": [],
   "source": [
    "import pandas as pd\n",
    "import torch\n",
    "from transformers import GPT2LMHeadModel, GPT2Tokenizer\n",
    "import re\n",
    "import json\n",
    "import openai\n",
    "import langdetect"
   ]
  },
  {
   "attachments": {},
   "cell_type": "markdown",
   "metadata": {},
   "source": [
    "# Datensatz erstellen für GPT3 Finetuning "
   ]
  },
  {
   "cell_type": "code",
   "execution_count": null,
   "metadata": {},
   "outputs": [],
   "source": [
    "# df_rest = pd.read_csv('01_Raw_Data\\dataset_Google-Maps-Reviews-Restaurants_2023-03-26_09-43-08-320.csv')\n",
    "# df_act = pd.read_csv('01_Raw_Data\\dataset_Google-Maps-Reviews-Activities_2023-03-26_11-08-15-435.csv')\n",
    "# df_hotel = pd.read_csv('01_Raw_Data\\dataset_Google-Maps-Reviews-Hotels_2023-03-26_11-34-16-492.csv')\n",
    "\n",
    "\n",
    "# MIT VIEL MEHR DATEN UND DANN DAFÜR DIE LOCATIONS RAUSSCHMEIßEN\n",
    "\n",
    "df_rest = pd.read_csv('01_Raw_Data\\dataset_Google-Maps-Reviews-Restaurants_v2_2023-03-30_14-05-51-577.csv')\n",
    "df_act = pd.read_csv('01_Raw_Data\\dataset_Google-Maps-Reviews-Activities_v2_2023-04-05_08-52-36-619.csv')\n",
    "df_hotel = pd.read_csv('01_Raw_Data\\dataset_Google-Maps-Reviews-Hotels_v2_2023-04-05_09-21-00-200.csv')\n",
    "\n",
    "print('Restaurants (Shape): ', df_rest.shape)\n",
    "print('Activities (Shape): ', df_act.shape)\n",
    "print('Hotels (Shape): ', df_hotel.shape)"
   ]
  },
  {
   "cell_type": "code",
   "execution_count": null,
   "metadata": {},
   "outputs": [],
   "source": [
    "# add a column genre restaurant to the df_rest\n",
    "df_rest['genre'] = 'restaurant'\n",
    "df_act['genre'] = 'activity'\n",
    "df_hotel['genre'] = 'hotel'"
   ]
  },
  {
   "attachments": {},
   "cell_type": "markdown",
   "metadata": {},
   "source": [
    "Idee: nur den Text berücksichtigen. Noch kein Fokus auf zwei Modalitäten"
   ]
  },
  {
   "cell_type": "code",
   "execution_count": null,
   "metadata": {},
   "outputs": [],
   "source": [
    "df_complete_ft = pd.concat([df_rest, df_act, df_hotel], axis=0)\n",
    "print('All (raw): ', df_complete_ft.shape)\n",
    "df_complete_ft = df_complete_ft.reset_index(drop=True)\n",
    "df_complete_ft = df_complete_ft.drop_duplicates(subset=['reviewId'])\n",
    "print('All (raw): ', df_complete_ft.shape)\n",
    "df_complete_ft = df_complete_ft.dropna(subset=['text'])\n",
    "print('All (raw): ', df_complete_ft.shape)\n",
    "df_complete_ft['text'] = df_complete_ft['text'].astype(str)\n",
    "print('All with text: ', df_complete_ft.shape)\n",
    "# save \n",
    "df_complete_ft.to_csv('01_Raw_Data\\dataset_für_weitere_forschung.csv', index=False)"
   ]
  },
  {
   "cell_type": "code",
   "execution_count": null,
   "metadata": {},
   "outputs": [],
   "source": [
    "df_complete_ft = pd.read_csv('01_Raw_Data\\dataset_für_weitere_forschung.csv')\n",
    "df_complete_ft = df_complete_ft[['text', 'reviewId', 'url', 'placeId','categoryName', 'stars','title', 'reviewImageUrls/0','genre']]\n",
    "\n",
    "print('All with text: ', df_complete_ft.shape)\n",
    "print('Unique categoryNames: ', df_complete_ft['categoryName'].nunique())\n",
    "print('Unique categoryNames: ', df_complete_ft['categoryName'].unique())\n",
    "print('Unique places: ', df_complete_ft['placeId'].nunique())\n",
    "\n",
    "df_complete_ft.to_csv('01_Raw_Data\\dataset_für_weitere_forschung_relCols.csv', index=False)"
   ]
  },
  {
   "cell_type": "code",
   "execution_count": 71,
   "metadata": {},
   "outputs": [
    {
     "name": "stdout",
     "output_type": "stream",
     "text": [
      "All places and all reviews:  (84831, 9)\n",
      "Not places from base dataset any more:  (47431, 9)\n",
      "categoryName\n",
      "American restaurant            4.534658\n",
      "Amusement Centre               4.571429\n",
      "Amusement center               3.934783\n",
      "Amusement park                 4.200000\n",
      "Aquarium                       4.183500\n",
      "Asian fusion restaurant        4.656766\n",
      "Bar                            4.885057\n",
      "Bar & grill                    4.356684\n",
      "Bistro                         4.679688\n",
      "Boat rental service            4.812500\n",
      "Bowling alley                  4.463415\n",
      "Buffet restaurant              3.837177\n",
      "Casino                         3.594966\n",
      "Children's Amusement Centre    4.213953\n",
      "Chinese restaurant             3.751926\n",
      "Escape room center             4.714286\n",
      "Exhibit                        4.029412\n",
      "Fine dining restaurant         4.569231\n",
      "French restaurant              4.782383\n",
      "German restaurant              4.522388\n",
      "Go-kart track                  4.538793\n",
      "Golf club                      4.468750\n",
      "Golf course                    4.476285\n",
      "Golf driving range             4.466667\n",
      "Grill                          4.451220\n",
      "Hotel                          4.006639\n",
      "Ice cream shop                 4.828151\n",
      "Indoor playground              4.530973\n",
      "Indoor swimming pool           4.539130\n",
      "Inn                            4.730047\n",
      "Italian restaurant             4.152330\n",
      "Lodge                          4.421965\n",
      "Mexican restaurant             4.264164\n",
      "Miniature golf course          4.695745\n",
      "Movie theater                  4.236264\n",
      "Museum                         4.695652\n",
      "Natural history museum         4.614545\n",
      "Paintball center               4.771689\n",
      "Pizza Takeout                  4.428571\n",
      "Public golf course             4.304878\n",
      "Public swimming pool           4.342857\n",
      "Recreation center              4.547244\n",
      "Resort hotel                   4.524613\n",
      "Restaurant                     4.462555\n",
      "Seafood restaurant             4.005865\n",
      "Skate park                     4.857143\n",
      "Steak house                    4.666667\n",
      "Sushi restaurant               4.672269\n",
      "Thai restaurant                4.555556\n",
      "Theme park                     4.293000\n",
      "Tropical fish store            4.604959\n",
      "Vegetarian restaurant          4.443299\n",
      "Video arcade                   4.587368\n",
      "Water park                     4.319218\n",
      "Zoo                            4.385549\n",
      "Name: stars, dtype: float64\n",
      "with images (5887, 9)\n",
      "All places and all reviews:  (5887, 9)\n",
      "categoryName\n",
      "American restaurant            4.728682\n",
      "Amusement Centre               4.600000\n",
      "Amusement center               4.363636\n",
      "Amusement park                 4.470588\n",
      "Aquarium                       4.495255\n",
      "Asian fusion restaurant        4.647059\n",
      "Bar                            5.000000\n",
      "Bar & grill                    4.500000\n",
      "Bistro                         4.903226\n",
      "Boat rental service            5.000000\n",
      "Bowling alley                  4.714286\n",
      "Buffet restaurant              3.763636\n",
      "Casino                         4.303150\n",
      "Children's Amusement Centre    4.333333\n",
      "Chinese restaurant             4.588235\n",
      "Escape room center             5.000000\n",
      "Exhibit                        4.520000\n",
      "Fine dining restaurant         4.750000\n",
      "French restaurant              4.941176\n",
      "German restaurant              4.823529\n",
      "Go-kart track                  4.800000\n",
      "Golf club                      4.923077\n",
      "Golf course                    4.750000\n",
      "Golf driving range             5.000000\n",
      "Grill                          4.800000\n",
      "Hotel                          4.222353\n",
      "Ice cream shop                 4.764706\n",
      "Indoor playground              4.923077\n",
      "Indoor swimming pool           4.500000\n",
      "Inn                            4.977273\n",
      "Italian restaurant             4.379310\n",
      "Lodge                          4.647059\n",
      "Mexican restaurant             4.425926\n",
      "Miniature golf course          4.910448\n",
      "Movie theater                  4.100000\n",
      "Museum                         4.857143\n",
      "Natural history museum         4.687500\n",
      "Paintball center               4.833333\n",
      "Public golf course             4.950000\n",
      "Public swimming pool           5.000000\n",
      "Recreation center              4.800000\n",
      "Resort hotel                   4.770440\n",
      "Restaurant                     4.690476\n",
      "Seafood restaurant             4.244444\n",
      "Skate park                     5.000000\n",
      "Steak house                    4.250000\n",
      "Sushi restaurant               4.952381\n",
      "Thai restaurant                4.423077\n",
      "Theme park                     4.568758\n",
      "Tropical fish store            4.809524\n",
      "Vegetarian restaurant          4.636364\n",
      "Video arcade                   4.800000\n",
      "Water park                     4.777778\n",
      "Zoo                            4.531850\n",
      "Name: stars, dtype: float64\n"
     ]
    }
   ],
   "source": [
    "df_complete_ft = pd.read_csv('01_Raw_Data\\dataset_für_weitere_forschung_relCols.csv')\n",
    "df_reduced = pd.read_csv('real_base_sent_reduced.csv')\n",
    "\n",
    "print('All places and all reviews: ', df_complete_ft.shape)\n",
    "\n",
    "df_complete_ft = df_complete_ft[~df_complete_ft['placeId'].isin(df_reduced['placeId'])]\n",
    "print('Not places from base dataset any more: ', df_complete_ft.shape)\n",
    "\n",
    "print (df_complete_ft.groupby('categoryName')['stars'].mean())\n",
    "\n",
    "df_complete_ft = df_complete_ft.dropna(subset=['reviewImageUrls/0'])\n",
    "print('with images', df_complete_ft.shape)\n",
    "\n",
    "print('All places and all reviews: ', df_complete_ft.shape)\n",
    "print (df_complete_ft.groupby('categoryName')['stars'].mean())\n",
    "\n",
    "df_complete_ft.to_csv('dataset_ft_v3.csv', index=False)"
   ]
  },
  {
   "cell_type": "code",
   "execution_count": 85,
   "metadata": {},
   "outputs": [
    {
     "name": "stdout",
     "output_type": "stream",
     "text": [
      "Starting... (5759, 9)\n",
      "Finsihed only English (5759, 9)\n"
     ]
    }
   ],
   "source": [
    "df = pd.read_csv('dataset_ft_v3_en.csv')\n",
    "#filter out any non english reviews\n",
    "def is_english(text):\n",
    "    try:\n",
    "        return langdetect.detect(text) == 'en'\n",
    "    except:\n",
    "        return False\n",
    "\n",
    "print('Starting...', df.shape)\n",
    "df = df[df['text'].apply(is_english)]\n",
    "\n",
    "print('Finsihed only English', df.shape)\n",
    "df.to_csv('dataset_ft_v3_en.csv', index=False)"
   ]
  },
  {
   "attachments": {},
   "cell_type": "markdown",
   "metadata": {},
   "source": [
    "### Ab hier kann für weitere Finetuning Datasets angesetzt werde. ft_v3 beinhaltet keine Places aus dem Base mehr!!!!"
   ]
  },
  {
   "cell_type": "code",
   "execution_count": 11,
   "metadata": {},
   "outputs": [
    {
     "name": "stdout",
     "output_type": "stream",
     "text": [
      " (5759, 9)\n",
      "107\n",
      "hotel         1291\n",
      "activity      1273\n",
      "restaurant     633\n",
      "Name: genre, dtype: int64\n",
      "genre\n",
      "activity      4.626080\n",
      "hotel         4.340821\n",
      "restaurant    4.552923\n",
      "Name: stars, dtype: float64\n",
      " (3197, 9)\n"
     ]
    }
   ],
   "source": [
    "df = pd.read_csv('dataset_ft_v3_en.csv')\n",
    "print('', df.shape)\n",
    "\n",
    "df = df.groupby('placeId').apply(lambda x: x.sample(min(len(x), 100)))\n",
    "\n",
    "print(df['placeId'].nunique())\n",
    "print(df['genre'].value_counts())\n",
    "print (df.groupby('genre')['stars'].mean())\n",
    "print('', df.shape)\n",
    "\n",
    "df.to_csv('dataset_ft_v3_en_mulitmod.csv', index=False)"
   ]
  },
  {
   "cell_type": "code",
   "execution_count": 16,
   "metadata": {},
   "outputs": [
    {
     "name": "stdout",
     "output_type": "stream",
     "text": [
      "(3195, 9)\n",
      "(3195, 9)\n"
     ]
    }
   ],
   "source": [
    "df = pd.read_csv(\"dataset_ft_v3_en_mulitmod.csv\")\n",
    "print(df.shape)\n",
    "df = df[~df['text'].str.contains(\"END\")]\n",
    "print(df.shape)\n",
    "df.to_csv('dataset_ft_v3_en_mulitmod.csv', index=False)"
   ]
  },
  {
   "cell_type": "code",
   "execution_count": 18,
   "metadata": {},
   "outputs": [
    {
     "name": "stdout",
     "output_type": "stream",
     "text": [
      "Rows that appear in both data sets: 0\n",
      "Places that appear in both data sets: 0\n"
     ]
    }
   ],
   "source": [
    "df_reduced = pd.read_csv(\"real_base_sent_reduced.csv\")\n",
    "df_fine_tuning = pd.read_csv(\"dataset_ft_v3_en_mulitmod.csv\")\n",
    "print(f\"Rows that appear in both data sets:\" , df_reduced['reviewId'].isin(df_fine_tuning['reviewId']).sum())\n",
    "print(f\"Places that appear in both data sets:\" , df_reduced['placeId'].isin(df_fine_tuning['placeId']).sum())"
   ]
  },
  {
   "cell_type": "code",
   "execution_count": 19,
   "metadata": {},
   "outputs": [],
   "source": [
    "def generate_prompt_gpt3_v4(row):\n",
    "    category = row[\"categoryName\"]\n",
    "    genre = row[\"genre\"]\n",
    "    if (genre == \"activity\"):\n",
    "        genre = \"activity or attraction\"\n",
    "    elif (genre == \"hotel\"):\n",
    "        genre = \"hotel\"\n",
    "    elif (genre == \"restaurant\"):\n",
    "        genre = \"restaurant\"\n",
    "    return f\"A Google Maps review about a {genre}.\"\n",
    "\n",
    "def generate_prompt_gpt3_v3(row):\n",
    "    category = row[\"categoryName\"].lower()\n",
    "    return f\"A Google Maps review about a {category}.\"\n",
    "\n",
    "def generate_prompt_gpt3_v2(row):\n",
    "    category = row[\"categoryName\"].lower()\n",
    "    return f\"A Google Maps review about a {category}.\"\n",
    "\n",
    "def generate_prompt_gpt3_v1(row):\n",
    "    stars = row[\"stars\"]\n",
    "    category = row[\"categoryName\"].lower()\n",
    "    keywords = row[\"keywords_only\"]\n",
    "    return f\"Write a {stars} stars Google Maps review about a {category}, with the following keywords: {keywords}.\"\n",
    "\n",
    "# Ansatz verworfen.\n",
    "def generate_prompt_gpt35turbo(row):\n",
    "    category = row[\"categoryName\"].lower()\n",
    "    return f\"Write a Google Maps review about a {category}.\"\n",
    "\n",
    "# Ansatz verworfen.\n",
    "def generate_prompt_gpt35turbo(row):\n",
    "    stars = row[\"stars\"]\n",
    "    category = row[\"categoryName\"].lower()\n",
    "    keywords = row[\"keywords_only\"]\n",
    "    keywords = keywords[1:-1].split(\",\")[:3]\n",
    "    keywords = [k.strip() for k in keywords]\n",
    "    keywords = \", \".join(keywords)\n",
    "    keywords = keywords.replace(\"'\", \"\")\n",
    "    return f\"Write a {stars} stars Google Maps review about a {category}, with the following keywords: {keywords}.\""
   ]
  },
  {
   "cell_type": "code",
   "execution_count": 20,
   "metadata": {},
   "outputs": [
    {
     "name": "stdout",
     "output_type": "stream",
     "text": [
      "(3195, 9)\n",
      "Index(['text', 'reviewId', 'url', 'placeId', 'categoryName', 'stars', 'title',\n",
      "       'reviewImageUrls/0', 'genre', 'prompt', 'completion'],\n",
      "      dtype='object')\n",
      "(3195, 11)\n",
      "(3195, 3)\n"
     ]
    }
   ],
   "source": [
    "df = pd.read_csv (\"dataset_ft_v3_en_mulitmod.csv\")\n",
    "\n",
    "print(df.shape)\n",
    "df[\"prompt\"] = df.apply(generate_prompt_gpt3_v3, axis=1)\n",
    "df[\"completion\"] = df[\"text\"]\n",
    "print(df.columns)\n",
    "print(df.shape)\n",
    "\n",
    "df = df.drop(columns=['text', 'url', 'placeId', 'categoryName', 'stars', 'title', 'reviewImageUrls/0', 'genre'])\n",
    "print(df.shape)\n",
    "df.to_csv('dataset_ft_v3_en_mulitmod_pc.csv', index=False)"
   ]
  },
  {
   "cell_type": "code",
   "execution_count": 208,
   "metadata": {},
   "outputs": [
    {
     "name": "stdout",
     "output_type": "stream",
     "text": [
      "5756\n"
     ]
    },
    {
     "data": {
      "text/plain": [
       "(5756, 11)"
      ]
     },
     "execution_count": 208,
     "metadata": {},
     "output_type": "execute_result"
    }
   ],
   "source": [
    "# print a example row\n",
    "df = pd.read_csv (\"dataset_ft_v3_en_mulitmod_pc.csv\")\n",
    "# how many placeId are in the dataset\n",
    "print(df['reviewId'].nunique())\n",
    "df.shape"
   ]
  },
  {
   "attachments": {},
   "cell_type": "markdown",
   "metadata": {},
   "source": [
    "# Archiv: für  FT Datensatz v2"
   ]
  },
  {
   "cell_type": "code",
   "execution_count": null,
   "metadata": {},
   "outputs": [],
   "source": [
    "#  drop all rows with na in reviewImageUrls/0 in df_complete_ft\n",
    "# df_reduced = pd.read_csv('real_base_sent_reduced.csv')\n",
    "\n",
    "print('All with text: ', df_complete_ft.shape)\n",
    "#df_complete_ft = df_complete_ft.dropna(subset=['reviewImageUrls/0'])\n",
    "print('All with text: ', df_complete_ft.shape)\n",
    "\n",
    "print('Unique categoryNames: ', df_complete_ft['categoryName'].nunique())\n",
    "print('Unique categoryNames: ', df_complete_ft['categoryName'].unique())\n",
    "print('Unique places: ', df_complete_ft['placeId'].nunique())\n",
    "\n",
    "# per placeID keep at most 15 reviews\n",
    "#df_complete_ft = df_complete_ft.groupby('placeId').head(15)\n"
   ]
  },
  {
   "cell_type": "code",
   "execution_count": null,
   "metadata": {},
   "outputs": [],
   "source": [
    "# df_reduced = pd.read_csv('real_base_sent_reduced.csv')\n",
    "\n",
    "# # drop all rows with na in reviewImageUrls/0\n",
    "# print('All with text: ', df_reduced.shape)\n",
    "# df_reduced = df_reduced.dropna(subset=['reviewImageUrls/0'])\n",
    "# print('All with text: ', df_reduced.shape)\n"
   ]
  },
  {
   "attachments": {},
   "cell_type": "markdown",
   "metadata": {},
   "source": [
    "Jetzt. Andere Sprachen rausfiltern und Einträge die im Base-Datensatz sind rausfiltern. @TODO: RAUSFINDEN, OB AUF ANDERE LOCATOINS TRAINIEREN ODER DIE SELBEN WIE IM BASE_..._.csv Datensatz"
   ]
  },
  {
   "cell_type": "code",
   "execution_count": null,
   "metadata": {},
   "outputs": [],
   "source": [
    "df = pd.read_csv (\"finetuning_gpt3_v2.csv\")\n",
    "df.shape"
   ]
  },
  {
   "cell_type": "code",
   "execution_count": null,
   "metadata": {},
   "outputs": [],
   "source": [
    "def is_english(text):\n",
    "    try:\n",
    "        return langdetect.detect(text) == 'en'\n",
    "    except:\n",
    "        return False\n",
    "\n",
    "print('Starting...', df.shape)\n",
    "df = df[df['text'].apply(is_english)]\n",
    "\n",
    "print('Finsihed only English', df.shape)\n",
    "df.to_csv('finetuning_gpt3_sameplaces_only_english.csv', index=False)"
   ]
  },
  {
   "cell_type": "code",
   "execution_count": 88,
   "metadata": {},
   "outputs": [
    {
     "name": "stdout",
     "output_type": "stream",
     "text": [
      "(5286, 7)\n",
      "50\n",
      "(893, 7)\n"
     ]
    }
   ],
   "source": [
    "df = pd.read_csv (\"finetuning_gpt3_sameplaces_only_english_multimod.csv\")\n",
    "print(df.shape)\n",
    "\n",
    "df = df.groupby('placeId').head(25)\n",
    "print(df['placeId'].nunique())\n",
    "\n",
    "print(df.shape)\n",
    "df.to_csv('finetuning_gpt3_sameplaces_only_english_multimod_25perplace.csv', index=False)"
   ]
  },
  {
   "cell_type": "code",
   "execution_count": null,
   "metadata": {},
   "outputs": [],
   "source": [
    "# Rows die END enthlaten rausnehmen, für COMPLETION PROMPT WICHTIG\n",
    "df = pd.read_csv (\"finetuning_gpt3_sameplaces_only_english_multimod_25perplace.csv\")\n",
    "print(df.shape)\n",
    "df = df[~df['text'].str.contains(\"END\")]\n",
    "print(df.shape)\n",
    "df.to_csv('finetuning_gpt3_sameplaces_only_english_multimod_25perplace.csv', index=False)"
   ]
  },
  {
   "cell_type": "code",
   "execution_count": null,
   "metadata": {},
   "outputs": [],
   "source": [
    "df_reduced = pd.read_csv(\"real_base_sent_reduced.csv\")\n",
    "df_fine_tuning = pd.read_csv(\"finetuning_gpt3_sameplaces_only_english_multimod_25perplace.csv\")\n",
    "print(f\"Rows that appear in both dataframes:\" , df_reduced['reviewId'].isin(df_fine_tuning['reviewId']).sum())"
   ]
  },
  {
   "cell_type": "code",
   "execution_count": null,
   "metadata": {},
   "outputs": [],
   "source": [
    "def generate_prompt_gpt3(row):\n",
    "    category = row[\"categoryName\"]\n",
    "    return f\"A Google Maps review about a {category}.\"\n",
    "\n",
    "# def generate_prompt_gpt35turbo(row):\n",
    "#     category = row[\"categoryName\"]\n",
    "#     return f\"Write a Google Maps review about a {category}.\"\n",
    "\n",
    "# def generate_prompt_gpt35turbo(row):\n",
    "#     stars = row[\"stars\"]\n",
    "#     category = row[\"categoryName\"]\n",
    "#     keywords = row[\"keywords_only\"]\n",
    "#     keywords = keywords[1:-1].split(\",\")[:3]\n",
    "#     keywords = [k.strip() for k in keywords]\n",
    "#     keywords = \", \".join(keywords)\n",
    "#     keywords = keywords.replace(\"'\", \"\")\n",
    "#     return f\"Write a {stars} stars Google Maps review about a {category}, with the following keywords: {keywords}.\""
   ]
  },
  {
   "cell_type": "code",
   "execution_count": null,
   "metadata": {},
   "outputs": [],
   "source": [
    "df = pd.read_csv (\"finetuning_gpt3_sameplaces_only_english_multimod_25perplace.csv\")\n",
    "print(df.shape)\n",
    "\n",
    "df[\"prompt\"] = df.apply(generate_prompt_gpt3, axis=1)\n",
    "df[\"completion\"] = df[\"text\"]\n",
    "\n",
    "print(df.shape)\n",
    "print(df.columns)\n",
    "print(df[['completion','prompt']].head(4999))\n",
    "\n",
    "df.to_csv('finetuning_gpt3_sameplaces_only_english_multimod_25perplace_pc.csv', index=False)"
   ]
  }
 ],
 "metadata": {
  "kernelspec": {
   "display_name": "Python 3",
   "language": "python",
   "name": "python3"
  },
  "language_info": {
   "codemirror_mode": {
    "name": "ipython",
    "version": 3
   },
   "file_extension": ".py",
   "mimetype": "text/x-python",
   "name": "python",
   "nbconvert_exporter": "python",
   "pygments_lexer": "ipython3",
   "version": "3.9.13"
  },
  "orig_nbformat": 4
 },
 "nbformat": 4,
 "nbformat_minor": 2
}
