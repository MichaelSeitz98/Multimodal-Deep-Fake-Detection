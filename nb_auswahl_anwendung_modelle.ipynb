{
 "cells": [
  {
   "attachments": {},
   "cell_type": "markdown",
   "metadata": {},
   "source": [
    "In diesem Notebook werden auf verschiedenen Modalitäten verschiedene Modelle trainiert, angewendet und ausgewertet. Jeweils: Random Forest, XGBoost, Logistic Regression, SVM, Neuronales Netz"
   ]
  },
  {
   "cell_type": "code",
   "execution_count": 2,
   "metadata": {},
   "outputs": [],
   "source": [
    "import pandas as pd\n",
    "from sklearn.model_selection import train_test_split"
   ]
  },
  {
   "attachments": {},
   "cell_type": "markdown",
   "metadata": {},
   "source": [
    "# Vorbereitung: Data Split into 3 Datasets!"
   ]
  },
  {
   "cell_type": "code",
   "execution_count": 17,
   "metadata": {},
   "outputs": [
    {
     "name": "stdout",
     "output_type": "stream",
     "text": [
      "Orginal:\t(1408, 562)\n",
      "------------------------------------------------------------\n",
      "Train:\t\t(957, 562)\n",
      "Validation:\t(169, 562)\n",
      "Test:\t\t(282, 562)\n"
     ]
    }
   ],
   "source": [
    "df = pd.read_csv('features_enriched_tab_img_text.csv')\n",
    "print(f\"Orginal:\\t{df.shape}\")\n",
    "print(\"-----------------------------------------------------------------------\")\n",
    "\n",
    "train, test = train_test_split(df, test_size=0.2, stratify=df['label'], random_state=1)\n",
    "train_val, test = train_test_split(df, test_size=0.2, stratify=df['label'], random_state=1)\n",
    "train, val = train_test_split(train_val, test_size=0.2, stratify=train_val['label'], random_state=1)\n",
    "\n",
    "print(f\"Train:\\t\\t{train.shape}\")\n",
    "print(f\"Validation:\\t{val.shape}\")\n",
    "print(f\"Test:\\t\\t{test.shape}\")\n",
    "\n",
    "train.to_csv('detection_train.csv', index=False)\n",
    "val.to_csv('detection_val.csv', index=False)\n",
    "test.to_csv('detection_test.csv', index=False)"
   ]
  },
  {
   "attachments": {},
   "cell_type": "markdown",
   "metadata": {},
   "source": [
    "# Text"
   ]
  },
  {
   "cell_type": "code",
   "execution_count": null,
   "metadata": {},
   "outputs": [],
   "source": []
  },
  {
   "attachments": {},
   "cell_type": "markdown",
   "metadata": {},
   "source": [
    "# Tabular"
   ]
  },
  {
   "attachments": {},
   "cell_type": "markdown",
   "metadata": {},
   "source": [
    "# Image"
   ]
  },
  {
   "attachments": {},
   "cell_type": "markdown",
   "metadata": {},
   "source": [
    "# Multimodal"
   ]
  }
 ],
 "metadata": {
  "kernelspec": {
   "display_name": "Python 3",
   "language": "python",
   "name": "python3"
  },
  "language_info": {
   "codemirror_mode": {
    "name": "ipython",
    "version": 3
   },
   "file_extension": ".py",
   "mimetype": "text/x-python",
   "name": "python",
   "nbconvert_exporter": "python",
   "pygments_lexer": "ipython3",
   "version": "3.9.13"
  },
  "orig_nbformat": 4
 },
 "nbformat": 4,
 "nbformat_minor": 2
}
