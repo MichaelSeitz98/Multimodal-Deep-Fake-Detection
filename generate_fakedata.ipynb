{
 "cells": [
  {
   "cell_type": "code",
   "execution_count": 25,
   "metadata": {},
   "outputs": [],
   "source": [
    "import pandas as pd\n",
    "import openai \n",
    "from keybert import KeyBERT\n",
    "import langdetect\n",
    "\n",
    "pd.set_option('display.max_columns', 500)\n",
    "pd.set_option('display.width', 1000)\n",
    "pd.set_option('display.max_colwidth', 200)\n",
    "\n",
    "\n",
    "# model = KeyBERT('distilbert-base-nli-mean-tokens')"
   ]
  },
  {
   "cell_type": "code",
   "execution_count": null,
   "metadata": {},
   "outputs": [],
   "source": [
    "with open(\"apikey_openai.txt\", \"r\") as f:\n",
    "    api_key = f.read()\n",
    "\n",
    "print(api_key)\n",
    "openai.api_key = api_key"
   ]
  },
  {
   "attachments": {},
   "cell_type": "markdown",
   "metadata": {},
   "source": [
    "## Text:  GPT 3.5-Turbo"
   ]
  },
  {
   "cell_type": "code",
   "execution_count": null,
   "metadata": {},
   "outputs": [],
   "source": [
    "class chatGPT: \n",
    "    def __init__(self, api_key, rolle):\n",
    "        openai.api_key = api_key\n",
    "        self.dialog = [{\"role\":\"system\", \"content\":rolle}]\n",
    "\n",
    "    def question(self, question):\n",
    "        self.dialog.append({\"role\":\"user\", \"content\":question})\n",
    "        ergebnis = openai.ChatCompletion.create(model='gpt-3.5-turbo', messages=self.dialog)\n",
    "        antwort = ergebnis[\"choices\"][0].message.content\n",
    "        self.dialog.append({\"role\":\"assistant\", \"content\":antwort})\n",
    "        return antwort"
   ]
  },
  {
   "cell_type": "code",
   "execution_count": null,
   "metadata": {},
   "outputs": [],
   "source": [
    "role = \"In stlye of a google user that writes a review about a place he or she visited.\"\n",
    "prompt = \"Write a Google Maps review about a bowling alley with max 200 tokens.\"\n",
    "chatGPT(api_key, role).question(prompt)\n",
    "print(chatGPT(api_key, role).question(prompt))"
   ]
  },
  {
   "cell_type": "code",
   "execution_count": null,
   "metadata": {},
   "outputs": [],
   "source": [
    "def get_keywords(text):\n",
    "    keywords = model.extract_keywords(text, keyphrase_ngram_range=(1, 2), stop_words='english', top_n=5)\n",
    "    keywords = [keyword[0] for keyword in keywords]\n",
    "    return keywords\n",
    "\n",
    "output_string= \"I recently visited the Italian Restaurant and overall had a great experience. The atmosphere was cozy and inviting with a classic Italian vibe. The staff was friendly and attentive, making sure we had everything we needed throughout our meal.The menu had a great selection of traditional Italian dishes and some unique options as well. I tried the gnocchi and it was delicious, perfectly cooked with a flavorful sauce. My friend had the lasagna and said it was some of the best she's ever had. The only downside was the wait time for our table, as we had to wait about 30 minutes even though we had reservations. However, the food and service made up for it. Overall, I would recommend the Italian Restaurant to anyone who loves Italian cuisine and wants to have a nice, cozy dinner out with friends or family.\"\n",
    "keywords = get_keywords(output_string)\n"
   ]
  },
  {
   "attachments": {},
   "cell_type": "markdown",
   "metadata": {},
   "source": [
    "## Text: Finetuned GPT3 Model\n"
   ]
  },
  {
   "cell_type": "code",
   "execution_count": null,
   "metadata": {},
   "outputs": [],
   "source": [
    "fine_tune_list = openai.FineTune.list()\n",
    "fine_tuned_model_neu = fine_tune_list['data'][1].fine_tuned_model\n",
    "print(fine_tuned_model_neu)\n",
    "fine_tuned_model_alt = fine_tune_list['data'][0].fine_tuned_model\n",
    "print(fine_tuned_model_alt)"
   ]
  },
  {
   "cell_type": "code",
   "execution_count": null,
   "metadata": {},
   "outputs": [],
   "source": [
    "new_prompt = \"Write a Google Maps review about a Italian restaurant ###\"\n",
    "answer = openai.Completion.create(\n",
    "  model=fine_tuned_model_neu,\n",
    "  prompt=new_prompt,\n",
    "  max_tokens=200, # Change amount of tokens for longer completion\n",
    "  temperature=1,\n",
    "  stop = \"END\"\n",
    ")\n",
    "print(answer['choices'][0]['text'])"
   ]
  },
  {
   "cell_type": "code",
   "execution_count": null,
   "metadata": {},
   "outputs": [],
   "source": [
    "def gpt3_finetuned(row):\n",
    "    prompt = \"A Google Maps review about a \" + row['categoryName'] + \". ###\"\n",
    "    print(prompt)\n",
    "    answer = openai.Completion.create(\n",
    "      model=fine_tuned_model_neu,\n",
    "      prompt=prompt,\n",
    "      max_tokens=150, # Change amount of tokens for longer completion\n",
    "      temperature=1, \n",
    "      stop = \"END\"\n",
    "    )\n",
    "    return answer['choices'][0]['text']\n",
    "\n",
    "def gpt3_5_turbo(row):\n",
    "    prompt = \"Write a Google Maps review about a \" + row['categoryName'] + \". In Style of a Google user that writes a review about a place.\"\n",
    "    role = \"In stlye of a google user that writes a review about a place.\"\n",
    "    prompt = \"Write a Google Maps review about a \" + row['categoryName']+\".\"\n",
    "    print(prompt)\n",
    "    return chatGPT(api_key, role).question(prompt)"
   ]
  },
  {
   "cell_type": "code",
   "execution_count": null,
   "metadata": {},
   "outputs": [],
   "source": [
    "# ## df_test.to_csv('test_df_showcase20gpt.csv')\n",
    "# # print(\"Done with gpt3_finetuned_v1 text generation.\")\n",
    "\n",
    "# df_test = pd.read_csv('test_df_showcase.csv')\n",
    "# df_test['gpt3_finetuned_v1'] = df_test.apply(gpt3_finetuned, axis=1)\n",
    "# df_test.to_csv('test_df_showcase.csv')\n",
    "# print(\"Done with gpt3.5_turbo text generation.\")\n",
    "\n",
    "# print(df_test)\n",
    "# print(df_test.shape)"
   ]
  },
  {
   "cell_type": "code",
   "execution_count": null,
   "metadata": {},
   "outputs": [],
   "source": [
    "df_test = pd.read_csv('test_df_showcase.csv')\n",
    "df_test['gpt3.5_turbo'] = df_test['gpt3.5_turbo'].astype(str)\n",
    "\n",
    "for index, row in df_test.iterrows():\n",
    "    print(row['title'])\n",
    "    print(row['categoryName'])\n",
    "    print(\"ORG:\" + row['original_text'])\n",
    "    print(\"GPT:\" + row['gpt3_finetuned_v1'])\n",
    "    print(\"GPT3.5:\" + row['gpt3.5_turbo'])\n",
    "    print(\"__________________________________________________________________________________________\")"
   ]
  },
  {
   "attachments": {},
   "cell_type": "markdown",
   "metadata": {},
   "source": [
    "### Jetzt tatsächliche Daten augmentiert / generiert. Dazu einen neuen Dataframe erstellen...\n",
    "\n",
    "Später wird der dann bemerged."
   ]
  },
  {
   "cell_type": "code",
   "execution_count": null,
   "metadata": {},
   "outputs": [],
   "source": [
    "df_true = pd.read_csv('base_keywords_sentiment_reduced.csv')\n",
    "df_finetune = pd.read_csv('finetuning_gpt3_sameplaces_only_english_multimod_25perplace_pc.csv')\n",
    "\n",
    "# print(df_true['categoryName'].value_counts())\n",
    "# print(df_finetune['categoryName'].value_counts())\n",
    "print(f'True:' , df_true.shape)\n",
    "\n",
    "df_fake = pd.DataFrame(columns=df_true.columns)\n",
    "df_fake['categoryName'] = df_true['categoryName']\n",
    "df_fake['label'] = 'FAKE'\n",
    "\n",
    "# just for reference. Can be delted later on. \n",
    "df_fake['reviewId'] = df_true['reviewId']\n",
    "df_fake['title'] = df_true['title']\n",
    "df_fake['text'] = df_true['text']\n",
    "df_fake['placeId'] = df_true['placeId']\n",
    "\n",
    "df_fake.to_csv('fake_base.csv', index=False)"
   ]
  },
  {
   "cell_type": "code",
   "execution_count": null,
   "metadata": {},
   "outputs": [],
   "source": [
    "df_fake[\"prompt\"] = \"A Google Maps review about a \" + df_fake[\"categoryName\"] + \". ###\"\n",
    "print(df_fake[\"prompt\"])\n",
    "df_fake[\"text_gpt3\"] = df_fake.apply(gpt3_finetuned, axis=1)\n",
    "df_fake.to_csv(\"fake_base_gpt3.csv\", index=False)\n"
   ]
  },
  {
   "cell_type": "code",
   "execution_count": 27,
   "metadata": {},
   "outputs": [
    {
     "name": "stdout",
     "output_type": "stream",
     "text": [
      "0                                                                                                                                                                                                                                                                                                                                                                                                                                                                                                                                                                                                                                                                                                                  It's was my first time coming here but It'll definitely not be my last loved it \n",
      "1                                                                                                                                                                                                                                                                                                                                                                                                                                                                                                                                                                                                                                                     This place is suuuuuuper fun for the kiddos & not so kiddos. The laser tag is probably my favorite. You got to go on the slides in the tube. \n",
      "2                                                                                                                                                                                                                                                                                                                                                                                                                                                                                                                                                                                                                                                                                                 Best customer service I’ve received in Dallas! Will definitely be going here again. Had a blast! \n",
      "3                                                                                                                                                                                                                                                                                                                                                                                                                                                        Kids love it. Me not so much. Too much heat, no fans, no place to hide from the sun. Memorial day weekend. One small bathroom and no place to line up to use the restroom. Employees walking around but no one to keep kids in the the games or off of the equipment. Wouldn't go again.  Place is too large for the amount of employees. \n",
      "4                                                                                                                                                                                                                                                                                                                                                                                                                                                                                                                                                                                                                   Awesome place to hangout with family and friends. Arcade games, bowling and lazer tag are good fun. Good place to spend an afternoon or evening with some cheap entertainment. \n",
      "5                                                                                                                                                                                                                                                                                                                                                                                                                                                                                                                                                                                                                       This place is clean. The staff is nice. Love the two floors of minigolf. So fun. Also an arcade is like I was a kid again 1985. Awesome entertainment for the whole family \n",
      "6                                                                                                                                                                                                                                                                                                                                                Had so much fun here. The ticket prices are great for adults and kids and it's tons of fun for all. They have lots of different games and machines to choose from and a big variety of music and entertainment tastes.\\nIf you live in Michigan I'd recommend stopping in you'll have a great time. If you live out of state like me and are planning a trip to Michigan I would definitely include Playland at Oakland University in your plans. \n",
      "7                                                                                                                                                                                                                                                                                                                                                                                                                                                                                                                                                                                                                                                                                 Lots of interactive games and they change often.  Lots of space on the runway and teh games are spaced out well. \n",
      "8                                                                                                                                                                                                                                                                                                                                                                                                                                                                                                                                                                    Wasn't expecting an indoor playground, but was very impressed! Our 3 year old had a blast and our 17 month old was content playing in the baby area. We will be coming back in the summer to try out the amazing fried foods! \n",
      "9                                                                                                                                                                                                                                                                                                                                                                                                                                                                                                                               The place is absolutely amazing. Me and my family all love acial conecpt places, kareoke, bowling, laser tag all that. We have so much fun at Social, the food is great! We love the pizza and hot dogs. Even the fries aret the best, so good. Highly recommend 😊 \n",
      "10                                                                                                                                                                                                                                                                                                                                                                                                                                                                                                                                                                                                      We had a blast! It was our first time here. 3rd time going to Frankie's Fun Factory, but first time coming back on a busy night! The staff is amazing and super friendly. We will be back! \n",
      "11                                                                                                                                                                                                                                                                                                                                                                                                                                                                                                                                                                                                                                                                                                                                                          This place is fun for the whole family \n",
      "12                                                                                                                                                                                                                                                                                                                                                                                                                                                                                                                                                                                                                                                                                                                                                      Go karts are fun for adults and kids alike \n",
      "13                                                                                                           Absolutely horrible service and food. They obviously don’t want to do business as there was literally no one dining in but me and my husband. We literally waited 35 minutes for ANYONE to even acknowledge our existence. And even then, it was the hostess walking up to tell us our table is ready when we’ve been standing at the entrance waiting to be seated for literally 30 minutes. The restaurant itself is very clean, which is a nice surprise (not sure how) when 99% of it was closed. And even still, the food was disgusting and the chicken had raw spots in it and the cheese in the quesadilla was uncooked and disgusting. I’m so upset that I chose to eat here.\n",
      "14                                                                                                                                                                                                                                                                                                                                                                                                                                                                                                                                                                                                           This place is absolutely amazing. Food is absolutely delicious. Service is outstanding. Never had food so good in a restaurant. Prices are so good too. God bless this establishment. \n",
      "15                                                                                                                                                                                                                                                                                                                                                                                                                                                                                                                                                                                                                                                                                                                   amazing steak and potatoes :) a bit pricey, but good quality and great taste! \n",
      "16                                                                                                                                                                                                                                                                                                                                                                                                                                                                                                                                                                                                                                                                                                                                               Very well done, great food and excellent service. \n",
      "17                                                                                                                                                                                                                                                                                                                                                                                                                                                                                                                                I was visiting Fulshear for the first time and had read good reviews about this place.  I was not disappointed. Fresh, hot and tasty meal with a  great view of the lake while I enjoyed a very relaxing atmosphere. I will definitely go back on my next visit. \n",
      "18                                                                                                                                                                                                                                                                                                                                                                                                                                                                                                                                                                                                                                                                                                Nice service and fast food. Food was good and warm. None of my fried were cold when I picked up. \n",
      "19                                                                                                                                                                                                                                                                                                                                                                                                                                                                                                                                                                                                                                  Meat and potatoes.  Drinks and fire.  Salad bar that’s not trash.\\nSteak and potato.  Ribeye and baked potato.  Deviled eggs.  Tea.  And some cake at the end. \n",
      "20                                                                                                                                                                                                                                                                                                                                                                                                                                                                                                                                                                                                                                                                            Very good food and restaurant, with excelent servise and very good wine. And the the price is not that expensive :-) \n",
      "21                                                                                                                                                                                                                                                                                                                                                                                                                                                                                                                                                                                                                                                         Great experience. Food is delicious, service is outstanding and prices are reasonable. A nice place for a relaxed delicious dinner out. \n",
      "22                                                                                                                                                                                                                                                                                                                                                                                                                                                                                                                                                                                                           Came in for a quick bite to eat and cup of coffee.\\nDuring my visit a very large party was also dining.  The staff handled the situation very well.\\nGreat job! Keep up the good work \n",
      "23                                                                                                                                                                                                                                                                                                                It's been 5 years or more since I've eaten here but it's as good as I remember. I enjoyed the Star Route, a huge steak cooked medium and with all the fixings. My wife enjoyed the salmon, cooked perfectly and with a great sauce. Our daughter had the chicken tenders which she liked very much and our son surprised us by ordering s prime rib Oscar style, it was very thick and he only ate a little of it, perhaps his second choice would have been a better selection. \n",
      "24                                                                                                                                                                                                                                                                                                                                                                                                                                                                                                                                                                                                                                                                                                             Nice food but the service was sloooooowwwwwwww.\\nGrilled vegetables were excellent. \n",
      "                                                                                                                                                                                                                                                                                                                                                                                                   ...                                                                                                                                                                                                                                                                                                                                                                                             \n",
      "680                                                                                                                                                                                                                                                                                                                                                                                                                                                                     It is a good themed hotel with a nice pool area.  The main issue is that the walls are very thin. We heard every conversation in the next room and even the tv until late in the evening. Also, the balcony door kept opening slightly which caused the noise reduction walls to keep going up and down every few minutes. \n",
      "681                                                                                                                                                                                                                                                                                                                                                                                                                                                                                                             The whole team had an amazing experience. We went for a work party and everyone was extremely accommodating. The food was delicious, atmosphere wonderful and all of the staff were wonderful. I would recommend this place for a special occasion or just a wonderful dinner out. \n",
      "682                                                                                                                                                                                                                                                                                                                   Great casino with a lot of fun. They don’t have more than 100$ special machines. They have a lot of good games, a bar and appetizer station inside and a larger bar outside next to the forest. They don’t serve food inside but they have a good selection of food nearby. Parking is suck. if you don’t get to there early than its challenging to find free parking. It only cost 15 dollars to park there but the construction and lack of spaces makes it not worth it. \n",
      "683                                                                                                                                                                                                                                                                                                                                                                                                                                                                                                                                                                                                               One of the most beautiful hotels I've been to!\\nThe service is really good and the food at the restaurant is amazing!!\\nOverall this place is a must go to hotel if you visit LA \n",
      "684                                                                                                                                                                                                                                                                                                                                                                                                                                                                                                                                                                                                                                                                   Nice hotel with a great lobby bar, and nice indoor pool with hot tub. Above average breakfast included in price of the room. \n",
      "685                                                                                                                                            The place itself is average. Nothing special. Nothing  to complain about. But definitely nothing to rave about.  The service was average as well.\\nBut the most aggravating thing was the fact that\\nTHE PARKING WAS PARKING WAS PARKING WAS PARKING WAS PARKING WAS PARKING WAS PARKING WAS PARKING WAS PARKING WAS PARKING WAS PARKING WAS PARKING WAS PARKING WAS PARKING WAS PARKING WAS PARKING WAS PARKING WAS PARKING WAS PARKING WAS PARKING WAS PARKING WAS PARKING WAS PARKING WAS PARKING WAS PARKING WAS PARKING WAS PARKING WAS PARKING WAS PARKING WAS PARKING WAS PARKING WAS PARKING WAS PARKING WAS PARKING WAS PARKING WAS PARKING\n",
      "686                                                                                                                                                                                                                                                                                                                                                                                                                                                                                We have been checking in this hotel almost every week since August, and they never fail to deliver. Every single time the room has been already spick and span, no sign of previous occupancy. It smells so fresh and clean every time. And the toiletry every time keeps getting better and better. Fantastic! \n",
      "687                                                                                                                                                                                                                                                                                                                                                                                                                                          Great place...contemporary. They have a diner, a market and a bar. The rooms r spacious and nice..the bathrooms too! The beach is great...wide and long. We tanned and relaxed lots. Had dinner at the hotel a couple times. It was good. We spent a lot of time at the pools...they r so relaxing. It was a vacation of rest, beach time and tan💛💛d. \n",
      "688                                                                                                                                                                                                                                                                                                                                                                                                                                                                                                                                                                                                                                                                 I stayed during the night shift, so I didn’t get to see the sun rise. But everything else was perfect!  Definitely recommend!! \n",
      "689                                                                                                                                                                                                                                                                                                                                                                                                                                                                                                                                                                                                                Chase Park Plaza is a Missouri landmark rich with history. The rooms are beautiful and well maintained, and the customer service is outstanding. I highly recommend this hotel. \n",
      "690                                                                                                                                                                                                                                                                                                                                                                                                                                                                                                                                                                                                                          Beautiful hotel & casino! Nice shops. Good food. Nice entertainment. Friendly service. Nice outdoor patio for seating. Nice games to play. Will definitely come back! \n",
      "691                                                                                                                                                                                                                                                                                                                                                                                                                                                     Had a great experience here! It was our first time trying Ethiopian food and we were not disappointed. The staff was extremely helpful and friendly in answering our questions. The food was hot, extremely tasty, and affordable. We enjoyed the fried green plantains with honey so much we ordered extra. Will definitely be returning! \n",
      "692                                                                                                                                                                                                                                                                                                                                                                                                                                                                                                                                                                                                                                                                                   The best Ethiopian food around Columbus.\\nSince the first time I went I got addict.\\nBest weightloss food :) \n",
      "693                                                                                                                                                                                                                                                                                                                                                                                                                                                                                                                                                                                                                                                                             Very delicious! I had the vegan combo plate, and it came with three different types of potatoes! Highly recommend! \n",
      "694                                                                                                                                                                                                                                                                                                                                                                                                                                                                                                                                                                                                                            The combination platter was a good deal and had a nice selection. I found all of the dishes to be flavorful and well prepared.\\n! Don't forget to try the hot sauce \n",
      "695                                                                                                                                                                                                                                                                                                                                                                                                                                                                                                                                                                                                                                                                                                                                                           Best Ethiopian food in Columbus Ohio \n",
      "696                                                                                                                                                                                                                                                                                                                                                                                                                                                                                                                                                                                                                                         My first time having Ethiopian food and it won’t be my last! Everything was delicious, right down to the hommus and salads! Alio ainjeret is the best! \n",
      "697                                                                                                                                                                                      Very flavorful and smooth enchiladas! Seriously, they were some of the smoothest, most velvety enchiladas I’ve had; and that’s coming from a Sonora ex-pat who gets her fix every couple of months.\\n\\nUnfortunately the portions were tiny. I expected enchiladas to come with rice and beans and they did; but they were mere puddings. I had to make two trips to the salad bar to feel most-full.\\n\\nIf *I* owned this place, I’d disclose the portions beforehand. I felt lousy afterwards for not having done more research.\\n\\nDespite the tiny portion, this was definitely my favorite place I’ve\n",
      "698                                                                                                                                                                                                                                                                                                                                                                                                                                                                                                    What a wonderful treat! I’m not a huge fan of Ethiopian food, but this is the absolute best I have ever tasted!!! I loved the salads and the stuffed vegetables!!! The stuffed potatoes are the size of your head!!! Oh my gosh, you must try this place!!! You will not be disappointed!!! \n",
      "699                                                                                                                                                                                                                                                                                                                                                                                                                                                                                                                                                                                                                                                      Small, but elegant restaurant with traditional Ethiopian coffee and tea and delectable Ethiopian food. Friendly staff and great ambience. \n",
      "700     I was instantly served coffee after removing my shoes. Anytime you enter an Ethiopian household, you are to expect a warm greeting and coffee as a sign of respect. The waiter was knowledgeable enough to answer questions and make suggestions. He was truly passionate about the food and restaurant. The owner was also great. He came out to talk with guests and ask if everything was to their liking.\\n\\nThis is my absolute favorite place to come for authentic African/Ethiopian cuisine. Not to mention the prices are extremely fair for the delicious food and great experience. If you are looking for a new place to experience different cultures through food, this place is highly recommended. I look forward to my visits here.\\n\\nThe food is served family style and\n",
      "701                                                                                                                                                                                                                                                                                                                                                                                                                                                                                                                                                                                                                                                                                                                                                       Fantastic authentic middle eastern foods \n",
      "702                                                                                                                                                                                                                                                                                                                                                                                                                                                              Lots of fun for adults and kids. And drinking. Lots of places to drink. Currently it's only about 10% occupied, but it seems like it can easily accomodate many more without becoming crowded. Interesting range of foods available. Hyper races are EVERY weekend from April to October. I'm told the Halloween party is insane. \n",
      "703                                                                                                                                                                                                                                                                                                                                                                                                                                                                                                                                                                                                                                                                                           My husband and I absolutely loved it! Very good food and very good service. I strongly recommend it. \n",
      "704                                                                                                                                                                                                                                                                                                                                                                                                                                                                                                                                                                                                                                               Delightful surprise, this hidden gem is tucked away in Parkville. But once you try it you'll be coming back! Friendly staff and phenomenal food! \n",
      "Name: text_gpt3, Length: 705, dtype: object\n"
     ]
    }
   ],
   "source": [
    "pd.set_option('display.max_colwidth', 20000)\n",
    "df_fake = pd.read_csv('fake_base_gpt3.csv')\n",
    "df_fake['text_gpt3'] = df_fake['text_gpt3'].astype(str)\n",
    "# print col text_gpt3 and label via iloc\n",
    "print(df_fake['text_gpt3'])\n"
   ]
  },
  {
   "attachments": {},
   "cell_type": "markdown",
   "metadata": {},
   "source": [
    "## Image: Dall-E-2\n"
   ]
  },
  {
   "cell_type": "code",
   "execution_count": null,
   "metadata": {},
   "outputs": [],
   "source": [
    "PROMPT = \"Photo of a nice experience at Bowling alley, photography, high quality, high resolution, 4k\"\n",
    "\n",
    "with open(\"dalleapi.txt\", \"r\") as f:\n",
    "    openai.api_key = f.read()\n",
    "\n",
    "response = openai.Image.create(\n",
    "    prompt=PROMPT,\n",
    "    n=2,\n",
    "    size=\"256x256\",\n",
    ")\n",
    "\n",
    "print(response[\"data\"][0][\"url\"])\n",
    "\n",
    "with open(\"02_Visualizations\\dalle-2-tries.txt\", \"a\") as f:\n",
    "    f.write(\"\\nPROMPT \" + PROMPT +\": \" + response[\"data\"][0][\"url\"] + \" \")"
   ]
  },
  {
   "attachments": {},
   "cell_type": "markdown",
   "metadata": {},
   "source": [
    "## Image: Tries with StableDiffusion aka Dreamstudio"
   ]
  },
  {
   "cell_type": "code",
   "execution_count": null,
   "metadata": {},
   "outputs": [],
   "source": [
    "import os\n",
    "import io\n",
    "import warnings\n",
    "from PIL import Image\n",
    "from stability_sdk import client\n",
    "import stability_sdk.interfaces.gooseai.generation.generation_pb2 as generation\n",
    "\n",
    "os.environ['STABILITY_HOST'] = 'grpc.stability.ai:443'\n",
    "\n",
    "with open('dreamstudio.txt', 'r') as f:\n",
    "    api_key = f.read()\n",
    "\n",
    "os.environ['STABILITY_KEY'] = api_key"
   ]
  },
  {
   "cell_type": "code",
   "execution_count": null,
   "metadata": {},
   "outputs": [],
   "source": [
    "stability_api = client.StabilityInference(\n",
    "    key=os.environ['STABILITY_KEY'], # API Key reference.\n",
    "    verbose=True, # Print debug messages.\n",
    "    engine=\"stable-diffusion-512-v2-1\", # Set the engine to use for generation.\n",
    "    # Available engines: stable-diffusion-v1 stable-diffusion-v1-5 stable-diffusion-512-v2-0 stable-diffusion-768-v2-0\n",
    "    # stable-diffusion-512-v2-1 stable-diffusion-768-v2-1 stable-inpainting-v1-0 stable-inpainting-512-v2-0\n",
    ")"
   ]
  },
  {
   "cell_type": "code",
   "execution_count": null,
   "metadata": {},
   "outputs": [],
   "source": [
    "# Set up our initial generation parameters.\n",
    "answers = stability_api.generate(\n",
    "    prompt=\"Bad experience at italien restaurant,high quality photography, 4k, close-up\",\n",
    "    #seed=992446758, # If a seed is provided, the resulting generated image will be deterministic.\n",
    "                    # What this means is that as long as all generation parameters remain the same, you can always recall the same image simply by generating it again.\n",
    "                    # Note: This isn't quite the case for Clip Guided generations, which we'll tackle in a future example notebook.\n",
    "    steps=30, # Amount of inference steps performed on image generation. Defaults to 30.\n",
    "    cfg_scale=7.0, # Influences how strongly your generation is guided to match your prompt.\n",
    "                   # Setting this value higher increases the strength in which it tries to match your prompt.\n",
    "                   # Defaults to 7.0 if not specified.\n",
    "    width=512, # Generation width, defaults to 512 if not included.\n",
    "    height=512, # Generation height, defaults to 512 if not included.\n",
    "    samples=2, # Number of images to generate, defaults to 1 if not included.\n",
    "    sampler=generation.SAMPLER_K_DPMPP_2M # Choose which sampler we want to denoise our generation with.\n",
    "                                                 # Defaults to k_dpmpp_2m if not specified. Clip Guidance only supports ancestral samplers.\n",
    "                                                 # (Available Samplers: ddim, plms, k_euler, k_euler_ancestral, k_heun, k_dpm_2, k_dpm_2_ancestral, k_dpmpp_2s_ancestral, k_lms, k_dpmpp_2m)\n",
    ")\n",
    "\n",
    "# Set up our warning to print to the console if the adult content classifier is tripped.\n",
    "# If adult content classifier is not tripped, save generated images.\n",
    "for resp in answers:\n",
    "    for artifact in resp.artifacts:\n",
    "        if artifact.finish_reason == generation.FILTER:\n",
    "            warnings.warn(\n",
    "                \"Your request activated the API's safety filters and could not be processed.\"\n",
    "                \"Please modify the prompt and try again.\")\n",
    "        if artifact.type == generation.ARTIFACT_IMAGE:\n",
    "            img = Image.open(io.BytesIO(artifact.binary))\n",
    "            img.save(str(artifact.seed)+ \".png\") # Save our generated images with their seed number as the filename."
   ]
  }
 ],
 "metadata": {
  "kernelspec": {
   "display_name": "Python 3",
   "language": "python",
   "name": "python3"
  },
  "language_info": {
   "codemirror_mode": {
    "name": "ipython",
    "version": 3
   },
   "file_extension": ".py",
   "mimetype": "text/x-python",
   "name": "python",
   "nbconvert_exporter": "python",
   "pygments_lexer": "ipython3",
   "version": "3.9.13"
  },
  "orig_nbformat": 4,
  "vscode": {
   "interpreter": {
    "hash": "9abad024bc45f6d7f9bfe9f2e5b4bbf3ee80d4a34082e6860f2ffd5f4e4e7895"
   }
  }
 },
 "nbformat": 4,
 "nbformat_minor": 2
}
