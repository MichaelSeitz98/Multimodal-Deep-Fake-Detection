{
 "cells": [
  {
   "cell_type": "code",
   "execution_count": 84,
   "metadata": {},
   "outputs": [],
   "source": [
    "import pandas as pd\n",
    "import numpy as np\n",
    "import matplotlib.pyplot as plt\n",
    "import gradio as gr\n",
    "\n",
    "\n",
    "# import https\n",
    "import urllib.request\n",
    "import json\n"
   ]
  },
  {
   "attachments": {},
   "cell_type": "markdown",
   "metadata": {},
   "source": [
    "# Basic Dataset erstellen"
   ]
  },
  {
   "cell_type": "code",
   "execution_count": null,
   "metadata": {},
   "outputs": [],
   "source": [
    "df_rest = pd.read_csv('01_Data\\dataset_Google-Maps-Reviews-Restaurants_2023-03-26_09-43-08-320.csv')\n",
    "df_act = pd.read_csv('01_Data\\dataset_Google-Maps-Reviews-Activities_2023-03-26_11-08-15-435.csv')\n",
    "df_hotel = pd.read_csv('01_Data\\dataset_Google-Maps-Reviews-Hotels_2023-03-26_11-34-16-492.csv')\n",
    "\n",
    "print('Restaurants (Shape): ', df_rest.shape)\n",
    "print('Activities (Shape): ', df_act.shape)\n",
    "print('Hotels (Shape): ', df_hotel.shape)"
   ]
  },
  {
   "cell_type": "code",
   "execution_count": 85,
   "metadata": {},
   "outputs": [],
   "source": [
    "columns_to_keep = [\n",
    "    \"stars\",\n",
    "    \"publishedAtDate\",\n",
    "    \"name\",\n",
    "    \"text\",\n",
    "    \"title\",\n",
    "    \"totalScore\",\n",
    "    \"likesCount\",\n",
    "    \"isLocalGuide\",\n",
    "    \"reviewId\",\n",
    "    \"categoryName\",\n",
    "    \"reviewImageUrls/0\",\n",
    "    \"reviewImageUrls/1\",\n",
    "    \"reviewImageUrls/2\",\n",
    "    \"reviewImageUrls/3\",\n",
    "    \"reviewImageUrls/4\",\n",
    "    \"reviewImageUrls/5\",\n",
    "    \"reviewImageUrls/6\",\n",
    "    \"reviewImageUrls/7\",\n",
    "    \"reviewImageUrls/8\",\n",
    "    \"reviewImageUrls/9\",\n",
    "    \"reviewImageUrls/10\",\n",
    "    \"reviewUrl\",\n",
    "    \"reviewerId\",\n",
    "    \"reviewerNumberOfReviews\",\n",
    "    \"reviewerPhotoUrl\",\n",
    "    \"reviewerUrl\",\n",
    "    \"reviewsCount\",\n",
    "    \"scrapedAt\",\n",
    "    \"state\",\n",
    "    \"street\",\n",
    "    \"temporarilyClosed\",\n",
    "    \"url\",\n",
    "    \"website\"\n",
    "]"
   ]
  },
  {
   "cell_type": "code",
   "execution_count": 14,
   "metadata": {},
   "outputs": [
    {
     "name": "stdout",
     "output_type": "stream",
     "text": [
      "(1179, 33)\n"
     ]
    }
   ],
   "source": [
    "df_rest = df_rest.dropna(subset=[\"reviewImageUrls/0\"])\n",
    "df_rest = df_rest[columns_to_keep]\n",
    "print(df_rest.shape)"
   ]
  },
  {
   "cell_type": "code",
   "execution_count": 15,
   "metadata": {},
   "outputs": [
    {
     "name": "stdout",
     "output_type": "stream",
     "text": [
      "(3844, 33)\n"
     ]
    }
   ],
   "source": [
    "df_act = df_act.dropna(subset=[\"reviewImageUrls/0\"])\n",
    "df_act = df_act[columns_to_keep]\n",
    "print(df_act.shape)"
   ]
  },
  {
   "cell_type": "code",
   "execution_count": 16,
   "metadata": {},
   "outputs": [
    {
     "name": "stdout",
     "output_type": "stream",
     "text": [
      "(1846, 33)\n"
     ]
    }
   ],
   "source": [
    "df_hotel = df_hotel.dropna(subset=[\"reviewImageUrls/0\"])\n",
    "df_hotel = df_hotel[columns_to_keep]\n",
    "print(df_hotel.shape)"
   ]
  },
  {
   "cell_type": "code",
   "execution_count": 20,
   "metadata": {},
   "outputs": [
    {
     "name": "stdout",
     "output_type": "stream",
     "text": [
      "(6869, 33)\n"
     ]
    }
   ],
   "source": [
    "df = pd.concat([df_rest, df_act, df_hotel], ignore_index=True)\n",
    "print(df.shape)"
   ]
  },
  {
   "attachments": {},
   "cell_type": "markdown",
   "metadata": {},
   "source": [
    "## Gradio Anwendung Versuch"
   ]
  },
  {
   "cell_type": "code",
   "execution_count": 94,
   "metadata": {},
   "outputs": [
    {
     "name": "stderr",
     "output_type": "stream",
     "text": [
      "c:\\Users\\michi\\AppData\\Local\\Programs\\Python\\Python39\\lib\\site-packages\\gradio\\deprecation.py:43: UserWarning: You have unused kwarg parameters in Textbox, please remove them: {'default': '2023-01-01'}\n",
      "  warnings.warn(\n"
     ]
    },
    {
     "name": "stdout",
     "output_type": "stream",
     "text": [
      "Running on local URL:  http://127.0.0.1:7874\n",
      "\n",
      "To create a public link, set `share=True` in `launch()`.\n"
     ]
    },
    {
     "data": {
      "text/html": [
       "<div><iframe src=\"http://127.0.0.1:7874/\" width=\"100%\" height=\"500\" allow=\"autoplay; camera; microphone; clipboard-read; clipboard-write;\" frameborder=\"0\" allowfullscreen></iframe></div>"
      ],
      "text/plain": [
       "<IPython.core.display.HTML object>"
      ]
     },
     "metadata": {},
     "output_type": "display_data"
    }
   ],
   "source": [
    "def generate_review_html(stars, date, user, local_guide, text):\n",
    "    html = f\"\"\"\n",
    "    <div class=\\\"review\\\">\n",
    "      <div class=\\\"user\\\">\n",
    "        <img src=\\\"https://via.placeholder.com/50\\\" alt=\\\"User profile picture\\\">\n",
    "        <div class=\\\"user-info\\\">\n",
    "          <h4>{user}</h4>\n",
    "            <p>Submitted on {date}</p>\n",
    "        </div>\n",
    "        </div>\n",
    "        <div class=\\\"rating\\\">\n",
    "        <span class=\\\"star\\\">&#9733;</span>\n",
    "        <span class=\\\"star\\\">&#9733;</span>\n",
    "        <span class=\\\"star\\\">&#9733;</span>\n",
    "        <span class=\\\"star\\\">&#9733;</span>\n",
    "        <span class=\\\"star\\\">&#9733;</span>\n",
    "        </div>\n",
    "        <div class=\\\"review-text\\\">\n",
    "        <p>{text}</p>\n",
    "        </div>\n",
    "        <div class=\\\"review-image\\\">\n",
    "        <img src=\\\"http://via.placeholder.com/150/%22%20alt=/%22Restaurant%20image/\\\" alt=\\\"Restaurant image\\\">\n",
    "        </div>\n",
    "    </div>\n",
    "    \"\"\"\n",
    "    return html\n",
    "\n",
    "def generate_deepfake(review_about):\n",
    "    text = review_about + \" is a great place to visit.\"\n",
    "    meta_info = pd.DataFrame(columns=[\"stars\", \"date\", \"user\", \"local_guide\"])\n",
    "    meta_info.loc[0] = [4, \"2021-01-01\", \"John Doe\", False]\n",
    "    stars = 1\n",
    "    date = \"2021-01-01\"\n",
    "    user = \"John Doe\"\n",
    "    local_guide = False\n",
    "    text = \"This is a great place to visit. I will definitly come back. Love it\"\n",
    "\n",
    "    html_review = generate_review_html(stars, date, user, local_guide, text)\n",
    "\n",
    "    return html_review\n",
    "\n",
    "def verify_review(stars, date, user, local_guide, text, image):\n",
    "    return \"FAKE\", \"0.9\"\n",
    "\n",
    "with gr.Blocks() as demo:\n",
    "    with gr.Tab (\"Create Fake Review\"):\n",
    "        review_about = gr.Textbox(label=\"Review about\")\n",
    "        generate_btn = gr.Button(\"Generate DeepFake\")\n",
    "        # output_image = gr.Textbox(label=\"Review Image\")\n",
    "        # output_text = gr.Textbox(label=\"Generated Text\")\n",
    "        # output_tabular = gr.Dataframe(label=\"Meta Information\")\n",
    "\n",
    "        html_output = gr.HTML(label=\"Review\")\n",
    "        generate_btn.click(fn=generate_deepfake, inputs=review_about, outputs=[html_output])\n",
    "    \n",
    "    with gr.Tab (\"Verify Review\"):\n",
    "        with gr.Row(): \n",
    "            input_stars = gr.Slider(label=\"Stars\", minimum=1, maximum=5, step=1)\n",
    "            input_date = gr.Textbox(label=\"Date\", default=\"2023-01-01\")\n",
    "            input_user = gr.Textbox(label=\"User\")\n",
    "            input_local_guide = gr.Checkbox(label=\"Local Guide\")\n",
    "       \n",
    "        input_text = gr.Textbox(label=\"Review Text\")\n",
    "        input_image = gr.Image(label=\"Review Image\")\n",
    "        verify_btn = gr.Button(\"Verify Review\")\n",
    "        output_text = gr.Textbox(label=\"Generated Text\")\n",
    "        output_score = gr.Textbox(label=\"Score\")\n",
    "        verify_btn.click(fn=verify_review, inputs=[input_stars, input_date, input_user, input_local_guide, input_text, input_image], outputs=[output_text, output_score])\n",
    "\n",
    "demo.launch(debug=True)"
   ]
  }
 ],
 "metadata": {
  "kernelspec": {
   "display_name": "Python 3",
   "language": "python",
   "name": "python3"
  },
  "language_info": {
   "codemirror_mode": {
    "name": "ipython",
    "version": 3
   },
   "file_extension": ".py",
   "mimetype": "text/x-python",
   "name": "python",
   "nbconvert_exporter": "python",
   "pygments_lexer": "ipython3",
   "version": "3.9.13"
  },
  "orig_nbformat": 4
 },
 "nbformat": 4,
 "nbformat_minor": 2
}
