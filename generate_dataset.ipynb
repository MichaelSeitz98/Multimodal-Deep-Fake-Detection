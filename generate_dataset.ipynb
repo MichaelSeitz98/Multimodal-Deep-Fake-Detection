{
 "cells": [
  {
   "cell_type": "code",
   "execution_count": 1,
   "metadata": {},
   "outputs": [],
   "source": [
    "import pandas as pd\n",
    "import numpy as np\n",
    "import matplotlib.pyplot as plt\n",
    "import gradio as gr\n",
    "from PIL import Image, ImageTk\n",
    "from faker import Faker\n",
    "from transformers import pipeline\n",
    "from keybert import KeyBERT"
   ]
  },
  {
   "cell_type": "code",
   "execution_count": 2,
   "metadata": {},
   "outputs": [],
   "source": [
    "kw_model = KeyBERT(model='all-mpnet-base-v2')"
   ]
  },
  {
   "attachments": {},
   "cell_type": "markdown",
   "metadata": {},
   "source": [
    "# Basic Dataset erstellen\n",
    "\n",
    "3 Kategorien: Hotels, Restaurants & Aktivitäten"
   ]
  },
  {
   "cell_type": "code",
   "execution_count": 3,
   "metadata": {},
   "outputs": [
    {
     "name": "stderr",
     "output_type": "stream",
     "text": [
      "C:\\Users\\michi\\AppData\\Roaming\\Python\\Python39\\site-packages\\IPython\\core\\interactiveshell.py:3203: DtypeWarning: Columns (0,1,2,3,4,5,6,7,8,9,10,11,12,13,14,15,16,17,18,19,20,21,22,23,24,25,26,27,28,29,30,31,32,33,34,35,36,37,38,39,40,41,42,43,44,45,46,47,48,49,50,51,52,53,54,55,56,57,58,59,60,61,62,63,64,65,66,67,68,69,70,71,72,73,74,75,76,77,78,79,80,81,82,83,84,85,86,87,88,89,90,91,92,93,94,95,96,97,98,99,100,101,102,103,104,105,106,107,108,109,110,111,112,113,114,115,116,117,118,119,120,121,122,123,124,125,126,127,128,129,130,131,132,133,134,135,136,137,138,139,140,141,142,143,144,145,146,147,148,149,150,151,152,153,154,155,156,157,158,159,160,161,162,163,164,165,166,167,168,169,170,171,172,173,174,175,176,177,178,179,180,181,182,183,184,185,186,187,188,189,190,191,192,193,194,195,196,199,200,201,202,203,204,211,215,235,236,237,238,564,565,566,568,569,570,571,572,573,574,575,576,577,578,579,580,581,582,583,584,585,586,587,588,589,590,591,592,593,631,634,635,636,637,639,640) have mixed types.Specify dtype option on import or set low_memory=False.\n",
      "  has_raised = await self.run_ast_nodes(code_ast.body, cell_name,\n",
      "C:\\Users\\michi\\AppData\\Roaming\\Python\\Python39\\site-packages\\IPython\\core\\interactiveshell.py:3203: DtypeWarning: Columns (0,1,2,3,4,5,6,7,8,9,10,11,12,13,14,15,16,17,18,19,20,21,22,23,24,25,26,27,28,29,30,31,32,33,34,35,36,37,38,39,40,43,44,45,46,47,48,56,58,61,64,65,66,67,68,69,70,71,72,73,74,75,76,77,78,79,96,98,104,106,108,396,397,398,399,400,401,402,403,405,406,410,411,412,413,414,415,416,417,418,419,420,421,422,423,424,425,426,427,428,429,430,431,432,433,434,435,436,437,438,439,440,441,442,443,444,445,446,447,448,449,450,451,452,453,454,455,456,457,495,498,499,500,501,502,503,505,506) have mixed types.Specify dtype option on import or set low_memory=False.\n",
      "  has_raised = await self.run_ast_nodes(code_ast.body, cell_name,\n",
      "C:\\Users\\michi\\AppData\\Roaming\\Python\\Python39\\site-packages\\IPython\\core\\interactiveshell.py:3203: DtypeWarning: Columns (0,1,2,3,4,5,6,7,8,9,10,11,12,13,14,15,16,17,18,19,20,21,22,23,24,25,26,27,28,29,30,31,32,33,34,35,36,37,38,39,40,41,42,43,44,45,46,47,48,49,50,51,52,53,54,55,56,57,58,59,60,61,62,63,64,65,66,67,68,69,70,71,72,73,74,75,76,77,78,79,80,81,82,83,84,85,86,87,88,89,90,91,92,93,94,95,96,97,98,99,100,101,102,105,106,107,108,109,110,112,113,142,144,146,148,150,152,154,156,179,180,181,182,183,184,185,186,187,188,189,190,191,192,193,194,195,196,197,198,199,200,201,202,203,204,205,206,207,208,209,210,211,212,213,214,215,216,217,218,219,220,221,254,255,256,259,260,261,264,265,266,269,270,271,274,275,276,279,280,281,284,285,286,289,290,291,294,295,296,299,300,301,312,313,314,315,316,317,319,320) have mixed types.Specify dtype option on import or set low_memory=False.\n",
      "  has_raised = await self.run_ast_nodes(code_ast.body, cell_name,\n"
     ]
    },
    {
     "name": "stdout",
     "output_type": "stream",
     "text": [
      "Restaurants (Shape):  (20639, 643)\n",
      "Activities (Shape):  (36376, 509)\n",
      "Hotels (Shape):  (32038, 323)\n"
     ]
    }
   ],
   "source": [
    "df_rest = pd.read_csv('01_Data\\dataset_Google-Maps-Reviews-Restaurants_2023-03-26_09-43-08-320.csv')\n",
    "df_act = pd.read_csv('01_Data\\dataset_Google-Maps-Reviews-Activities_2023-03-26_11-08-15-435.csv')\n",
    "df_hotel = pd.read_csv('01_Data\\dataset_Google-Maps-Reviews-Hotels_2023-03-26_11-34-16-492.csv')\n",
    "\n",
    "print('Restaurants (Shape): ', df_rest.shape)\n",
    "print('Activities (Shape): ', df_act.shape)\n",
    "print('Hotels (Shape): ', df_hotel.shape)"
   ]
  },
  {
   "cell_type": "code",
   "execution_count": 4,
   "metadata": {},
   "outputs": [],
   "source": [
    "columns_to_keep = [\n",
    "    \"stars\",\n",
    "    \"publishedAtDate\",\n",
    "    \"name\",\n",
    "    \"text\",\n",
    "    \"title\",\n",
    "    \"subTitle\",\n",
    "    \"description\",\n",
    "    \"price\",\n",
    "    \"totalScore\",\n",
    "    \"likesCount\",\n",
    "    \"isLocalGuide\",\n",
    "    \"reviewId\",\n",
    "    \"categoryName\",\n",
    "    \"reviewImageUrls/0\",\n",
    "    \"reviewImageUrls/1\",\n",
    "    \"reviewImageUrls/2\",\n",
    "    \"reviewImageUrls/3\",\n",
    "    \"reviewImageUrls/4\",\n",
    "    \"reviewImageUrls/5\",\n",
    "    \"reviewImageUrls/6\",\n",
    "    \"reviewImageUrls/7\",\n",
    "    \"reviewImageUrls/8\",\n",
    "    \"reviewImageUrls/9\",\n",
    "    \"reviewUrl\",\n",
    "    \"reviewerId\",\n",
    "    \"reviewerNumberOfReviews\",\n",
    "    \"reviewerPhotoUrl\",\n",
    "    \"reviewerUrl\",\n",
    "    \"reviewsCount\",\n",
    "    \"scrapedAt\",\n",
    "    \"state\",\n",
    "    \"street\",\n",
    "    \"temporarilyClosed\",\n",
    "    \"url\",\n",
    "    \"website\",\n",
    "\n",
    "    # at least for restaurants\n",
    "    \"categories/0\",\n",
    "    \"categories/1\",\n",
    "    \"categories/2\",\n",
    "    \"categoryName\"\n",
    "]"
   ]
  },
  {
   "cell_type": "code",
   "execution_count": 5,
   "metadata": {},
   "outputs": [
    {
     "name": "stdout",
     "output_type": "stream",
     "text": [
      "(1179, 40)\n"
     ]
    }
   ],
   "source": [
    "df_rest = df_rest.dropna(subset=[\"reviewImageUrls/0\"])\n",
    "df_rest = df_rest[columns_to_keep]\n",
    "df_rest['genre'] = 'restaurant'\n",
    "print(df_rest.shape)"
   ]
  },
  {
   "cell_type": "code",
   "execution_count": 6,
   "metadata": {},
   "outputs": [
    {
     "name": "stdout",
     "output_type": "stream",
     "text": [
      "(3844, 40)\n"
     ]
    }
   ],
   "source": [
    "df_act = df_act.dropna(subset=[\"reviewImageUrls/0\"])\n",
    "df_act = df_act[columns_to_keep]\n",
    "df_act['genre'] = 'activity'\n",
    "print(df_act.shape)"
   ]
  },
  {
   "cell_type": "code",
   "execution_count": 7,
   "metadata": {},
   "outputs": [
    {
     "name": "stdout",
     "output_type": "stream",
     "text": [
      "(1846, 40)\n"
     ]
    }
   ],
   "source": [
    "df_hotel = df_hotel.dropna(subset=[\"reviewImageUrls/0\"])\n",
    "df_hotel = df_hotel[columns_to_keep]\n",
    "df_hotel['genre'] = 'hotel'\n",
    "print(df_hotel.shape)"
   ]
  },
  {
   "cell_type": "code",
   "execution_count": 12,
   "metadata": {},
   "outputs": [
    {
     "name": "stdout",
     "output_type": "stream",
     "text": [
      "(6869, 40)\n"
     ]
    }
   ],
   "source": [
    "df = pd.concat([df_rest, df_act, df_hotel], ignore_index=True)\n",
    "print(df.shape)\n",
    "df.to_csv('all_rest_act_hotel.csv', index=False)"
   ]
  },
  {
   "attachments": {},
   "cell_type": "markdown",
   "metadata": {},
   "source": [
    "Resizing the images to 256-256 pixels via gettin the better url"
   ]
  },
  {
   "cell_type": "code",
   "execution_count": 14,
   "metadata": {},
   "outputs": [
    {
     "name": "stdout",
     "output_type": "stream",
     "text": [
      "(6869, 40)\n"
     ]
    }
   ],
   "source": [
    "image_urls_cols = [\n",
    "    \"reviewImageUrls/0\",\n",
    "    \"reviewImageUrls/1\",\n",
    "    \"reviewImageUrls/2\",\n",
    "    \"reviewImageUrls/3\",\n",
    "    \"reviewImageUrls/4\",\n",
    "    \"reviewImageUrls/5\",\n",
    "    \"reviewImageUrls/6\",\n",
    "    \"reviewImageUrls/7\",\n",
    "    \"reviewImageUrls/8\",\n",
    "    \"reviewImageUrls/9\"\n",
    "]\n",
    "\n",
    "for col in image_urls_cols:\n",
    "    df[col] = df[col].str.replace(\"=w150-h150-k-no-p\", \"=w256-h256-p-k-no\")\n",
    "\n",
    "print(df.shape)"
   ]
  },
  {
   "attachments": {},
   "cell_type": "markdown",
   "metadata": {},
   "source": [
    "### Extract Keywords With KeyBert"
   ]
  },
  {
   "cell_type": "code",
   "execution_count": 17,
   "metadata": {},
   "outputs": [
    {
     "name": "stdout",
     "output_type": "stream",
     "text": [
      "Convertion done.\n"
     ]
    }
   ],
   "source": [
    "df['text'] = df['text'].astype(str)\n",
    "print(\"Convertion done.\")\n",
    "\n",
    "df['keywords'] = df['text'].apply(lambda x: kw_model.extract_keywords(x,keyphrase_ngram_range=(1,1) ,\n",
    "                                     stop_words='english', \n",
    "                                     highlight=False,\n",
    "                                     top_n=5))\n",
    "print(\"Keywords extraction done.\")\n",
    "df.to_csv('base_keywords_sentiment.csv', index=False)\n"
   ]
  },
  {
   "attachments": {},
   "cell_type": "markdown",
   "metadata": {},
   "source": [
    "### Sentiment analyse"
   ]
  },
  {
   "cell_type": "code",
   "execution_count": 15,
   "metadata": {},
   "outputs": [],
   "source": [
    "model_path = \"cardiffnlp/twitter-xlm-roberta-base-sentiment\"\n",
    "sentiment_task = pipeline(\"sentiment-analysis\", model=model_path, tokenizer=model_path)"
   ]
  },
  {
   "cell_type": "code",
   "execution_count": 234,
   "metadata": {},
   "outputs": [],
   "source": [
    "df['sentiment'] = df['text'].apply(lambda x: sentiment_task(x)[0]['label'])\n",
    "print(\"done with sentiment label. \")\n",
    "df['sentiment_score'] = df['text'].apply(lambda x: sentiment_task(x)[0]['score'])\n",
    "print(\"done with sentiment score \")\n",
    "\n",
    "# df['sent_score_1'] = df['text'].apply(lambda x: sentiment_task(x)[1]['score'])\n",
    "# df['sent_score_2'] = df['text'].apply(lambda x: sentiment_task(x)[2]['score'])\n",
    "\n",
    "# sentiment_labels = []\n",
    "# sent_score_0 = []\n",
    "# sent_score_1 = []\n",
    "# sent_score_2 = []\n",
    "\n",
    "# for idx, row in df.iterrows():\n",
    "#     # Print the row index\n",
    "#     print(\"Processing row \", idx)\n",
    "\n",
    "#     sentiment = sentiment_task(row['text'])\n",
    "    \n",
    "#     # Extract the sentiment label and scores and append them to the corresponding lists\n",
    "#     sentiment_labels.append(sentiment[0]['label'])\n",
    "#     sent_score_0.append(sentiment[0]['score'])\n",
    "\n",
    "#     print(sentiment[0]['label'])\n",
    "#     print(sentiment[0]['score'])\n",
    "\n",
    "# df['sentiment'] = sentiment_labels\n",
    "# df['sent_score_0'] = sent_score_0\n",
    "# df['sent_score_1'] = sent_score_1\n",
    "# df['sent_score_2'] = sent_score_2"
   ]
  },
  {
   "cell_type": "code",
   "execution_count": null,
   "metadata": {},
   "outputs": [],
   "source": [
    "print(df_keywords_test['keywords'])\n",
    "\n",
    "#only store the keywords in a list not the scores\n",
    "\n",
    "df_keywords_test['keywords_only'] = df_keywords_test['keywords'].apply(lambda x: [i[0] for i in x])\n",
    "print(df_keywords_test['keywords_only'])"
   ]
  },
  {
   "attachments": {},
   "cell_type": "markdown",
   "metadata": {},
   "source": [
    "## Gradio Anwendung Versuch"
   ]
  },
  {
   "attachments": {},
   "cell_type": "markdown",
   "metadata": {},
   "source": [
    "### HTML Bewertung im Stil von Google Maps erstellen"
   ]
  },
  {
   "cell_type": "code",
   "execution_count": null,
   "metadata": {},
   "outputs": [],
   "source": [
    "def generate_review_html(stars, date, user, is_local_guide, text, user_image, review_images):\n",
    "    full_stars = int(stars)\n",
    "    half_star = (stars % 1) > 0\n",
    "    empty_stars = 5 - full_stars - half_star\n",
    "    full_star_html = '<span class=\"star full\">&#9733;</span>'\n",
    "    half_star_html = '<span class=\"star half\">&#9733;</span>'\n",
    "    empty_star_html = '<span class=\"star empty\">&#9733;</span>'\n",
    "    stars_html = (full_star_html * full_stars) + (half_star_html * half_star) + (empty_star_html * empty_stars)\n",
    "    user_name = user if not is_local_guide else f\"{user} (local guide)\"\n",
    "    \n",
    "    html = f\"\"\"\n",
    "    <style>\n",
    "      .star.full {{\n",
    "        color: #f1c40f;\n",
    "      }}\n",
    "      .star.half {{\n",
    "        color: #f1c40f;\n",
    "        position: relative;\n",
    "      }}\n",
    "      .star.half::before {{\n",
    "        content: '\\\\2605';\n",
    "        position: absolute;\n",
    "        left: 0;\n",
    "        color: #ddd;\n",
    "      }}\n",
    "      .star.empty {{\n",
    "        color: #ddd;\n",
    "      }}\n",
    "    </style>\n",
    "    <div class=\"review\">\n",
    "      <div class=\"user\">\n",
    "        <img src={user_image} alt=\"User profile picture\">\n",
    "        <div class=\"user-info\">\n",
    "          <h4>{user_name}</h4>\n",
    "          <p>Submitted on {date}</p>\n",
    "        </div>\n",
    "      </div>\n",
    "      <div class=\"rating\">\n",
    "        {stars_html}\n",
    "      </div>\n",
    "      <div class=\"review-text\">\n",
    "        <p>{text}</p>\n",
    "      </div>\n",
    "      <div class=\"review-image\">\n",
    "        <img src={review_images} alt=\"Restaurant image\">\n",
    "      </div>\n",
    "    </div>\n",
    "    \"\"\"\n",
    "    return html"
   ]
  },
  {
   "cell_type": "code",
   "execution_count": null,
   "metadata": {},
   "outputs": [],
   "source": [
    "def generate_deepfake(review_about, stars):\n",
    "    text = fake.text()\n",
    "    stars = fake.random_int(min=1, max=5, step=1)\n",
    "    date = fake.date_between(start_date='-1y', end_date='today')\n",
    "    user = fake.name()\n",
    "    local_guide = fake.boolean(chance_of_getting_true=7)\n",
    "    html_review = generate_review_html(stars, date, user, local_guide, text, user_image=\"https://via.placeholder.com/50/%22%20alt=/%22Restaurant%20image/\", review_images = \"https://lh5.googleusercontent.com/p/AF1QipPsYMpfUpwmH5ltkPNIeDbgPivvBstyJCea32vJ=w150-h150-k-no-p\")\n",
    "    return html_review\n",
    "\n",
    "def verify_review(stars, date, user, local_guide, text, image):\n",
    "    return \"FAKE\", \"0.9\"\n"
   ]
  },
  {
   "cell_type": "code",
   "execution_count": null,
   "metadata": {},
   "outputs": [],
   "source": [
    "with gr.Blocks() as demo:\n",
    "    with gr.Tab (\"Create Fake Review\"):\n",
    "        review_about = gr.Textbox(label=\"Review about\")\n",
    "        review_stars = gr.Slider(label=\"Stars\", minimum=1, maximum=5, step=1)\n",
    "        generate_btn = gr.Button(\"Generate Multi-Modal Review\")\n",
    "        html_output = gr.HTML(label=\"Review\") \n",
    "        generate_btn.click(fn=generate_deepfake, inputs=[review_about, review_stars], outputs=[html_output])\n",
    "    \n",
    "    with gr.Tab (\"Verify Review\"):\n",
    "        with gr.Row(): \n",
    "            input_stars = gr.Slider(label=\"Stars\", minimum=1, maximum=5, step=1)\n",
    "            input_date = gr.Textbox(label=\"Date\", default=\"2023-01-01\")\n",
    "            input_user = gr.Textbox(label=\"User\")\n",
    "            input_local_guide = gr.Checkbox(label=\"Local Guide\")\n",
    "       \n",
    "        input_text = gr.Textbox(label=\"Review Text\")\n",
    "        input_image = gr.Image(label=\"Review Image\")\n",
    "        verify_btn = gr.Button(\"Verify Review\")\n",
    "        output_text = gr.Textbox(label=\"Generated Text\")\n",
    "        output_score = gr.Textbox(label=\"Score\")\n",
    "        verify_btn.click(fn=verify_review, inputs=[input_stars, input_date, input_user, input_local_guide, input_text, input_image], outputs=[output_text, output_score])\n",
    "\n",
    "demo.launch(debug=True)"
   ]
  }
 ],
 "metadata": {
  "kernelspec": {
   "display_name": "Python 3",
   "language": "python",
   "name": "python3"
  },
  "language_info": {
   "codemirror_mode": {
    "name": "ipython",
    "version": 3
   },
   "file_extension": ".py",
   "mimetype": "text/x-python",
   "name": "python",
   "nbconvert_exporter": "python",
   "pygments_lexer": "ipython3",
   "version": "3.9.13"
  },
  "orig_nbformat": 4
 },
 "nbformat": 4,
 "nbformat_minor": 2
}
