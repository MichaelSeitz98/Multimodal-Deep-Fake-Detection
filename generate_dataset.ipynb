{
 "cells": [
  {
   "cell_type": "code",
   "execution_count": null,
   "metadata": {},
   "outputs": [],
   "source": [
    "import pandas as pd\n",
    "import numpy as np\n",
    "import matplotlib.pyplot as plt\n",
    "import gradio as gr\n",
    "from PIL import Image, ImageTk\n",
    "from faker import Faker\n",
    "fake = Faker()\n",
    "\n",
    "from keybert import KeyBERT"
   ]
  },
  {
   "cell_type": "code",
   "execution_count": null,
   "metadata": {},
   "outputs": [],
   "source": [
    "kw_model = KeyBERT(model='all-mpnet-base-v2')"
   ]
  },
  {
   "cell_type": "code",
   "execution_count": null,
   "metadata": {},
   "outputs": [],
   "source": [
    "review_text = \"I love this product.I hate it. I love going skiing. It is so good. I would recommend it for every smartwatch enthusiast.\"\n",
    "keywords = kw_model.extract_keywords(review_text, \n",
    "                                     keyphrase_ngram_range=(1,1) ,\n",
    "                                     stop_words='english', \n",
    "                                     highlight=True,\n",
    "                                     top_n=6)\n",
    "\n",
    "keywords_list= list(dict(keywords).keys())\n",
    "\n",
    "print(keywords_list)"
   ]
  },
  {
   "attachments": {},
   "cell_type": "markdown",
   "metadata": {},
   "source": [
    "# Basic Dataset erstellen\n",
    "\n",
    "3 Kategorien: Hotels, Restaurants & Aktivitäten"
   ]
  },
  {
   "cell_type": "code",
   "execution_count": null,
   "metadata": {},
   "outputs": [],
   "source": [
    "df_rest = pd.read_csv('01_Data\\dataset_Google-Maps-Reviews-Restaurants_2023-03-26_09-43-08-320.csv')\n",
    "df_act = pd.read_csv('01_Data\\dataset_Google-Maps-Reviews-Activities_2023-03-26_11-08-15-435.csv')\n",
    "df_hotel = pd.read_csv('01_Data\\dataset_Google-Maps-Reviews-Hotels_2023-03-26_11-34-16-492.csv')\n",
    "\n",
    "print('Restaurants (Shape): ', df_rest.shape)\n",
    "print('Activities (Shape): ', df_act.shape)\n",
    "print('Hotels (Shape): ', df_hotel.shape)"
   ]
  },
  {
   "cell_type": "code",
   "execution_count": null,
   "metadata": {},
   "outputs": [],
   "source": [
    "# print in a looop the columns names and print the different values for each column\n",
    "\n",
    "for i in df_rest.columns:\n",
    "    print(i)\n",
    "    print(df_rest[i].unique())\n"
   ]
  },
  {
   "cell_type": "code",
   "execution_count": null,
   "metadata": {},
   "outputs": [],
   "source": [
    "columns_to_keep = [\n",
    "    \"stars\",\n",
    "    \"publishedAtDate\",\n",
    "    \"name\",\n",
    "    \"text\",\n",
    "    \"title\",\n",
    "    \"subTitle\",\n",
    "    \"description\",\n",
    "    \"price\",\n",
    "    \"totalScore\",\n",
    "    \"likesCount\",\n",
    "    \"isLocalGuide\",\n",
    "    \"reviewId\",\n",
    "    \"categoryName\",\n",
    "    \"reviewImageUrls/0\",\n",
    "    \"reviewImageUrls/1\",\n",
    "    \"reviewImageUrls/2\",\n",
    "    \"reviewImageUrls/3\",\n",
    "    \"reviewImageUrls/4\",\n",
    "    \"reviewImageUrls/5\",\n",
    "    \"reviewImageUrls/6\",\n",
    "    \"reviewImageUrls/7\",\n",
    "    \"reviewImageUrls/8\",\n",
    "    \"reviewImageUrls/9\",\n",
    "    \"reviewUrl\",\n",
    "    \"reviewerId\",\n",
    "    \"reviewerNumberOfReviews\",\n",
    "    \"reviewerPhotoUrl\",\n",
    "    \"reviewerUrl\",\n",
    "    \"reviewsCount\",\n",
    "    \"scrapedAt\",\n",
    "    \"state\",\n",
    "    \"street\",\n",
    "    \"temporarilyClosed\",\n",
    "    \"url\",\n",
    "    \"website\",\n",
    "\n",
    "    # at least for restaurants\n",
    "    \"categories/0\",\n",
    "    \"categories/1\",\n",
    "    \"categories/2\",\n",
    "    \"categoryName\"\n",
    "]"
   ]
  },
  {
   "cell_type": "code",
   "execution_count": null,
   "metadata": {},
   "outputs": [],
   "source": [
    "df_rest = df_rest.dropna(subset=[\"reviewImageUrls/0\"])\n",
    "df_rest = df_rest[columns_to_keep]\n",
    "\n",
    "# add a column with genre and for evey row the value restaurant\n",
    "\n",
    "df_rest['genre'] = 'restaurant'\n",
    "print(df_rest.shape)"
   ]
  },
  {
   "cell_type": "code",
   "execution_count": null,
   "metadata": {},
   "outputs": [],
   "source": [
    "df_act = df_act.dropna(subset=[\"reviewImageUrls/0\"])\n",
    "df_act = df_act[columns_to_keep]\n",
    "df_act['genre'] = 'activity'\n",
    "print(df_act.shape)"
   ]
  },
  {
   "cell_type": "code",
   "execution_count": null,
   "metadata": {},
   "outputs": [],
   "source": [
    "df_hotel = df_hotel.dropna(subset=[\"reviewImageUrls/0\"])\n",
    "df_hotel = df_hotel[columns_to_keep]\n",
    "df_hotel['genre'] = 'hotel'\n",
    "print(df_hotel.shape)"
   ]
  },
  {
   "cell_type": "code",
   "execution_count": null,
   "metadata": {},
   "outputs": [],
   "source": [
    "df = pd.concat([df_rest, df_act, df_hotel], ignore_index=True)\n",
    "print(df.shape)"
   ]
  },
  {
   "cell_type": "code",
   "execution_count": null,
   "metadata": {},
   "outputs": [],
   "source": [
    "image_urls_cols = [\n",
    "    \"reviewImageUrls/0\",\n",
    "    \"reviewImageUrls/1\",\n",
    "    \"reviewImageUrls/2\",\n",
    "    \"reviewImageUrls/3\",\n",
    "    \"reviewImageUrls/4\",\n",
    "    \"reviewImageUrls/5\",\n",
    "    \"reviewImageUrls/6\",\n",
    "    \"reviewImageUrls/7\",\n",
    "    \"reviewImageUrls/8\",\n",
    "    \"reviewImageUrls/9\"\n",
    "]\n",
    "\n",
    "for col in image_urls_cols:\n",
    "    df[col + \"_hr\"] = df[col]\n",
    "    df[col + \"_hr\"] = df[col + \"_hr\"].str.replace(\"=w150-h150-k-no-p\", \"=w256-h256-p-k-no\")\n",
    "\n",
    "print(df.shape)\n",
    "\n",
    "# for index, row in df.iterrows():\n",
    "#     print(\"row: \", index)\n",
    "#     print(row[\"reviewImageUrls/0\"])\n",
    "#     print(row[\"reviewImageUrls/0_hr\"])"
   ]
  },
  {
   "cell_type": "code",
   "execution_count": null,
   "metadata": {},
   "outputs": [],
   "source": [
    "df['text'] = df['text'].astype(str)\n",
    "print(\"Convertion done.\")\n",
    "\n",
    "df['keywords'] = df['text'].apply(lambda x: kw_model.extract_keywords(x,keyphrase_ngram_range=(1,1) ,\n",
    "                                     stop_words='english', \n",
    "                                     highlight=False,\n",
    "                                     top_n=4))\n",
    "\n",
    "print(df_keywords_test['keywords'])\n",
    "\n",
    "df.to_csv('01_Data\\merged_with_keywords.csv', index=False)\n"
   ]
  },
  {
   "cell_type": "code",
   "execution_count": null,
   "metadata": {},
   "outputs": [],
   "source": [
    "print(df_keywords_test['keywords'])\n",
    "\n",
    "#only store the keywords in a list not the scores\n",
    "\n",
    "df_keywords_test['keywords_only'] = df_keywords_test['keywords'].apply(lambda x: [i[0] for i in x])\n",
    "print(df_keywords_test['keywords_only'])"
   ]
  },
  {
   "cell_type": "code",
   "execution_count": null,
   "metadata": {},
   "outputs": [],
   "source": [
    "# print the keywords for the first 5 rows\n",
    "\n",
    "print(df['keywords'].head())"
   ]
  },
  {
   "cell_type": "code",
   "execution_count": null,
   "metadata": {},
   "outputs": [],
   "source": [
    "for index, row in df.iterrows():\n",
    "    print(\"row: \", index)\n",
    "    print(row[\"description\"])"
   ]
  },
  {
   "attachments": {},
   "cell_type": "markdown",
   "metadata": {},
   "source": [
    "## Gradio Anwendung Versuch"
   ]
  },
  {
   "attachments": {},
   "cell_type": "markdown",
   "metadata": {},
   "source": [
    "### HTML Bewertung im Stil von Google Maps erstellen"
   ]
  },
  {
   "cell_type": "code",
   "execution_count": null,
   "metadata": {},
   "outputs": [],
   "source": [
    "def generate_review_html(stars, date, user, is_local_guide, text, user_image, review_images):\n",
    "    full_stars = int(stars)\n",
    "    half_star = (stars % 1) > 0\n",
    "    empty_stars = 5 - full_stars - half_star\n",
    "    full_star_html = '<span class=\"star full\">&#9733;</span>'\n",
    "    half_star_html = '<span class=\"star half\">&#9733;</span>'\n",
    "    empty_star_html = '<span class=\"star empty\">&#9733;</span>'\n",
    "    stars_html = (full_star_html * full_stars) + (half_star_html * half_star) + (empty_star_html * empty_stars)\n",
    "    user_name = user if not is_local_guide else f\"{user} (local guide)\"\n",
    "    \n",
    "    html = f\"\"\"\n",
    "    <style>\n",
    "      .star.full {{\n",
    "        color: #f1c40f;\n",
    "      }}\n",
    "      .star.half {{\n",
    "        color: #f1c40f;\n",
    "        position: relative;\n",
    "      }}\n",
    "      .star.half::before {{\n",
    "        content: '\\\\2605';\n",
    "        position: absolute;\n",
    "        left: 0;\n",
    "        color: #ddd;\n",
    "      }}\n",
    "      .star.empty {{\n",
    "        color: #ddd;\n",
    "      }}\n",
    "    </style>\n",
    "    <div class=\"review\">\n",
    "      <div class=\"user\">\n",
    "        <img src={user_image} alt=\"User profile picture\">\n",
    "        <div class=\"user-info\">\n",
    "          <h4>{user_name}</h4>\n",
    "          <p>Submitted on {date}</p>\n",
    "        </div>\n",
    "      </div>\n",
    "      <div class=\"rating\">\n",
    "        {stars_html}\n",
    "      </div>\n",
    "      <div class=\"review-text\">\n",
    "        <p>{text}</p>\n",
    "      </div>\n",
    "      <div class=\"review-image\">\n",
    "        <img src={review_images} alt=\"Restaurant image\">\n",
    "      </div>\n",
    "    </div>\n",
    "    \"\"\"\n",
    "    return html"
   ]
  },
  {
   "cell_type": "code",
   "execution_count": null,
   "metadata": {},
   "outputs": [],
   "source": [
    "def generate_deepfake(review_about, stars):\n",
    "    text = fake.text()\n",
    "    stars = fake.random_int(min=1, max=5, step=1)\n",
    "    date = fake.date_between(start_date='-1y', end_date='today')\n",
    "    user = fake.name()\n",
    "    local_guide = fake.boolean(chance_of_getting_true=7)\n",
    "    html_review = generate_review_html(stars, date, user, local_guide, text, user_image=\"https://via.placeholder.com/50/%22%20alt=/%22Restaurant%20image/\", review_images = \"https://lh5.googleusercontent.com/p/AF1QipPsYMpfUpwmH5ltkPNIeDbgPivvBstyJCea32vJ=w150-h150-k-no-p\")\n",
    "    return html_review\n",
    "\n",
    "def verify_review(stars, date, user, local_guide, text, image):\n",
    "    return \"FAKE\", \"0.9\"\n"
   ]
  },
  {
   "cell_type": "code",
   "execution_count": null,
   "metadata": {},
   "outputs": [],
   "source": [
    "with gr.Blocks() as demo:\n",
    "    with gr.Tab (\"Create Fake Review\"):\n",
    "        review_about = gr.Textbox(label=\"Review about\")\n",
    "        review_stars = gr.Slider(label=\"Stars\", minimum=1, maximum=5, step=1)\n",
    "        generate_btn = gr.Button(\"Generate Multi-Modal Review\")\n",
    "        html_output = gr.HTML(label=\"Review\") \n",
    "        generate_btn.click(fn=generate_deepfake, inputs=[review_about, review_stars], outputs=[html_output])\n",
    "    \n",
    "    with gr.Tab (\"Verify Review\"):\n",
    "        with gr.Row(): \n",
    "            input_stars = gr.Slider(label=\"Stars\", minimum=1, maximum=5, step=1)\n",
    "            input_date = gr.Textbox(label=\"Date\", default=\"2023-01-01\")\n",
    "            input_user = gr.Textbox(label=\"User\")\n",
    "            input_local_guide = gr.Checkbox(label=\"Local Guide\")\n",
    "       \n",
    "        input_text = gr.Textbox(label=\"Review Text\")\n",
    "        input_image = gr.Image(label=\"Review Image\")\n",
    "        verify_btn = gr.Button(\"Verify Review\")\n",
    "        output_text = gr.Textbox(label=\"Generated Text\")\n",
    "        output_score = gr.Textbox(label=\"Score\")\n",
    "        verify_btn.click(fn=verify_review, inputs=[input_stars, input_date, input_user, input_local_guide, input_text, input_image], outputs=[output_text, output_score])\n",
    "\n",
    "demo.launch(debug=True)"
   ]
  }
 ],
 "metadata": {
  "kernelspec": {
   "display_name": "Python 3",
   "language": "python",
   "name": "python3"
  },
  "language_info": {
   "codemirror_mode": {
    "name": "ipython",
    "version": 3
   },
   "file_extension": ".py",
   "mimetype": "text/x-python",
   "name": "python",
   "nbconvert_exporter": "python",
   "pygments_lexer": "ipython3",
   "version": "3.9.13"
  },
  "orig_nbformat": 4
 },
 "nbformat": 4,
 "nbformat_minor": 2
}
