{
 "cells": [
  {
   "attachments": {},
   "cell_type": "markdown",
   "metadata": {},
   "source": [
    "Finetuning eines GPT-3-Modell\n",
    "\n",
    "In diesem Notebook wird dein Datensatz zusammengestellt, der ausschließlich zum Finetuning eines GPT-3-Modells dient"
   ]
  },
  {
   "cell_type": "code",
   "execution_count": 3,
   "metadata": {},
   "outputs": [],
   "source": [
    "import pandas as pd\n",
    "import torch\n",
    "from transformers import GPT2LMHeadModel, GPT2Tokenizer\n",
    "import re\n",
    "import json\n",
    "import openai\n",
    "import langdetect"
   ]
  },
  {
   "attachments": {},
   "cell_type": "markdown",
   "metadata": {},
   "source": [
    "# Datensatz erstellen für GPT3 Finetuning "
   ]
  },
  {
   "cell_type": "code",
   "execution_count": null,
   "metadata": {},
   "outputs": [],
   "source": [
    "# df_rest = pd.read_csv('01_Raw_Data\\dataset_Google-Maps-Reviews-Restaurants_2023-03-26_09-43-08-320.csv')\n",
    "# df_act = pd.read_csv('01_Raw_Data\\dataset_Google-Maps-Reviews-Activities_2023-03-26_11-08-15-435.csv')\n",
    "# df_hotel = pd.read_csv('01_Raw_Data\\dataset_Google-Maps-Reviews-Hotels_2023-03-26_11-34-16-492.csv')\n",
    "\n",
    "\n",
    "# MIT VIEL MEHR DATEN UND DANN DAFÜR DIE LOCATIONS RAUSSCHMEIßEN\n",
    "\n",
    "#df_rest = pd.read_csv('01_Raw_Data\\dataset_Google-Maps-Reviews-Restaurants_v2_2023-03-30_14-05-51-577.csv')\n",
    "# df_act = pd.read_csv('01_Raw_Data\\dataset_Google-Maps-Reviews-Activities_v2_2023-03-26_11-08-15-435.csv')\n",
    "# df_hotel = pd.read_csv('01_Raw_Data\\dataset_Google-Maps-Reviews-Hotels_v2_2023-03-26_11-34-16-492.csv')\n",
    "\n",
    "#print('Restaurants (Shape): ', df_rest.shape)\n",
    "# print('Activities (Shape): ', df_act.shape)\n",
    "# print('Hotels (Shape): ', df_hotel.shape)"
   ]
  },
  {
   "cell_type": "code",
   "execution_count": null,
   "metadata": {},
   "outputs": [],
   "source": [
    "# drop all nan in imageUrls/0\n",
    "\n",
    "df_rest = df_rest.dropna(subset=['reviewImageUrls/0'])\n",
    "print('Restaurants (Shape): ', df_rest.shape)"
   ]
  },
  {
   "attachments": {},
   "cell_type": "markdown",
   "metadata": {},
   "source": [
    "Idee: nur den Text berücksichtigen. Noch kein Fokus auf zwei Modalitäten"
   ]
  },
  {
   "cell_type": "code",
   "execution_count": null,
   "metadata": {},
   "outputs": [],
   "source": [
    "df_reduced = pd.read_csv('base_keywords_sentiment_reduced.csv')\n",
    "df_fine_tuning = pd.concat([df_rest, df_act, df_hotel], axis=0)\n",
    "\n",
    "df_fine_tuning = df_fine_tuning.reset_index(drop=True)\n",
    "df_fine_tuning = df_fine_tuning.drop_duplicates(subset=['reviewId'])\n",
    "print('All (raw): ', df_fine_tuning.shape)\n",
    "\n",
    "df_fine_tuning = df_fine_tuning.dropna(subset=['text'])\n",
    "df_fine_tuning = df_fine_tuning[['text', 'reviewId', 'url', 'placeId','categoryName', 'stars', 'reviewImageUrls/0']]\n",
    "print('All with text: ', df_fine_tuning.shape)\n",
    "df_fine_tuning['text'] = df_fine_tuning['text'].astype(str)\n",
    "\n",
    "df_fine_tuning = df_fine_tuning[~df_fine_tuning['reviewId'].isin(df_reduced['reviewId'])]\n",
    "print('All (ohne späteren Base-Datensatz reviews): ', df_fine_tuning.shape)\n",
    "df_fine_tuning.to_csv('finetuning_gpt3_v2.csv', index=False)"
   ]
  },
  {
   "attachments": {},
   "cell_type": "markdown",
   "metadata": {},
   "source": [
    "Jetzt. Andere Sprachen rausfiltern und Einträge die im Base-Datensatz sind rausfiltern. @TODO: RAUSFINDEN, OB AUF ANDERE LOCATOINS TRAINIEREN ODER DIE SELBEN WIE IM BASE_..._.csv Datensatz"
   ]
  },
  {
   "cell_type": "code",
   "execution_count": null,
   "metadata": {},
   "outputs": [],
   "source": [
    "df = pd.read_csv (\"finetuning_gpt3_v2.csv\")\n",
    "df.shape"
   ]
  },
  {
   "cell_type": "code",
   "execution_count": null,
   "metadata": {},
   "outputs": [],
   "source": [
    "def is_english(text):\n",
    "    try:\n",
    "        return langdetect.detect(text) == 'en'\n",
    "    except:\n",
    "        return False\n",
    "\n",
    "print('Starting...', df.shape)\n",
    "df = df[df['text'].apply(is_english)]\n",
    "\n",
    "print('Finsihed only English', df.shape)\n",
    "df.to_csv('finetuning_gpt3_sameplaces_only_english.csv', index=False)"
   ]
  },
  {
   "cell_type": "code",
   "execution_count": 25,
   "metadata": {},
   "outputs": [
    {
     "name": "stdout",
     "output_type": "stream",
     "text": [
      "(5286, 7)\n",
      "50\n",
      "(893, 7)\n"
     ]
    }
   ],
   "source": [
    "df = pd.read_csv (\"finetuning_gpt3_sameplaces_only_english_multimod.csv\")\n",
    "print(df.shape)\n",
    "\n",
    "df = df.groupby('placeId').head(25)\n",
    "print(df['placeId'].nunique())\n",
    "\n",
    "print(df.shape)\n",
    "df.to_csv('finetuning_gpt3_sameplaces_only_english_multimod_25perplace.csv', index=False)"
   ]
  },
  {
   "cell_type": "code",
   "execution_count": 31,
   "metadata": {},
   "outputs": [
    {
     "name": "stdout",
     "output_type": "stream",
     "text": [
      "(890, 7)\n",
      "(890, 7)\n"
     ]
    }
   ],
   "source": [
    "# Rows die END enthlaten rausnehmen, für COMPLETION PROMPT WICHTIG\n",
    "df = pd.read_csv (\"finetuning_gpt3_sameplaces_only_english_multimod_25perplace.csv\")\n",
    "print(df.shape)\n",
    "df = df[~df['text'].str.contains(\"END\")]\n",
    "print(df.shape)\n",
    "df.to_csv('finetuning_gpt3_sameplaces_only_english_multimod_25perplace.csv', index=False)"
   ]
  },
  {
   "cell_type": "code",
   "execution_count": 43,
   "metadata": {},
   "outputs": [
    {
     "name": "stdout",
     "output_type": "stream",
     "text": [
      "Rows that appear in both dataframes: 0\n"
     ]
    }
   ],
   "source": [
    "# Checks\n",
    "\n",
    "df_reduced = pd.read_csv(\"base_keywords_sentiment_reduced.csv\")\n",
    "df_fine_tuning = pd.read_csv(\"finetuning_gpt3_sameplaces_only_english_multimod_25perplace.csv\")\n",
    "print(f\"Rows that appear in both dataframes:\" , df_reduced['reviewId'].isin(df_fine_tuning['reviewId']).sum())"
   ]
  },
  {
   "cell_type": "code",
   "execution_count": 14,
   "metadata": {},
   "outputs": [],
   "source": [
    "def generate_prompt_gpt3(row):\n",
    "    category = row[\"categoryName\"]\n",
    "    return f\"A Google Maps review about a {category}.\"\n",
    "\n",
    "# def generate_prompt_gpt35turbo(row):\n",
    "#     category = row[\"categoryName\"]\n",
    "#     return f\"Write a Google Maps review about a {category}.\"\n",
    "\n",
    "# def generate_prompt_gpt35turbo(row):\n",
    "#     stars = row[\"stars\"]\n",
    "#     category = row[\"categoryName\"]\n",
    "#     keywords = row[\"keywords_only\"]\n",
    "#     keywords = keywords[1:-1].split(\",\")[:3]\n",
    "#     keywords = [k.strip() for k in keywords]\n",
    "#     keywords = \", \".join(keywords)\n",
    "#     keywords = keywords.replace(\"'\", \"\")\n",
    "#     return f\"Write a {stars} stars Google Maps review about a {category}, with the following keywords: {keywords}.\""
   ]
  },
  {
   "cell_type": "code",
   "execution_count": 15,
   "metadata": {},
   "outputs": [
    {
     "name": "stdout",
     "output_type": "stream",
     "text": [
      "(890, 7)\n",
      "(890, 9)\n",
      "Index(['text', 'reviewId', 'url', 'placeId', 'categoryName', 'stars',\n",
      "       'reviewImageUrls/0', 'prompt', 'completion'],\n",
      "      dtype='object')\n",
      "                                            completion  \\\n",
      "0    My husband and I had our anniversary dinner he...   \n",
      "1    Celebrated my wife’s birthday and she loved it...   \n",
      "2    Fresh and well seasoned! I like the aesthetic ...   \n",
      "3    Very beautiful atmosphere and impeccable servi...   \n",
      "4    The entire staff was attentive and so friendly...   \n",
      "..                                                 ...   \n",
      "885  AWESOME!  All employees were great!  The barte...   \n",
      "886  Beautiful location on the worlds most famous b...   \n",
      "887  A disappointment. This used to be the premier ...   \n",
      "888  4 elevators and only 2 in operation\\nBed in ou...   \n",
      "889  Like many have said, the location is perfect, ...   \n",
      "\n",
      "                                               prompt  \n",
      "0    A Google Maps review about a Italian restaurant.  \n",
      "1    A Google Maps review about a Italian restaurant.  \n",
      "2    A Google Maps review about a Italian restaurant.  \n",
      "3    A Google Maps review about a Italian restaurant.  \n",
      "4    A Google Maps review about a Italian restaurant.  \n",
      "..                                                ...  \n",
      "885               A Google Maps review about a Hotel.  \n",
      "886               A Google Maps review about a Hotel.  \n",
      "887               A Google Maps review about a Hotel.  \n",
      "888               A Google Maps review about a Hotel.  \n",
      "889               A Google Maps review about a Hotel.  \n",
      "\n",
      "[890 rows x 2 columns]\n"
     ]
    }
   ],
   "source": [
    "df = pd.read_csv (\"finetuning_gpt3_sameplaces_only_english_multimod_25perplace.csv\")\n",
    "print(df.shape)\n",
    "\n",
    "df[\"prompt\"] = df.apply(generate_prompt_gpt3, axis=1)\n",
    "df[\"completion\"] = df[\"text\"]\n",
    "\n",
    "print(df.shape)\n",
    "print(df.columns)\n",
    "print(df[['completion','prompt']].head(4999))\n",
    "\n",
    "df.to_csv('finetuning_gpt3_sameplaces_only_english_multimod_25perplace_pc.csv', index=False)"
   ]
  }
 ],
 "metadata": {
  "kernelspec": {
   "display_name": "Python 3",
   "language": "python",
   "name": "python3"
  },
  "language_info": {
   "codemirror_mode": {
    "name": "ipython",
    "version": 3
   },
   "file_extension": ".py",
   "mimetype": "text/x-python",
   "name": "python",
   "nbconvert_exporter": "python",
   "pygments_lexer": "ipython3",
   "version": "3.9.13"
  },
  "orig_nbformat": 4
 },
 "nbformat": 4,
 "nbformat_minor": 2
}
