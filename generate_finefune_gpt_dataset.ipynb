{
 "cells": [
  {
   "attachments": {},
   "cell_type": "markdown",
   "metadata": {},
   "source": [
    "Finetuning eines GPT-3-Modell\n",
    "\n",
    "In diesem Notebook wird dein Datensatz zusammengestellt, der ausschließlich zum Finetuning eines GPT-3-Modells dient"
   ]
  },
  {
   "cell_type": "code",
   "execution_count": 4,
   "metadata": {},
   "outputs": [],
   "source": [
    "import pandas as pd\n",
    "import torch\n",
    "from transformers import GPT2LMHeadModel, GPT2Tokenizer\n",
    "import re\n",
    "import json\n",
    "import openai\n",
    "import langdetect\n"
   ]
  },
  {
   "attachments": {},
   "cell_type": "markdown",
   "metadata": {},
   "source": [
    "# Datensatz erstellen für GPT3 Finetuning "
   ]
  },
  {
   "cell_type": "code",
   "execution_count": null,
   "metadata": {},
   "outputs": [],
   "source": [
    "# df_rest = pd.read_csv('01_Raw_Data\\dataset_Google-Maps-Reviews-Restaurants_2023-03-26_09-43-08-320.csv')\n",
    "# df_act = pd.read_csv('01_Raw_Data\\dataset_Google-Maps-Reviews-Activities_2023-03-26_11-08-15-435.csv')\n",
    "# df_hotel = pd.read_csv('01_Raw_Data\\dataset_Google-Maps-Reviews-Hotels_2023-03-26_11-34-16-492.csv')\n",
    "\n",
    "\n",
    "# MIT VIEL MEHR DATEN UND DANN DAFÜR DIE LOCATIONS RAUSSCHMEIßEN\n",
    "\n",
    "df_rest = pd.read_csv('01_Raw_Data\\dataset_Google-Maps-Reviews-Restaurants_v2_2023-03-30_14-05-51-577.csv')\n",
    "# df_act = pd.read_csv('01_Raw_Data\\dataset_Google-Maps-Reviews-Activities_v2_2023-03-26_11-08-15-435.csv')\n",
    "# df_hotel = pd.read_csv('01_Raw_Data\\dataset_Google-Maps-Reviews-Hotels_v2_2023-03-26_11-34-16-492.csv')\n",
    "\n",
    "print('Restaurants (Shape): ', df_rest.shape)\n",
    "# print('Activities (Shape): ', df_act.shape)\n",
    "# print('Hotels (Shape): ', df_hotel.shape)"
   ]
  },
  {
   "cell_type": "code",
   "execution_count": null,
   "metadata": {},
   "outputs": [],
   "source": [
    "# drop all nan in imageUrls/0\n",
    "\n",
    "df_rest = df_rest.dropna(subset=['reviewImageUrls/0'])\n",
    "print('Restaurants (Shape): ', df_rest.shape)"
   ]
  },
  {
   "attachments": {},
   "cell_type": "markdown",
   "metadata": {},
   "source": [
    "Idee: nur den Text berücksichtigen. Noch kein Fokus auf zwei Modalitäten"
   ]
  },
  {
   "cell_type": "code",
   "execution_count": null,
   "metadata": {},
   "outputs": [],
   "source": [
    "df_reduced = pd.read_csv('base_keywords_sentiment_reduced.csv')\n",
    "df_fine_tuning = pd.concat([df_rest, df_act, df_hotel], axis=0)\n",
    "\n",
    "df_fine_tuning = df_fine_tuning.reset_index(drop=True)\n",
    "df_fine_tuning = df_fine_tuning.drop_duplicates(subset=['reviewId'])\n",
    "print('All (raw): ', df_fine_tuning.shape)\n",
    "\n",
    "df_fine_tuning = df_fine_tuning.dropna(subset=['text'])\n",
    "df_fine_tuning = df_fine_tuning[['text', 'reviewId', 'url', 'placeId','categoryName', 'stars', 'reviewImageUrls/0']]\n",
    "print('All with text: ', df_fine_tuning.shape)\n",
    "df_fine_tuning['text'] = df_fine_tuning['text'].astype(str)\n",
    "\n",
    "df_fine_tuning = df_fine_tuning[~df_fine_tuning['reviewId'].isin(df_reduced['reviewId'])]\n",
    "print('All (ohne späteren Base-Datensatz reviews): ', df_fine_tuning.shape)\n",
    "df_fine_tuning.to_csv('finetuning_gpt3_v2.csv', index=False)"
   ]
  },
  {
   "attachments": {},
   "cell_type": "markdown",
   "metadata": {},
   "source": [
    "Jetzt. Andere Sprachen rausfiltern und Einträge die im Base-Datensatz sind rausfiltern. @TODO: RAUSFINDEN, OB AUF ANDERE LOCATOINS TRAINIEREN ODER DIE SELBEN WIE IM BASE_..._.csv Datensatz"
   ]
  },
  {
   "cell_type": "code",
   "execution_count": null,
   "metadata": {},
   "outputs": [],
   "source": [
    "df = pd.read_csv (\"finetuning_gpt3_v2.csv\")\n",
    "df.shape"
   ]
  },
  {
   "cell_type": "code",
   "execution_count": null,
   "metadata": {},
   "outputs": [],
   "source": [
    "def is_english(text):\n",
    "    try:\n",
    "        return langdetect.detect(text) == 'en'\n",
    "    except:\n",
    "        return False\n",
    "\n",
    "print('Starting...', df.shape)\n",
    "df = df[df['text'].apply(is_english)]\n",
    "\n",
    "print('Finsihed only English', df.shape)\n",
    "df.to_csv('finetuning_gpt3_sameplaces_only_english.csv', index=False)"
   ]
  },
  {
   "cell_type": "code",
   "execution_count": 25,
   "metadata": {},
   "outputs": [
    {
     "name": "stdout",
     "output_type": "stream",
     "text": [
      "(5286, 7)\n",
      "50\n",
      "(893, 7)\n"
     ]
    }
   ],
   "source": [
    "df = pd.read_csv (\"finetuning_gpt3_sameplaces_only_english_multimod.csv\")\n",
    "print(df.shape)\n",
    "\n",
    "df = df.groupby('placeId').head(25)\n",
    "\n",
    "\n",
    "# print the unique places count \n",
    "print(df['placeId'].nunique())\n",
    "\n",
    "print(df.shape)\n",
    "df.to_csv('finetuning_gpt3_sameplaces_only_english_multimod_25perplace.csv', index=False)"
   ]
  },
  {
   "cell_type": "code",
   "execution_count": 31,
   "metadata": {},
   "outputs": [
    {
     "name": "stdout",
     "output_type": "stream",
     "text": [
      "(890, 7)\n",
      "(890, 7)\n"
     ]
    }
   ],
   "source": [
    "# Rows die END enthlaten rausnehmen, für COMPLETION PROMPT WICHTIG\n",
    "df = pd.read_csv (\"finetuning_gpt3_sameplaces_only_english_multimod_25perplace.csv\")\n",
    "print(df.shape)\n",
    "df = df[~df['text'].str.contains(\"END\")]\n",
    "print(df.shape)\n",
    "df.to_csv('finetuning_gpt3_sameplaces_only_english_multimod_25perplace.csv', index=False)"
   ]
  },
  {
   "cell_type": "code",
   "execution_count": 43,
   "metadata": {},
   "outputs": [
    {
     "name": "stdout",
     "output_type": "stream",
     "text": [
      "Rows that appear in both dataframes: 0\n"
     ]
    }
   ],
   "source": [
    "# Checks\n",
    "\n",
    "df_reduced = pd.read_csv(\"base_keywords_sentiment_reduced.csv\")\n",
    "df_fine_tuning = pd.read_csv(\"finetuning_gpt3_sameplaces_only_english_multimod_25perplace.csv\")\n",
    "print(f\"Rows that appear in both dataframes:\" , df_reduced['reviewId'].isin(df_fine_tuning['reviewId']).sum())"
   ]
  },
  {
   "cell_type": "code",
   "execution_count": 44,
   "metadata": {},
   "outputs": [],
   "source": [
    "def generate_prompt_gpt3(row):\n",
    "    category = row[\"categoryName\"]\n",
    "    return f\"A Google Maps review about a {category}. ->\"\n",
    "\n",
    "# def generate_prompt_gpt35turbo(row):\n",
    "#     category = row[\"categoryName\"]\n",
    "#     return f\"Write a Google Maps review about a {category}.\"\n",
    "\n",
    "# def generate_prompt_gpt35turbo(row):\n",
    "#     stars = row[\"stars\"]\n",
    "#     category = row[\"categoryName\"]\n",
    "#     keywords = row[\"keywords_only\"]\n",
    "#     keywords = keywords[1:-1].split(\",\")[:3]\n",
    "#     keywords = [k.strip() for k in keywords]\n",
    "#     keywords = \", \".join(keywords)\n",
    "#     keywords = keywords.replace(\"'\", \"\")\n",
    "#     return f\"Write a {stars} stars Google Maps review about a {category}, with the following keywords: {keywords}.\""
   ]
  },
  {
   "cell_type": "code",
   "execution_count": 46,
   "metadata": {},
   "outputs": [
    {
     "name": "stdout",
     "output_type": "stream",
     "text": [
      "(890, 7)\n",
      "(890, 9)\n",
      "<bound method NDFrame.head of                                                   text  \\\n",
      "0    My husband and I had our anniversary dinner he...   \n",
      "1    Celebrated my wife’s birthday and she loved it...   \n",
      "2    Fresh and well seasoned! I like the aesthetic ...   \n",
      "3    Very beautiful atmosphere and impeccable servi...   \n",
      "4    The entire staff was attentive and so friendly...   \n",
      "..                                                 ...   \n",
      "885  AWESOME!  All employees were great!  The barte...   \n",
      "886  Beautiful location on the worlds most famous b...   \n",
      "887  A disappointment. This used to be the premier ...   \n",
      "888  4 elevators and only 2 in operation\\nBed in ou...   \n",
      "889  Like many have said, the location is perfect, ...   \n",
      "\n",
      "                                 reviewId  \\\n",
      "0    ChdDSUhNMG9nS0VJQ0FnSUNPdFBpYW5nRRAB   \n",
      "1     ChZDSUhNMG9nS0VJQ0FnSUMybmJ2TlZREAE   \n",
      "2    ChdDSUhNMG9nS0VJQ0FnSUMyc3Z1bTdnRRAB   \n",
      "3    ChdDSUhNMG9nS0VJQ0FnSUQtNW8tV2lRRRAB   \n",
      "4     ChZDSUhNMG9nS0VJQ0FnSUMtcTllTU5REAE   \n",
      "..                                    ...   \n",
      "885   ChZDSUhNMG9nS0VJQ0FnSUQtNTVxdE1nEAE   \n",
      "886   ChZDSUhNMG9nS0VJQ0FnSURPOWFqTU93EAE   \n",
      "887   ChZDSUhNMG9nS0VJQ0FnSUMtMGRiZmV3EAE   \n",
      "888   ChZDSUhNMG9nS0VJQ0FnSUNoZ2JXR1pnEAE   \n",
      "889   ChZDSUhNMG9nS0VJQ0FnSURPMHBDZGRBEAE   \n",
      "\n",
      "                                                   url  \\\n",
      "0    https://www.google.de/maps/place/Plate+Restaur...   \n",
      "1    https://www.google.de/maps/place/Plate+Restaur...   \n",
      "2    https://www.google.de/maps/place/Plate+Restaur...   \n",
      "3    https://www.google.de/maps/place/Plate+Restaur...   \n",
      "4    https://www.google.de/maps/place/Plate+Restaur...   \n",
      "..                                                 ...   \n",
      "885  https://www.google.de/maps/place/Hilton+Dayton...   \n",
      "886  https://www.google.de/maps/place/Hilton+Dayton...   \n",
      "887  https://www.google.de/maps/place/Hilton+Dayton...   \n",
      "888  https://www.google.de/maps/place/Hilton+Dayton...   \n",
      "889  https://www.google.de/maps/place/Hilton+Dayton...   \n",
      "\n",
      "                         placeId        categoryName  stars  \\\n",
      "0    ChIJrdyDO6zrwIcRBitx63vp3xw  Italian restaurant    5.0   \n",
      "1    ChIJrdyDO6zrwIcRBitx63vp3xw  Italian restaurant    5.0   \n",
      "2    ChIJrdyDO6zrwIcRBitx63vp3xw  Italian restaurant    5.0   \n",
      "3    ChIJrdyDO6zrwIcRBitx63vp3xw  Italian restaurant    5.0   \n",
      "4    ChIJrdyDO6zrwIcRBitx63vp3xw  Italian restaurant    5.0   \n",
      "..                           ...                 ...    ...   \n",
      "885  ChIJYz_2uRXa5ogRi6ohGgHaaX8               Hotel    5.0   \n",
      "886  ChIJYz_2uRXa5ogRi6ohGgHaaX8               Hotel    4.0   \n",
      "887  ChIJYz_2uRXa5ogRi6ohGgHaaX8               Hotel    3.0   \n",
      "888  ChIJYz_2uRXa5ogRi6ohGgHaaX8               Hotel    2.0   \n",
      "889  ChIJYz_2uRXa5ogRi6ohGgHaaX8               Hotel    4.0   \n",
      "\n",
      "                                     reviewImageUrls/0  \\\n",
      "0    https://lh5.googleusercontent.com/p/AF1QipMWUu...   \n",
      "1    https://lh5.googleusercontent.com/p/AF1QipPI9d...   \n",
      "2    https://lh5.googleusercontent.com/p/AF1QipOXGb...   \n",
      "3    https://lh5.googleusercontent.com/p/AF1QipO2rA...   \n",
      "4    https://lh5.googleusercontent.com/p/AF1QipOsae...   \n",
      "..                                                 ...   \n",
      "885  https://lh5.googleusercontent.com/p/AF1QipPk5Y...   \n",
      "886  https://lh5.googleusercontent.com/p/AF1QipOjDA...   \n",
      "887  https://lh5.googleusercontent.com/p/AF1QipM_a3...   \n",
      "888  https://lh5.googleusercontent.com/p/AF1QipN-IJ...   \n",
      "889  https://lh5.googleusercontent.com/p/AF1QipP9j0...   \n",
      "\n",
      "                                                prompt  \\\n",
      "0    A Google Maps review about a Italian restauran...   \n",
      "1    A Google Maps review about a Italian restauran...   \n",
      "2    A Google Maps review about a Italian restauran...   \n",
      "3    A Google Maps review about a Italian restauran...   \n",
      "4    A Google Maps review about a Italian restauran...   \n",
      "..                                                 ...   \n",
      "885             A Google Maps review about a Hotel. ->   \n",
      "886             A Google Maps review about a Hotel. ->   \n",
      "887             A Google Maps review about a Hotel. ->   \n",
      "888             A Google Maps review about a Hotel. ->   \n",
      "889             A Google Maps review about a Hotel. ->   \n",
      "\n",
      "                                            completion  \n",
      "0    My husband and I had our anniversary dinner he...  \n",
      "1    Celebrated my wife’s birthday and she loved it...  \n",
      "2    Fresh and well seasoned! I like the aesthetic ...  \n",
      "3    Very beautiful atmosphere and impeccable servi...  \n",
      "4    The entire staff was attentive and so friendly...  \n",
      "..                                                 ...  \n",
      "885  AWESOME!  All employees were great!  The barte...  \n",
      "886  Beautiful location on the worlds most famous b...  \n",
      "887  A disappointment. This used to be the premier ...  \n",
      "888  4 elevators and only 2 in operation\\nBed in ou...  \n",
      "889  Like many have said, the location is perfect, ...  \n",
      "\n",
      "[890 rows x 9 columns]>\n"
     ]
    }
   ],
   "source": [
    "df = pd.read_csv (\"finetuning_gpt3_sameplaces_only_english_multimod_25perplace.csv\")\n",
    "print(df.shape)\n",
    "\n",
    "df[\"prompt\"] = df.apply(generate_prompt_gpt3, axis=1)\n",
    "df[\"completion\"] = df[\"text\"]\n",
    "\n",
    "print(df.shape)\n",
    "print(df.head)\n",
    "\n",
    "#df_fine_tuning = pd.read_csv (\"finetuning_gpt3_sameplaces_only_english_multimod_25perplace_pc.csv\")"
   ]
  },
  {
   "attachments": {},
   "cell_type": "markdown",
   "metadata": {},
   "source": [
    "# Option 1: Online-Tool für Finetuning GPT-3."
   ]
  },
  {
   "attachments": {},
   "cell_type": "markdown",
   "metadata": {},
   "source": [
    "# Option 2: Training im CODE (How to fine-tune a GPT-3 model for specific prompts)\n",
    "\n",
    "https://www.indiehackers.com/post/how-to-fine-tune-a-gpt-3-model-using-python-with-your-own-data-for-improved-performance-198dfe51d6"
   ]
  },
  {
   "cell_type": "markdown",
   "metadata": {},
   "source": [
    "I'm constantly looking for ways to automate the work with support requests. An idea has been to fine-tune a GPT-3 model to answer common support-related questions.\n",
    "\n",
    "**Here's how you can fine-tune a GPT-3 model with Python with your own data.**"
   ]
  },
  {
   "cell_type": "markdown",
   "metadata": {},
   "source": [
    "In this walkthrough, we'll fine-tune a GPT-3 model to answer common support-related questions.\n",
    "\n",
    "Detailed step-by-step intructions for this repo in this blog post: https://norahsakal.com/blog/fine-tune-gpt3-model"
   ]
  },
  {
   "attachments": {},
   "cell_type": "markdown",
   "metadata": {},
   "source": [
    "## Define OpenAI API keys"
   ]
  },
  {
   "cell_type": "code",
   "execution_count": null,
   "metadata": {},
   "outputs": [],
   "source": [
    "with open('apikey_openai.txt', 'r') as f:\n",
    "    api_key = f.read()\n",
    "\n",
    "openai.api_key = api_key"
   ]
  },
  {
   "attachments": {},
   "cell_type": "markdown",
   "metadata": {},
   "source": [
    "## Create training data"
   ]
  },
  {
   "cell_type": "markdown",
   "metadata": {},
   "source": [
    "Make sure to end each `prompt` with a suffix. According to the [OpenAI API reference](https://beta.openai.com/docs/guides/fine-tuning \"fine-tuning reference\"), you can use ` ->`.\n",
    "\n",
    "Also, make sure to end each `completion` with a suffix as well; I'm using `.\\n`."
   ]
  },
  {
   "cell_type": "code",
   "execution_count": null,
   "metadata": {},
   "outputs": [],
   "source": [
    "data_file = [{\n",
    "    \"prompt\": \"Prompt ->\",\n",
    "    \"completion\": \" Ideal answer.\\n\"\n",
    "},{\n",
    "    \"prompt\":\"Prompt ->\",\n",
    "    \"completion\": \" Ideal answer.\\n\"\n",
    "}]"
   ]
  },
  {
   "cell_type": "code",
   "execution_count": null,
   "metadata": {},
   "outputs": [],
   "source": [
    "print(data_file)"
   ]
  },
  {
   "attachments": {},
   "cell_type": "markdown",
   "metadata": {},
   "source": [
    "## Save dict as JSONL"
   ]
  },
  {
   "cell_type": "markdown",
   "metadata": {},
   "source": [
    "Training data need to be a JSONL document.\n",
    "JSONL file is a newline-delimited JSON file.\n",
    "More info about JSONL: https://jsonlines.org/"
   ]
  },
  {
   "cell_type": "code",
   "execution_count": null,
   "metadata": {},
   "outputs": [],
   "source": [
    "file_name = \"training_data.jsonl\"\n",
    "\n",
    "with open(file_name, 'w') as outfile:\n",
    "    for entry in data_file:\n",
    "        json.dump(entry, outfile)\n",
    "        outfile.write('\\n')\n",
    "\n",
    "print(\"Done\")\n",
    "print(file_name)\n"
   ]
  },
  {
   "attachments": {},
   "cell_type": "markdown",
   "metadata": {},
   "source": [
    "## Check JSONL file"
   ]
  },
  {
   "cell_type": "code",
   "execution_count": null,
   "metadata": {},
   "outputs": [],
   "source": [
    "!openai tools fine_tunes.prepare_data -f training_data.jsonl"
   ]
  },
  {
   "attachments": {},
   "cell_type": "markdown",
   "metadata": {},
   "source": [
    "## Upload file to your OpenAI account"
   ]
  },
  {
   "cell_type": "code",
   "execution_count": null,
   "metadata": {},
   "outputs": [],
   "source": [
    "upload_response = openai.File.create(\n",
    "  file=open(file_name, \"rb\"),\n",
    "  purpose='fine-tune'\n",
    ")\n",
    "upload_response"
   ]
  },
  {
   "attachments": {},
   "cell_type": "markdown",
   "metadata": {},
   "source": [
    "## Save file name"
   ]
  },
  {
   "cell_type": "code",
   "execution_count": null,
   "metadata": {},
   "outputs": [],
   "source": [
    "file_id = upload_response.id\n",
    "file_id"
   ]
  },
  {
   "attachments": {},
   "cell_type": "markdown",
   "metadata": {},
   "source": [
    "## Fine-tune a model"
   ]
  },
  {
   "cell_type": "markdown",
   "metadata": {},
   "source": [
    "The default model is **Curie**. \n",
    "\n",
    "If you'd like to use **DaVinci** instead, then add it as a base model to fine-tune:\n",
    "\n",
    "```openai.FineTune.create(training_file=file_id, model=\"davinci\")```"
   ]
  },
  {
   "cell_type": "code",
   "execution_count": null,
   "metadata": {},
   "outputs": [],
   "source": [
    "fine_tune_response = openai.FineTune.create(training_file=file_id)\n",
    "fine_tune_response"
   ]
  },
  {
   "attachments": {},
   "cell_type": "markdown",
   "metadata": {},
   "source": [
    "## Check fine-tune progress"
   ]
  },
  {
   "cell_type": "markdown",
   "metadata": {},
   "source": [
    "Check the progress with `openai.FineTune.list_events(id=fine_tune_response.id)` and get a list of all the fine-tuning events"
   ]
  },
  {
   "cell_type": "code",
   "execution_count": null,
   "metadata": {},
   "outputs": [],
   "source": [
    "fine_tune_events = openai.FineTune.list_events(id=fine_tune_response.id)\n",
    "fine_tune_events"
   ]
  },
  {
   "cell_type": "markdown",
   "metadata": {},
   "source": [
    "Check the progress with `openai.FineTune.retrieve(id=fine_tune_response.id)` and get an object with the fine-tuning job data"
   ]
  },
  {
   "cell_type": "code",
   "execution_count": null,
   "metadata": {},
   "outputs": [],
   "source": [
    "retrieve_response = openai.FineTune.retrieve(id=fine_tune_response.id)\n",
    "retrieve_response"
   ]
  },
  {
   "attachments": {},
   "cell_type": "markdown",
   "metadata": {},
   "source": [
    "## Save fine-tuned model"
   ]
  },
  {
   "cell_type": "markdown",
   "metadata": {},
   "source": [
    "### Troubleshooting fine_tuned_model as null\n",
    "During the fine-tuning process, the **fine_tuned_model** key may not be immediately available in the fine_tune_response object returned by `openai.FineTune.create()`.\n",
    "\n",
    "To check the status of your fine-tuning process, you can call the `openai.FineTune.retrieve()` function and pass in the **fine_tune_response.id**. This function will return a JSON object with information about the training status, such as the current epoch, the current batch, the training loss, and the validation loss.\n",
    "\n",
    "After the fine-tuning process is complete, you can check the status of all your fine-tuned models by calling `openai.FineTune.list()`. This will list all of your fine-tunes and their current status.\n",
    "\n",
    "Once the fine-tuning process is complete, you can retrieve the fine_tuned_model key by calling the `openai.FineTune.retrieve()` function again and passing in the fine_tune_response.id. This will return a JSON object with the key fine_tuned_model and the ID of the fine-tuned model that you can use for further completions."
   ]
  },
  {
   "cell_type": "markdown",
   "metadata": {},
   "source": [
    "### Option 1"
   ]
  },
  {
   "cell_type": "markdown",
   "metadata": {},
   "source": [
    "If `fine_tune_response.fine_tuned_model != None` then the key **fine_tuned_model** is availble from the fine_tune_response object"
   ]
  },
  {
   "cell_type": "code",
   "execution_count": null,
   "metadata": {},
   "outputs": [],
   "source": [
    "if fine_tune_response.fine_tuned_model != None:\n",
    "    fine_tuned_model = fine_tune_response.fine_tuned_model"
   ]
  },
  {
   "cell_type": "markdown",
   "metadata": {},
   "source": [
    "### Option 2"
   ]
  },
  {
   "cell_type": "markdown",
   "metadata": {},
   "source": [
    "If `fine_tune_response.fine_tuned_model == None:` you can get the **fine_tuned_model** by listing all fine-tune events"
   ]
  },
  {
   "cell_type": "code",
   "execution_count": null,
   "metadata": {},
   "outputs": [],
   "source": [
    "if fine_tune_response.fine_tuned_model == None:\n",
    "    fine_tune_list = openai.FineTune.list()\n",
    "    fine_tuned_model = fine_tune_list['data'][0].fine_tuned_model"
   ]
  },
  {
   "cell_type": "markdown",
   "metadata": {},
   "source": [
    "### Option 3"
   ]
  },
  {
   "cell_type": "markdown",
   "metadata": {},
   "source": [
    "If `fine_tune_response.fine_tuned_model == None:` you can get the **fine_tuned_model** key by retrieving the fine-tune job"
   ]
  },
  {
   "cell_type": "code",
   "execution_count": null,
   "metadata": {},
   "outputs": [],
   "source": [
    "if fine_tune_response.fine_tuned_model == None:\n",
    "    fine_tuned_model = openai.FineTune.retrieve(id=fine_tune_response.id).fine_tuned_model"
   ]
  },
  {
   "attachments": {},
   "cell_type": "markdown",
   "metadata": {},
   "source": [
    "## Test the new model on a new prompt"
   ]
  },
  {
   "cell_type": "markdown",
   "metadata": {},
   "source": [
    "Remember to end the prompt with the same suffix as we used in the training data; ` ->`:"
   ]
  },
  {
   "cell_type": "code",
   "execution_count": null,
   "metadata": {},
   "outputs": [],
   "source": [
    "new_prompt = \"NEW PROMPT ->\""
   ]
  },
  {
   "cell_type": "code",
   "execution_count": null,
   "metadata": {},
   "outputs": [],
   "source": [
    "answer = openai.Completion.create(\n",
    "  model=fine_tuned_model,\n",
    "  prompt=new_prompt,\n",
    "  max_tokens=10, # Change amount of tokens for longer completion\n",
    "  temperature=0\n",
    ")\n",
    "answer['choices'][0]['text']"
   ]
  }
 ],
 "metadata": {
  "kernelspec": {
   "display_name": "Python 3",
   "language": "python",
   "name": "python3"
  },
  "language_info": {
   "codemirror_mode": {
    "name": "ipython",
    "version": 3
   },
   "file_extension": ".py",
   "mimetype": "text/x-python",
   "name": "python",
   "nbconvert_exporter": "python",
   "pygments_lexer": "ipython3",
   "version": "3.9.13"
  },
  "orig_nbformat": 4
 },
 "nbformat": 4,
 "nbformat_minor": 2
}
