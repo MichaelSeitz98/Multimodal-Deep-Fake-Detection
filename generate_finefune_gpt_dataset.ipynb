{
 "cells": [
  {
   "attachments": {},
   "cell_type": "markdown",
   "metadata": {},
   "source": [
    "Finetuning eines GPT-3-Modell\n",
    "\n",
    "In diesem Notebook wird dein Datensatz zusammengestellt, der ausschließlich zum Finetuning eines GPT-3-Modells dient"
   ]
  },
  {
   "cell_type": "code",
   "execution_count": null,
   "metadata": {},
   "outputs": [],
   "source": [
    "import pandas as pd\n",
    "import torch\n",
    "from transformers import GPT2LMHeadModel, GPT2Tokenizer\n",
    "import re\n",
    "import json\n",
    "import openai\n",
    "import langdetect"
   ]
  },
  {
   "attachments": {},
   "cell_type": "markdown",
   "metadata": {},
   "source": [
    "# Datensatz erstellen für GPT3 Finetuning "
   ]
  },
  {
   "cell_type": "code",
   "execution_count": null,
   "metadata": {},
   "outputs": [],
   "source": [
    "# df_rest = pd.read_csv('01_Raw_Data\\dataset_Google-Maps-Reviews-Restaurants_2023-03-26_09-43-08-320.csv')\n",
    "# df_act = pd.read_csv('01_Raw_Data\\dataset_Google-Maps-Reviews-Activities_2023-03-26_11-08-15-435.csv')\n",
    "# df_hotel = pd.read_csv('01_Raw_Data\\dataset_Google-Maps-Reviews-Hotels_2023-03-26_11-34-16-492.csv')\n",
    "\n",
    "\n",
    "# MIT VIEL MEHR DATEN UND DANN DAFÜR DIE LOCATIONS RAUSSCHMEIßEN\n",
    "\n",
    "df_rest = pd.read_csv('01_Raw_Data\\dataset_Google-Maps-Reviews-Restaurants_v2_2023-03-30_14-05-51-577.csv')\n",
    "df_act = pd.read_csv('01_Raw_Data\\dataset_Google-Maps-Reviews-Activities_v2_2023-04-05_08-52-36-619.csv')\n",
    "df_hotel = pd.read_csv('01_Raw_Data\\dataset_Google-Maps-Reviews-Hotels_v2_2023-04-05_09-21-00-200.csv')\n",
    "\n",
    "print('Restaurants (Shape): ', df_rest.shape)\n",
    "print('Activities (Shape): ', df_act.shape)\n",
    "print('Hotels (Shape): ', df_hotel.shape)"
   ]
  },
  {
   "cell_type": "code",
   "execution_count": null,
   "metadata": {},
   "outputs": [],
   "source": [
    "# add a column genre restaurant to the df_rest\n",
    "df_rest['genre'] = 'restaurant'\n",
    "df_act['genre'] = 'activity'\n",
    "df_hotel['genre'] = 'hotel'"
   ]
  },
  {
   "attachments": {},
   "cell_type": "markdown",
   "metadata": {},
   "source": [
    "Idee: nur den Text berücksichtigen. Noch kein Fokus auf zwei Modalitäten"
   ]
  },
  {
   "cell_type": "code",
   "execution_count": null,
   "metadata": {},
   "outputs": [],
   "source": [
    "df_complete_ft = pd.concat([df_rest, df_act, df_hotel], axis=0)\n",
    "print('All (raw): ', df_complete_ft.shape)\n",
    "df_complete_ft = df_complete_ft.reset_index(drop=True)\n",
    "df_complete_ft = df_complete_ft.drop_duplicates(subset=['reviewId'])\n",
    "print('All (raw): ', df_complete_ft.shape)\n",
    "df_complete_ft = df_complete_ft.dropna(subset=['text'])\n",
    "print('All (raw): ', df_complete_ft.shape)\n",
    "df_complete_ft['text'] = df_complete_ft['text'].astype(str)\n",
    "print('All with text: ', df_complete_ft.shape)\n",
    "# save \n",
    "df_complete_ft.to_csv('01_Raw_Data\\dataset_für_weitere_forschung.csv', index=False)"
   ]
  },
  {
   "cell_type": "code",
   "execution_count": null,
   "metadata": {},
   "outputs": [],
   "source": [
    "df_complete_ft = df_complete_ft[['text', 'reviewId', 'ur\n",
    "l', 'placeId','categoryName', 'stars','title', 'reviewImageUrls/0']]\n",
    "print('All with text: ', df_complete_ft.shape)\n",
    "\n",
    "# drop rows with na in category name\n",
    "df_complete_ft = df_complete_ft.dropna(subset=['categoryName'])\n",
    "print('All with text: ', df_complete_ft.shape)\n",
    "\n",
    "print('Unique categoryNames: ', df_complete_ft['categoryName'].nunique())\n",
    "print('Unique categoryNames: ', df_complete_ft['categoryName'].unique())\n",
    "\n",
    "print('Unique places: ', df_complete_ft['placeId'].nunique())"
   ]
  },
  {
   "cell_type": "code",
   "execution_count": 28,
   "metadata": {},
   "outputs": [
    {
     "name": "stdout",
     "output_type": "stream",
     "text": [
      "All with text:  (10137, 8)\n",
      "All with text:  (10137, 8)\n",
      "Unique categoryNames:  62\n",
      "Unique categoryNames:  ['Mexican restaurant' 'American restaurant' 'Italian restaurant'\n",
      " 'New American restaurant' 'German restaurant' 'Ethiopian restaurant'\n",
      " 'Fast food restaurant' 'Family restaurant' 'Buffet restaurant'\n",
      " 'Restaurant' 'Thai restaurant' 'Bar & grill' 'Seafood restaurant'\n",
      " 'Sushi restaurant' 'Chinese restaurant' 'Ice cream shop'\n",
      " 'Asian fusion restaurant' 'Vegetarian restaurant' 'French restaurant'\n",
      " 'Bistro' 'Grill' 'Fine dining restaurant' 'Steak house'\n",
      " 'Amusement center' 'Museum' 'Zoo' 'Bowling alley' 'Escape room center'\n",
      " 'Tourist attraction' 'Movie theater' 'Miniature golf course'\n",
      " 'Paintball center' 'Water park' 'Video arcade' 'Amusement park'\n",
      " 'Tropical fish store' 'Aquarium' 'Exhibit' 'Boat rental service'\n",
      " 'Theme park' 'Go-kart track' 'Bar' 'Recreation center'\n",
      " 'Indoor playground' \"Children's Amusement Centre\" 'Skate park'\n",
      " 'Public swimming pool' 'Amusement Centre' 'Golf course' 'Golf club'\n",
      " 'Golf driving range' 'Public golf course' 'Indoor swimming pool'\n",
      " 'Natural history museum' 'Hotel' 'Motel' 'Hostel' 'Bed & breakfast'\n",
      " 'Resort hotel' 'Inn' 'Casino' 'Lodge']\n",
      "Unique places:  160\n"
     ]
    }
   ],
   "source": [
    "#  drop all rows with na in reviewImageUrls/0 in df_complete_ft\n",
    "\n",
    "print('All with text: ', df_complete_ft.shape)\n",
    "#df_complete_ft = df_complete_ft.dropna(subset=['reviewImageUrls/0'])\n",
    "print('All with text: ', df_complete_ft.shape)\n",
    "\n",
    "print('Unique categoryNames: ', df_complete_ft['categoryName'].nunique())\n",
    "print('Unique categoryNames: ', df_complete_ft['categoryName'].unique())\n",
    "# how many unique places are there in each category\n",
    "print('Unique places: ', df_complete_ft['placeId'].nunique())\n"
   ]
  },
  {
   "cell_type": "code",
   "execution_count": null,
   "metadata": {},
   "outputs": [],
   "source": [
    "# df_reduced = pd.read_csv('base_keywords_sentiment_reduced.csv')\n",
    "\n",
    "# # drop all rows with na in reviewImageUrls/0\n",
    "# print('All with text: ', df_reduced.shape)\n",
    "# df_reduced = df_reduced.dropna(subset=['reviewImageUrls/0'])\n",
    "# print('All with text: ', df_reduced.shape)\n"
   ]
  },
  {
   "attachments": {},
   "cell_type": "markdown",
   "metadata": {},
   "source": [
    "Jetzt. Andere Sprachen rausfiltern und Einträge die im Base-Datensatz sind rausfiltern. @TODO: RAUSFINDEN, OB AUF ANDERE LOCATOINS TRAINIEREN ODER DIE SELBEN WIE IM BASE_..._.csv Datensatz"
   ]
  },
  {
   "cell_type": "code",
   "execution_count": null,
   "metadata": {},
   "outputs": [],
   "source": [
    "df = pd.read_csv (\"finetuning_gpt3_v2.csv\")\n",
    "df.shape"
   ]
  },
  {
   "cell_type": "code",
   "execution_count": null,
   "metadata": {},
   "outputs": [],
   "source": [
    "def is_english(text):\n",
    "    try:\n",
    "        return langdetect.detect(text) == 'en'\n",
    "    except:\n",
    "        return False\n",
    "\n",
    "print('Starting...', df.shape)\n",
    "df = df[df['text'].apply(is_english)]\n",
    "\n",
    "print('Finsihed only English', df.shape)\n",
    "df.to_csv('finetuning_gpt3_sameplaces_only_english.csv', index=False)"
   ]
  },
  {
   "cell_type": "code",
   "execution_count": null,
   "metadata": {},
   "outputs": [],
   "source": [
    "df = pd.read_csv (\"finetuning_gpt3_sameplaces_only_english_multimod.csv\")\n",
    "print(df.shape)\n",
    "\n",
    "df = df.groupby('placeId').head(25)\n",
    "print(df['placeId'].nunique())\n",
    "\n",
    "print(df.shape)\n",
    "df.to_csv('finetuning_gpt3_sameplaces_only_english_multimod_25perplace.csv', index=False)"
   ]
  },
  {
   "cell_type": "code",
   "execution_count": null,
   "metadata": {},
   "outputs": [],
   "source": [
    "# Rows die END enthlaten rausnehmen, für COMPLETION PROMPT WICHTIG\n",
    "df = pd.read_csv (\"finetuning_gpt3_sameplaces_only_english_multimod_25perplace.csv\")\n",
    "print(df.shape)\n",
    "df = df[~df['text'].str.contains(\"END\")]\n",
    "print(df.shape)\n",
    "df.to_csv('finetuning_gpt3_sameplaces_only_english_multimod_25perplace.csv', index=False)"
   ]
  },
  {
   "cell_type": "code",
   "execution_count": null,
   "metadata": {},
   "outputs": [],
   "source": [
    "df_reduced = pd.read_csv(\"base_keywords_sentiment_reduced.csv\")\n",
    "df_fine_tuning = pd.read_csv(\"finetuning_gpt3_sameplaces_only_english_multimod_25perplace.csv\")\n",
    "print(f\"Rows that appear in both dataframes:\" , df_reduced['reviewId'].isin(df_fine_tuning['reviewId']).sum())"
   ]
  },
  {
   "cell_type": "code",
   "execution_count": null,
   "metadata": {},
   "outputs": [],
   "source": [
    "def generate_prompt_gpt3(row):\n",
    "    category = row[\"categoryName\"]\n",
    "    return f\"A Google Maps review about a {category}.\"\n",
    "\n",
    "# def generate_prompt_gpt35turbo(row):\n",
    "#     category = row[\"categoryName\"]\n",
    "#     return f\"Write a Google Maps review about a {category}.\"\n",
    "\n",
    "# def generate_prompt_gpt35turbo(row):\n",
    "#     stars = row[\"stars\"]\n",
    "#     category = row[\"categoryName\"]\n",
    "#     keywords = row[\"keywords_only\"]\n",
    "#     keywords = keywords[1:-1].split(\",\")[:3]\n",
    "#     keywords = [k.strip() for k in keywords]\n",
    "#     keywords = \", \".join(keywords)\n",
    "#     keywords = keywords.replace(\"'\", \"\")\n",
    "#     return f\"Write a {stars} stars Google Maps review about a {category}, with the following keywords: {keywords}.\""
   ]
  },
  {
   "cell_type": "code",
   "execution_count": null,
   "metadata": {},
   "outputs": [],
   "source": [
    "df = pd.read_csv (\"finetuning_gpt3_sameplaces_only_english_multimod_25perplace.csv\")\n",
    "print(df.shape)\n",
    "\n",
    "df[\"prompt\"] = df.apply(generate_prompt_gpt3, axis=1)\n",
    "df[\"completion\"] = df[\"text\"]\n",
    "\n",
    "print(df.shape)\n",
    "print(df.columns)\n",
    "print(df[['completion','prompt']].head(4999))\n",
    "\n",
    "df.to_csv('finetuning_gpt3_sameplaces_only_english_multimod_25perplace_pc.csv', index=False)"
   ]
  }
 ],
 "metadata": {
  "kernelspec": {
   "display_name": "Python 3",
   "language": "python",
   "name": "python3"
  },
  "language_info": {
   "codemirror_mode": {
    "name": "ipython",
    "version": 3
   },
   "file_extension": ".py",
   "mimetype": "text/x-python",
   "name": "python",
   "nbconvert_exporter": "python",
   "pygments_lexer": "ipython3",
   "version": "3.9.13"
  },
  "orig_nbformat": 4
 },
 "nbformat": 4,
 "nbformat_minor": 2
}
